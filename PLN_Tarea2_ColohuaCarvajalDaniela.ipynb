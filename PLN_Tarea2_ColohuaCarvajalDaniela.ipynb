{
  "nbformat": 4,
  "nbformat_minor": 0,
  "metadata": {
    "colab": {
      "name": "PLN_Tarea2_ColohuaCarvajalDaniela.ipynb",
      "provenance": [],
      "collapsed_sections": [],
      "mount_file_id": "1spmGmIlYwF1-AZSOW-QisfIy32veIeBF",
      "authorship_tag": "ABX9TyN1MqETStW6O2BaW8TOotIM",
      "include_colab_link": true
    },
    "kernelspec": {
      "name": "python3",
      "display_name": "Python 3"
    },
    "language_info": {
      "name": "python"
    }
  },
  "cells": [
    {
      "cell_type": "markdown",
      "metadata": {
        "id": "view-in-github",
        "colab_type": "text"
      },
      "source": [
        "<a href=\"https://colab.research.google.com/github/danielacarv/PLN/blob/main/PLN_Tarea2_ColohuaCarvajalDaniela.ipynb\" target=\"_parent\"><img src=\"https://colab.research.google.com/assets/colab-badge.svg\" alt=\"Open In Colab\"/></a>"
      ]
    },
    {
      "cell_type": "markdown",
      "metadata": {
        "id": "pSMi-xhjaZ8D"
      },
      "source": [
        "# ****Tarea 2****\n",
        "\n",
        "#Alumna: Colohua Carvajal Daniela\n",
        "\n",
        "---\n",
        "\n",
        "Procesamiento de Lenguaje Natural\n",
        "Facultad de Ingeniería, UNAM"
      ]
    },
    {
      "cell_type": "markdown",
      "metadata": {
        "id": "UACjExdma4vU"
      },
      "source": [
        "# Instrucciones\n",
        "\n",
        "A partir del corpus seleccionado en la tarea anterior realizar un modelo del\n",
        "lenguaje neuronal con base en la arquitectura propuesta por Bengio (2003). El\n",
        "corpus ya debe estar preprocesado. S ́ıganse los siguientes pasos:"
      ]
    },
    {
      "cell_type": "markdown",
      "metadata": {
        "id": "Q2Wo8W5xbA38"
      },
      "source": [
        "\n",
        "\n",
        "Comenzamos importando el archivo de la tarea anterior\n",
        "\n",
        "\n"
      ]
    },
    {
      "cell_type": "code",
      "metadata": {
        "id": "CS2e2U6LPMNk"
      },
      "source": [
        "from pln_tarea1_colohuacarvajaldaniela import pers_final \n"
      ],
      "execution_count": 188,
      "outputs": []
    },
    {
      "cell_type": "markdown",
      "metadata": {
        "id": "wOJdOqloUtoY"
      },
      "source": [
        "Paso 1: Palabras stemizadas\n",
        "\n",
        "El corpus con el que se está trabajando es el de la tarea pasada, por lo que en esta ocasión no es necesario realizar la stemización porque esta ya se aplicó al corpus.\n",
        "\n",
        "Se puede ver con la siguiente impresion del corpus"
      ]
    },
    {
      "cell_type": "code",
      "metadata": {
        "colab": {
          "base_uri": "https://localhost:8080/"
        },
        "id": "8omIBpSdUCPU",
        "outputId": "80f81ce9-5241-4218-c748-aad12dc07040"
      },
      "source": [
        "for i in range(10):\n",
        "  print(pers_final[i])\n",
        "\n",
        "print(len(pers_final))"
      ],
      "execution_count": 189,
      "outputs": [
        {
          "output_type": "stream",
          "text": [
            "persuas\n",
            "jane\n",
            "austen\n",
            "1818\n",
            "chapter\n",
            "1\n",
            "sire\n",
            "walter\n",
            "elliot\n",
            "kellynch\n",
            "38383\n"
          ],
          "name": "stdout"
        }
      ]
    },
    {
      "cell_type": "markdown",
      "metadata": {
        "id": "0jrH9BEZ5-ua"
      },
      "source": [
        "Antes de comenzar con los siguientes pasos, se realizaron oraciones para poder indexar y agregar los símbolos de inicio y fin de cadena, por esto, se creó la lista oraciones, en la que se agruparon los tokens en oraciones de 6 palabras cada una."
      ]
    },
    {
      "cell_type": "code",
      "metadata": {
        "colab": {
          "base_uri": "https://localhost:8080/"
        },
        "id": "cN81NhxcW9c_",
        "outputId": "611b2595-e040-4734-c5e8-2d81b0a187f2"
      },
      "source": [
        "oraciones = [] #Para guardar todas las oraciones\n",
        "\n",
        "tupla = []  # Para guardar una oracion\n",
        "count = 0  #Contador para palabras en cada oracion\n",
        "for i in range(len(pers_final)): #Recorre cada palabra del corpus \n",
        "  if (count < 5):  #Para condicionar el numero de palabras por oracion\n",
        "    tupla.append(pers_final[i]) #Se agrega la palabra a la oracion\n",
        "    count += 1   #Cuenta palabras\n",
        "  else:\n",
        "    tupla.append(pers_final[i])  #agrega ultima palabra a la oracion\n",
        "    oraciones.append(tupla)   #Agrega la oracion creada\n",
        "    tupla = []   #Limpia para guardar otra otra oracion\n",
        "    count = 0     #Reinicia contador de palabras\n",
        "  \n",
        "for i in range(10):\n",
        "  print(oraciones[i])\n"
      ],
      "execution_count": 204,
      "outputs": [
        {
          "output_type": "stream",
          "text": [
            "['persuas', 'jane', 'austen', '1818', 'chapter', '1']\n",
            "['sire', 'walter', 'elliot', 'kellynch', 'hall', 'somersetshir']\n",
            "['mane', 'amus', 'never', 'took', 'book', 'baronetag']\n",
            "['found', 'occup', 'idl', 'hour', 'consol', 'distress']\n",
            "['one', 'faculti', 'rous', 'admir', 'respect', 'contempl']\n",
            "['limit', 'remnant', 'earliest', 'patent', 'unwelcom', 'sensat']\n",
            "['aris', 'domestic', 'affair', 'chang', 'natur', 'piti']\n",
            "['contempt', 'turn', 'almost', 'endless', 'creation', 'last']\n",
            "['centuri', 'everi', 'leaf', 'powerless', 'could', 'read']\n",
            "['histori', 'interest', 'never', 'fail', 'page', 'favourit']\n"
          ],
          "name": "stdout"
        }
      ]
    },
    {
      "cell_type": "markdown",
      "metadata": {
        "id": "WnnTcal6W3Ob"
      },
      "source": [
        "2. Insertar símbolos de inicio y final de cadena\n",
        "\n",
        "se inserta BOS para inicio de cadena y EOS para final de cadena"
      ]
    },
    {
      "cell_type": "code",
      "metadata": {
        "colab": {
          "base_uri": "https://localhost:8080/"
        },
        "id": "uSNKb-slKxxn",
        "outputId": "8642de47-8d9b-4537-be5a-60bf81da9215"
      },
      "source": [
        "def inicio_fin(corpus):\n",
        "  BOS = 'BOS'\n",
        "  EOS = 'EOS'\n",
        "\n",
        "  inserta_sim = []\n",
        "  for cadena in corpus:\n",
        "    inserta_sim.append([BOS] + cadena + [EOS])\n",
        "  return inserta_sim\n",
        "\n",
        "simbolos = inicio_fin(oraciones)\n",
        "for i in range(10):\n",
        "  print(simbolos[i])"
      ],
      "execution_count": 205,
      "outputs": [
        {
          "output_type": "stream",
          "text": [
            "['BOS', 'persuas', 'jane', 'austen', '1818', 'chapter', '1', 'EOS']\n",
            "['BOS', 'sire', 'walter', 'elliot', 'kellynch', 'hall', 'somersetshir', 'EOS']\n",
            "['BOS', 'mane', 'amus', 'never', 'took', 'book', 'baronetag', 'EOS']\n",
            "['BOS', 'found', 'occup', 'idl', 'hour', 'consol', 'distress', 'EOS']\n",
            "['BOS', 'one', 'faculti', 'rous', 'admir', 'respect', 'contempl', 'EOS']\n",
            "['BOS', 'limit', 'remnant', 'earliest', 'patent', 'unwelcom', 'sensat', 'EOS']\n",
            "['BOS', 'aris', 'domestic', 'affair', 'chang', 'natur', 'piti', 'EOS']\n",
            "['BOS', 'contempt', 'turn', 'almost', 'endless', 'creation', 'last', 'EOS']\n",
            "['BOS', 'centuri', 'everi', 'leaf', 'powerless', 'could', 'read', 'EOS']\n",
            "['BOS', 'histori', 'interest', 'never', 'fail', 'page', 'favourit', 'EOS']\n"
          ],
          "name": "stdout"
        }
      ]
    },
    {
      "cell_type": "markdown",
      "metadata": {
        "id": "ZrZgKCjkO0nO"
      },
      "source": [
        "3. Obtener los bigramas que aparecen en el texto (indexar numéricamente)"
      ]
    },
    {
      "cell_type": "code",
      "metadata": {
        "colab": {
          "base_uri": "https://localhost:8080/"
        },
        "id": "3moqI16rCYzg",
        "outputId": "cec70e39-0e4f-4fec-b3c2-8454d8ad0b46"
      },
      "source": [
        "def indices(msg):\n",
        "  dic = {}\n",
        "  indice = 0\n",
        "  aux_BE = []\n",
        "  for palabra in msg:\n",
        "    for elemento in palabra:\n",
        "      if elemento not in dic and elemento != 'BOS' and elemento != 'EOS':\n",
        "        dic[elemento] = indice\n",
        "        indice += 1  \n",
        "      elif(elemento == 'BOS' or elemento == 'EOS'):\n",
        "        #print(elemento)\n",
        "        if elemento not in aux_BE:\n",
        "          aux_BE.append(elemento)\n",
        "  print(aux_BE)\n",
        "  for be in aux_BE:\n",
        "      #print(max(dic.values()))\n",
        "      if be == 'EOS':\n",
        "        dic[be] = max(dic.values()) + 1\n",
        "      else:\n",
        "        dic[be] = max(dic.values()) + 2\n",
        "  return dic\n",
        "\n",
        "dic_indices = indices(simbolos)\n",
        "print(dic_indices)\n",
        "#print(max(dic_indices.values()))\n",
        "#a = dic_indices['BOS']\n",
        "#b = dic_indices['EOS']\n",
        "#print(a)\n",
        "#print(b)\n",
        "\n"
      ],
      "execution_count": 207,
      "outputs": [
        {
          "output_type": "stream",
          "text": [
            "['BOS', 'EOS']\n",
            "{'persuas': 0, 'jane': 1, 'austen': 2, '1818': 3, 'chapter': 4, '1': 5, 'sire': 6, 'walter': 7, 'elliot': 8, 'kellynch': 9, 'hall': 10, 'somersetshir': 11, 'mane': 12, 'amus': 13, 'never': 14, 'took': 15, 'book': 16, 'baronetag': 17, 'found': 18, 'occup': 19, 'idl': 20, 'hour': 21, 'consol': 22, 'distress': 23, 'one': 24, 'faculti': 25, 'rous': 26, 'admir': 27, 'respect': 28, 'contempl': 29, 'limit': 30, 'remnant': 31, 'earliest': 32, 'patent': 33, 'unwelcom': 34, 'sensat': 35, 'aris': 36, 'domestic': 37, 'affair': 38, 'chang': 39, 'natur': 40, 'piti': 41, 'contempt': 42, 'turn': 43, 'almost': 44, 'endless': 45, 'creation': 46, 'last': 47, 'centuri': 48, 'everi': 49, 'leaf': 50, 'powerless': 51, 'could': 52, 'read': 53, 'histori': 54, 'interest': 55, 'fail': 56, 'page': 57, 'favourit': 58, 'volum': 59, 'always': 60, 'open': 61, 'born': 62, 'march': 63, '1760': 64, 'marri': 65, 'juli': 66, '15': 67, '1784': 68, 'elizabeth': 69, 'daughter': 70, 'james': 71, 'stevenson': 72, 'esq': 73, 'south': 74, 'park': 75, 'counti': 76, 'gloucester': 77, 'ladi': 78, 'die': 79, '1800': 80, 'issu': 81, 'june': 82, '1785': 83, 'ann': 84, 'august': 85, '9': 86, '1787': 87, 'still': 88, 'sone': 89, 'november': 90, '5': 91, '1789': 92, 'mari': 93, '20': 94, '1791': 95, 'precis': 96, 'paragraph': 97, 'origin': 98, 'stood': 99, 'printer': 100, 'hand': 101, 'improv': 102, 'add': 103, 'inform': 104, 'famili': 105, 'word': 106, 'date': 107, 'birth': 108, 'december': 109, '16': 110, '1810': 111, 'charles': 112, 'heir': 113, 'musgrov': 114, 'uppercross': 115, 'somerset': 116, 'insert': 117, 'accur': 118, 'day': 119, 'month': 120, 'lost': 121, 'wife': 122, 'follow': 123, 'rise': 124, 'ancient': 125, 'usual': 126, 'term': 127, 'first': 128, 'settl': 129, 'cheshir': 130, 'mention': 131, 'dugdal': 132, 'serv': 133, 'offic': 134, 'high': 135, 'sheriff': 136, 'repres': 137, 'borough': 138, 'three': 139, 'success': 140, 'parliam': 141, 'exert': 142, 'loyalti': 143, 'digniti': 144, 'baronet': 145, 'year': 146, 'ii': 147, 'marys': 148, 'form': 149, 'altogether': 150, 'two': 151, 'handsom': 152, 'duodecimo': 153, 'pages': 154, 'conclud': 155, 'arm': 156, 'motto': 157, 'principal': 158, 'seat': 159, 'handwrit': 160, 'final': 161, 'presumpt': 162, 'william': 163, 'great': 164, 'grandson': 165, 'second': 166, 'vaniti': 167, 'beginn': 168, 'end': 169, 'character': 170, 'person': 171, 'situat': 172, 'remark': 173, 'youth': 174, 'fifti': 175, 'four': 176, 'fine': 177, 'women': 178, 'think': 179, 'personal': 180, 'appear': 181, 'valet': 182, 'new': 183, 'made': 184, 'lord': 185, 'delight': 186, 'place': 187, 'held': 188, 'societi': 189, 'consider': 190, 'bless': 191, 'beauti': 192, 'inferior': 193, 'baronetci': 194, 'unit': 195, 'gift': 196, 'constant': 197, 'object': 198, 'warmest': 199, 'devot': 200, 'good': 201, 'look': 202, 'rank': 203, 'fair': 204, 'claim': 205, 'attach': 206, 'sinc': 207, 'must': 208, 'ow': 209, 'superior': 210, 'thing': 211, 'deserv': 212, 'excel': 213, 'woman': 214, 'sensibl': 215, 'amiabl': 216, 'whose': 217, 'judgem': 218, 'conduct': 219, 'might': 220, 'pardon': 221, 'youthful': 222, 'infatu': 223, 'requir': 224, 'indulg': 225, 'afterward': 226, 'humour': 227, 'soften': 228, 'conceal': 229, 'promot': 230, 'real': 231, 'seventeen': 232, 'though': 233, 'happiest': 234, 'world': 235, 'enough': 236, 'duti': 237, 'friend': 238, 'children': 239, 'life': 240, 'make': 241, 'matter': 242, 'indiffer': 243, 'call': 244, 'quit': 245, 'girl': 246, 'eldest': 247, 'sixteen': 248, 'fourteen': 249, 'awful': 250, 'legaci': 251, 'mother': 252, 'bequeath': 253, 'charg': 254, 'rather': 255, 'confid': 256, 'author': 257, 'guidanc': 258, 'conceit': 259, 'silli': 260, 'father': 261, 'however': 262, 'intim': 263, 'brought': 264, 'strong': 265, 'close': 266, 'villag': 267, 'kind': 268, 'advic': 269, 'main': 270, 'reli': 271, 'best': 272, 'help': 273, 'mainten': 274, 'principles': 275, 'instruct': 276, 'anxious': 277, 'give': 278, 'whatever': 279, 'anticip': 280, 'head': 281, 'acquaint': 282, 'thirteen': 283, 'pass': 284, 'away': 285, 'death': 286, 'near': 287, 'neighbour': 288, 'remain': 289, 'widower': 290, 'widow': 291, 'russel': 292, 'steadi': 293, 'age': 294, 'extrem': 295, 'well': 296, 'provid': 297, 'thought': 298, 'marriag': 299, 'ne': 300, 'apolog': 301, 'public': 302, 'apt': 303, 'unreason': 304, 'discont': 305, 'continu': 306, 'singl': 307, 'requires': 308, 'explan': 309, 'known': 310, 'like': 311, 'mete': 312, 'privat': 313, 'disappoint': 314, 'applic': 315, 'pride': 316, 'dear': 317, 'sake': 318, 'would': 319, 'realli': 320, 'given': 321, 'much': 322, 'tempt': 323, 'succeed': 324, 'possibl': 325, 'right': 326, 'consequ': 327, 'influenc': 328, 'gone': 329, 'together': 330, 'happili': 331, 'valu': 332, 'acquir': 333, 'littl': 334, 'artifici': 335, 'import': 336, 'becom': 337, 'mrs': 338, 'eleg': 339, 'mind': 340, 'sweet': 341, 'peopl': 342, 'understand': 343, 'nobodi': 344, 'either': 345, 'sister': 346, 'weight': 347, 'conveni': 348, 'way': 349, 'ine': 350, 'gode': 351, 'love': 352, 'fanci': 353, 'reviv': 354, 'pretti': 355, 'bloom': 356, 'vanish': 357, 'ear': 358, 'even': 359, 'height': 360, 'total': 361, 'differ': 362, 'delic': 363, 'features': 364, 'mild': 365, 'dark': 366, 'eyes': 367, 'noth': 368, 'fade': 369, 'thine': 370, 'excit': 371, 'esteem': 372, 'hope': 373, 'none': 374, 'ever': 375, 'name': 376, 'work': 377, 'equal': 378, 'allianc': 379, 'rest': 380, 'mere': 381, 'connect': 382, 'old': 383, 'countri': 384, 'larg': 385, 'fortun': 386, 'therefor': 387, 'honour': 388, 'receiv': 389, 'suitabl': 390, 'sometimes': 391, 'happen': 392, 'handsomer': 393, 'twenty': 394, 'nine': 395, 'tene': 396, 'gener': 397, 'speak': 398, 'neither': 399, 'ill': 400, 'health': 401, 'anxieti': 402, 'time': 403, 'scarc': 404, 'charm': 405, 'miss': 406, 'begun': 407, 'ago': 408, 'excus': 409, 'forgett': 410, 'least': 411, 'deem': 412, 'half': 413, 'fool': 414, 'amidst': 415, 'wreck': 416, 'everybodi': 417, 'els': 418, 'plain': 419, 'see': 420, 'grow': 421, 'haggard': 422, 'coars': 423, 'face': 424, 'neighbourhood': 425, 'worst': 426, 'rapid': 427, 'increas': 428, 'crow': 429, 'foot': 430, 'temples': 431, 'long': 432, 'content': 433, 'seen': 434, 'mistress': 435, 'presid': 436, 'direct': 437, 'self': 438, 'possess': 439, 'decis': 440, 'idea': 441, 'younger': 442, 'lay': 443, 'law': 444, 'home': 445, 'lead': 446, 'chais': 447, 'walk': 448, 'immedi': 449, 'draw': 450, 'room': 451, 'dine': 452, 'winter': 453, 'revolv': 454, 'frost': 455, 'ball': 456, 'credit': 457, 'scanti': 458, 'afford': 459, 'spring': 460, 'shewn': 461, 'blossom': 462, 'travel': 463, 'london': 464, 'week': 465, 'annual': 466, 'enjoym': 467, 'remembr': 468, 'conscious': 469, 'regret': 470, 'apprehens': 471, 'fulli': 472, 'satisfi': 473, 'felt': 474, 'approach': 475, 'danger': 476, 'rejoic': 477, 'certain': 478, 'proper': 479, 'solicit': 480, 'blood': 481, 'within': 482, 'next': 483, 'twelvemonth': 484, 'take': 485, 'present': 486, 'youngest': 487, 'evil': 488, 'left': 489, 'tabl': 490, 'avert': 491, 'push': 492, 'moreover': 493, 'especi': 494, 'support': 495, 'young': 496, 'soon': 497, 'event': 498, 'brother': 499, 'futur': 500, 'meant': 501, 'boy': 502, 'sought': 503, 'overtures': 504, 'warmth': 505, 'persever': 506, 'seek': 507, 'allow': 508, 'modest': 509, 'back': 510, 'excurs': 511, 'mr': 512, 'forc': 513, 'introduct': 514, 'engag': 515, 'studi': 516, 'agreeabl': 517, 'plane': 518, 'favour': 519, 'confirm': 520, 'invit': 521, 'talk': 522, 'expect': 523, 'came': 524, 'town': 525, 'encourag': 526, 'come': 527, 'tide': 528, 'instead': 529, 'line': 530, 'mark': 531, 'hous': 532, 'purchas': 533, 'independ': 534, 'rich': 535, 'resent': 536, 'ought': 537, 'consult': 538, 'observ': 539, 'tattersal': 540, 'twice': 541, 'lobbi': 542, 'common': 543, 'disapprob': 544, 'express': 545, 'appar': 546, 'regard': 547, 'attempt': 548, 'unsolicit': 549, 'longer': 550, 'notic': 551, 'unworthi': 552, 'ceas': 553, 'awkward': 554, 'interval': 555, 'several': 556, 'anger': 557, 'match': 558, 'z': 559, 'feel': 560, 'will': 561, 'acknowledg': 562, 'yet': 563, 'miser': 564, 'summer': 565, '1814': 566, 'wear': 567, 'black': 568, 'ribbon': 569, 'admit': 570, 'worth': 571, 'disgrac': 572, 'perhap': 573, 'reason': 574, 'suppos': 575, 'perpetuat': 576, 'offspr': 577, 'gote': 578, 'done': 579, 'wors': 580, 'accustomari': 581, 'intervent': 582, 'spoken': 583, 'disrespect': 584, 'slight': 585, 'contemptu': 586, 'belong': 587, 'hereafter': 588, 'sentim': 589, 'cares': 590, 'alloy': 591, 'agit': 592, 'vari': 593, 'same': 594, 'prosper': 595, 'nothing': 596, 'scene': 597, 'uneventful': 598, 'resid': 599, 'circl': 600, 'fill': 601, 'vacanc': 602, 'habit': 603, 'util': 604, 'abroad': 605, 'talent': 606, 'accomplish': 607, 'occupi': 608, 'another': 609, 'solicitud': 610, 'money': 611, 'knew': 612, 'drive': 613, 'heavi': 614, 'bill': 615, 'tradespeopl': 616, 'hint': 617, 'shepherd': 618, 'agent': 619, 'properti': 620, 'state': 621, 'possessor': 622, 'live': 623, 'method': 624, 'moder': 625, 'economi': 626, 'kept': 627, 'incom': 628, 'minded': 629, 'period': 630, 'exceed': 631, 'spend': 632, 'less': 633, 'imperi': 634, 'blameless': 635, 'dread': 636, 'debt': 637, 'hear': 638, 'often': 639, 'becam': 640, 'vain': 641, 'partial': 642, 'fare': 643, 'say': 644, 'retrench': 645, 'occur': 646, 'articl': 647, 'justic': 648, 'ardour': 649, 'femal': 650, 'alarm': 651, 'sete': 652, 'serious': 653, 'propos': 654, 'branches': 655, 'cute': 656, 'unnecessari': 657, 'chariti': 658, 'refrain': 659, 'furnish': 660, 'expedi': 661, 'happi': 662, 'custom': 663, 'measures': 664, 'insuffici': 665, 'extent': 666, 'whole': 667, 'oblig': 668, 'confess': 669, 'deeper': 670, 'efficaci': 671, 'use': 672, 'unfortun': 673, 'abl': 674, 'devis': 675, 'mean': 676, 'lessen': 677, 'expenses': 678, 'without': 679, 'compromis': 680, 'relinquish': 681, 'comfort': 682, 'small': 683, 'part': 684, 'estat': 685, 'dispos': 686, 'acr': 687, 'alien': 688, 'condescend': 689, 'mortgag': 690, 'power': 691, 'sell': 692, 'transmitt': 693, 'entir': 694, 'confidenti': 695, 'market': 696, 'advis': 697, 'seem': 698, 'someth': 699, 'struck': 700, 'remov': 701, 'embarrass': 702, 'reduc': 703, 'expenditur': 704, 'involv': 705, 'loss': 706, 'tast': 707, '2': 708, 'civil': 709, 'cautious': 710, 'lawyer': 711, 'hold': 712, 'view': 713, 'disagre': 714, 'prompt': 715, 'anybodi': 716, 'offer': 717, 'slightest': 718, 'begg': 719, 'leav': 720, 'recommend': 721, 'implicit': 722, 'refer': 723, 'sens': 724, 'resolut': 725, 'adopt': 726, 'zealous': 727, 'subject': 728, 'gave': 729, 'sound': 730, 'quick': 731, 'abil': 732, 'difficulti': 733, 'instanc': 734, 'opposit': 735, 'strict': 736, 'integr': 737, 'desir': 738, 'save': 739, 'aristocratic': 740, 'ideas': 741, 'due': 742, 'honesti': 743, 'benevol': 744, 'charit': 745, 'capabl': 746, 'correct': 747, 'notion': 748, 'decorum': 749, 'manner': 750, 'standard': 751, 'breed': 752, 'cultiv': 753, 'rational': 754, 'consist': 755, 'prejudices': 756, 'side': 757, 'ancestri': 758, 'blind': 759, 'fault': 760, 'knight': 761, 'attent': 762, 'landlord': 763, 'husband': 764, 'entitl': 765, 'deal': 766, 'compass': 767, 'doubt': 768, 'pain': 769, 'drew': 770, 'exact': 771, 'calcul': 772, 'other': 773, 'question': 774, 'degre': 775, 'scheme': 776, 'submitt': 777, 'emend': 778, 'want': 779, 'vigor': 780, 'complet': 781, 'reform': 782, 'quicker': 783, 'releas': 784, 'higher': 785, 'tone': 786, 'everyth': 787, 'equiti': 788, 'persuad': 789, 'said': 790, 'paper': 791, 'may': 792, 'regul': 793, 'seven': 794, 'clear': 795, 'convinc': 796, 'cannot': 797, 'affect': 798, 'reduct': 799, 'true': 800, 'act': 801, 'principl': 802, 'fact': 803, 'mani': 804, 'singular': 805, 'case': 806, 'makes': 807, 'suffer': 808, 'prevail': 809, 'decid': 810, 'contract': 811, 'pay': 812, 'gentleman': 813, 'honest': 814, 'proceed': 815, 'urg': 816, 'indispens': 817, 'creditor': 818, 'expedit': 819, 'comprehens': 820, 'secur': 821, 'saw': 822, 'anyth': 823, 'short': 824, 'prescrib': 825, 'rate': 826, 'sever': 827, 'denial': 828, 'conscienc': 829, 'believ': 830, 'knowledg': 831, 'inclin': 832, 'sacrific': 833, 'pair': 834, 'horses': 835, 'hard': 836, 'painful': 837, 'list': 838, 'gentl': 839, 'rigid': 840, 'requisit': 841, 'taken': 842, 'pute': 843, 'knock': 844, 'journeys': 845, 'servant': 846, 'restrict': 847, 'decenc': 848, 'sooner': 849, 'disgraceful': 850, 'realiti': 851, 'perfect': 852, 'abod': 853, 'start': 854, 'quarter': 855, 'dictat': 856, 'scrupl': 857, 'materi': 858, 'alter': 859, 'style': 860, 'hospit': 861, 'judg': 862, 'modes': 863, 'choos': 864, 'model': 865, 'household': 866, 'days': 867, 'indecis': 868, 'whither': 869, 'go': 870, 'outlin': 871, 'alternatives': 872, 'bath': 873, 'wishes': 874, 'latter': 875, 'pleasur': 876, 'lawn': 877, 'groves': 878, 'ambit': 879, 'fate': 880, 'attend': 881, 'fix': 882, 'dislik': 883, 'trust': 884, 'skilful': 885, 'dissuad': 886, 'preferr': 887, 'safer': 888, 'predica': 889, 'compar': 890, 'expens': 891, 'advantages': 892, 'cours': 893, 'distanc': 894, 'miles': 895, 'satisfact': 896, 'project': 897, 'induc': 898, 'lose': 899, 'oppos': 900, 'descend': 901, 'mortif': 902, 'foresaw': 903, 'dreadful': 904, 'prejudic': 905, 'mistak': 906, 'circumst': 907, 'school': 908, 'spirit': 909, 'spent': 910, 'fond': 911, 'suit': 912, 'warm': 913, 'lodg': 914, 'avoid': 915, 'larger': 916, 'undesir': 917, 'strengthen': 918, 'engraft': 919, 'trial': 920, 'fortitud': 921, 'stronger': 922, 'lete': 923, 'profound': 924, 'secret': 925, 'breath': 926, 'beyond': 927, 'degrad': 928, 'design': 929, 'lett': 930, 'advertis': 931, 'dare': 932, 'spurn': 933, 'forbad': 934, 'dropp': 935, 'intent': 936, 'supposit': 937, 'spontan': 938, 'unexception': 939, 'approv': 940, 'glade': 941, 'lately': 942, 'intimaci': 943, 'wish': 944, 'interrupt': 945, 'return': 946, 'unprosper': 947, 'additional': 948, 'burden': 949, 'clever': 950, 'understood': 951, 'art': 952, 'pleas': 953, 'accept': 954, 'alreadi': 955, 'stay': 956, 'spite': 957, 'friendship': 958, 'caution': 959, 'reserv': 960, 'outward': 961, 'observances': 962, 'complais': 963, 'point': 964, 'carri': 965, 'previous': 966, 'repeat': 967, 'earnest': 968, 'trying': 969, 'gete': 970, 'includ': 971, 'visit': 972, 'injustic': 973, 'discredit': 974, 'selfish': 975, 'arrang': 976, 'shute': 977, 'lesser': 978, 'occas': 979, 'endeavour': 980, 'advantag': 981, 'better': 982, 'experi': 983, 'pursu': 984, 'select': 985, 'clay': 986, 'bestow': 987, 'distant': 988, 'estim': 989, 'unequ': 990, 'companion': 991, 'removal': 992, 'behind': 993, 'bring': 994, 'choic': 995, 'intimates': 996, 'reach': 997, '3': 998, 'morn': 999, 'laid': 1000, 'newspaper': 1001, 'junctur': 1002, 'peac': 1003, 'naval': 1004, 'officer': 1005, 'ashor': 1006, 'tenant': 1007, 'respons': 1008, 'nobl': 1009, 'ware': 1010, 'admiral': 1011, 'lucki': 1012, 'repli': 1013, 'prize': 1014, 'greatest': 1015, 'hey': 1016, 'laugh': 1017, 'wite': 1018, 'presum': 1019, 'busi': 1020, 'gentlemen': 1021, 'navi': 1022, 'free': 1023, 'liberal': 1024, 'likely': 1025, 'meet': 1026, 'suggest': 1027, 'rumour': 1028, 'gett': 1029, 'know': 1030, 'difficult': 1031, 'keep': 1032, 'action': 1033, 'curios': 1034, 'tax': 1035, 'john': 1036, 'chose': 1037, 'upon': 1038, 'elud': 1039, 'thuse': 1040, 'ventur': 1041, 'surpris': 1042, 'truth': 1043, 'unquestion': 1044, 'wealthi': 1045, 'commander': 1046, 'particular': 1047, 'bege': 1048, 'troubl': 1049, 'nodd': 1050, 'pace': 1051, 'sarcast': 1052, 'among': 1053, 'imagin': 1054, 'find': 1055, 'descript': 1056, 'around': 1057, 'driven': 1058, 'agre': 1059, 'sailor': 1060, 'profess': 1061, 'besides': 1062, 'liber': 1063, 'neat': 1064, 'careful': 1065, 'ways': 1066, 'valuabl': 1067, 'pictures': 1068, 'safe': 1069, 'care': 1070, 'garden': 1071, 'shrubberi': 1072, 'order': 1073, 'afraid': 1074, 'flower': 1075, 'neglect': 1076, 'rejoin': 1077, 'coolli': 1078, 'privileges': 1079, 'annex': 1080, 'mene': 1081, 'rang': 1082, 'impos': 1083, 'ground': 1084, 'guard': 1085, 'grant': 1086, 'extraordinari': 1087, 'assur': 1088, 'soldier': 1089, 'paus': 1090, 'cases': 1091, 'establish': 1092, 'usages': 1093, 'easi': 1094, 'depend': 1095, 'jealous': 1096, 'spoke': 1097, 'says': 1098, 'rejoinder': 1099, 'ohe': 1100, 'sorri': 1101, 'mine': 1102, 'yes': 1103, 'offens': 1104, 'obscur': 1105, 'undu': 1106, 'distinct': 1107, 'rais': 1108, 'grandfather': 1109, 'dreamt': 1110, 'vigour': 1111, 'horribl': 1112, 'greater': 1113, 'insult': 1114, 'disdain': 1115, 'prematur': 1116, 'disgust': 1117, 'compani': 1118, 'strike': 1119, 'instances': 1120, 'st': 1121, 'ives': 1122, 'curat': 1123, 'bread': 1124, 'eat': 1125, 'baldwin': 1126, 'deplor': 1127, 'personag': 1128, 'colour': 1129, 'mahogani': 1130, 'rough': 1131, 'rugg': 1132, 'lines': 1133, 'wrinkles': 1134, 'grey': 1135, 'hair': 1136, 'dabe': 1137, 'powder': 1138, 'tope': 1139, 'heaven': 1140, 'fellow': 1141, 'stand': 1142, 'basil': 1143, 'morley': 1144, 'crie': 1145, 'sixti': 1146, 'forti': 1147, 'pictur': 1148, 'amaz': 1149, 'shall': 1150, 'easili': 1151, 'forget': 1152, 'wretch': 1153, 'exampl': 1154, 'sea': 1155, 'expos': 1156, 'climat': 1157, 'weather': 1158, 'till': 1159, 'fite': 1160, 'nay': 1161, 'merci': 1162, 'poor': 1163, 'beautifi': 1164, 'betimes': 1165, 'activ': 1166, 'servic': 1167, 'quieter': 1168, 'toil': 1169, 'labour': 1170, 'bodi': 1171, 'seldom': 1172, 'leaves': 1173, 'natural': 1174, 'effect': 1175, 'plode': 1176, 'worn': 1177, 'physician': 1178, 'clergyman': 1179, 'stopt': 1180, 'moment': 1181, 'infect': 1182, 'injuri': 1183, 'poison': 1184, 'atmospher': 1185, 'necessari': 1186, 'lote': 1187, 'regular': 1188, 'pursuit': 1189, 'torment': 1190, 'utmost': 1191, 'bespeak': 1192, 'toward': 1193, 'foresight': 1194, 'croft': 1195, 'fell': 1196, 'session': 1197, 'taunton': 1198, 'correspond': 1199, 'report': 1200, 'hasten': 1201, 'nativ': 1202, 'places': 1203, 'accident': 1204, 'foretold': 1205, 'concern': 1206, 'owner': 1207, 'introduc': 1208, 'inquiri': 1209, 'confer': 1210, 'explicit': 1211, 'account': 1212, 'proof': 1213, 'elig': 1214, 'cold': 1215, 'suspici': 1216, 'answer': 1217, 'rear': 1218, 'white': 1219, 'trafalgar': 1220, 'east': 1221, 'indi': 1222, 'station': 1223, 'orang': 1224, 'cuff': 1225, 'capes': 1226, 'liveri': 1227, 'hale': 1228, 'hearti': 1229, 'beaten': 1230, 'sure': 1231, 'behaviour': 1232, 'smallest': 1233, 'rent': 1234, 'readi': 1235, 'fetch': 1236, 'ask': 1237, 'inquir': 1238, 'manor': 1239, 'deput': 1240, 'gune': 1241, 'kill': 1242, 'eloqu': 1243, 'circumstances': 1244, 'peculiar': 1245, 'whether': 1246, 'furnitur': 1247, 'preserver': 1248, 'genteel': 1249, 'shrewd': 1250, 'taxes': 1251, 'convers': 1252, 'unconnect': 1253, 'amongst': 1254, 'told': 1255, 'monkford': 1256, 'recollect': 1257, 'heard': 1258, 'penelop': 1259, 'eager': 1260, 'appeal': 1261, 'concept': 1262, 'remember': 1263, 'governor': 1264, 'trent': 1265, 'odd': 1266, 'sight': 1267, 'hundr': 1268, 'times': 1269, 'trespass': 1270, 'farmer': 1271, 'break': 1272, 'orchard': 1273, 'wall': 1274, 'torn': 1275, 'apples': 1276, 'stolen': 1277, 'caught': 1278, 'contrari': 1279, 'amic': 1280, 'wait': 1281, 'wentworth': 1282, 'gratitud': 1283, 'curacy': 1284, 'ay': 1285, 'misl': 1286, 'strafford': 1287, 'wonder': 1288, 'names': 1289, 'nobil': 1290, 'perceiv': 1291, 'connexion': 1292, 'zeal': 1293, 'dwell': 1294, 'indisput': 1295, 'number': 1296, 'dues': 1297, 'eye': 1298, 'anyon': 1299, 'intend': 1300, 'inhabit': 1301, 'infinit': 1302, 'permitt': 1303, 'highest': 1304, 'proee': 1305, 'treaty': 1306, 'authoris': 1307, 'wise': 1308, 'unobjection': 1309, 'essenti': 1310, 'bide': 1311, 'went': 1312, 'suppli': 1313, 'sooth': 1314, 'dozen': 1315, 'nation': 1316, 'note': 1317, 'intercours': 1318, 'preced': 1319, 'suspend': 1320, 'utter': 1321, 'empower': 1322, 'listener': 1323, 'cool': 1324, 'air': 1325, 'flush': 1326, 'cheek': 1327, 'along': 1328, 'grove': 1329, 'sigh': 1330, '4': 1331, 'former': 1332, 'appearances': 1333, 'captain': 1334, 'frederick': 1335, 'domingo': 1336, 'employ': 1337, '1806': 1338, 'parent': 1339, 'intellig': 1340, 'brillianc': 1341, 'modesti': 1342, 'sume': 1343, 'attract': 1344, 'encounter': 1345, 'lavish': 1346, 'gradual': 1347, 'deepli': 1348, 'declar': 1349, 'proposal': 1350, 'exquisit': 1351, 'felic': 1352, 'troubles': 1353, 'aros': 1354, 'appli': 1355, 'actual': 1356, 'withhold': 1357, 'consent': 1358, 'negat': 1359, 'astonish': 1360, 'silenc': 1361, 'temper': 1362, 'throw': 1363, 'nineteen': 1364, 'hopes': 1365, 'attain': 1366, 'affluenc': 1367, 'chances': 1368, 'uncertain': 1369, 'farther': 1370, 'griev': 1371, 'snatch': 1372, 'stranger': 1373, 'sunk': 1374, 'interfer': 1375, 'represent': 1376, 'prevent': 1377, 'freeli': 1378, 'realiz': 1379, 'full': 1380, 'shipe': 1381, 'powerful': 1382, 'bewitch': 1383, 'sanguin': 1384, 'fearless': 1385, 'oper': 1386, 'aggrav': 1387, 'brilliant': 1388, 'headstrong': 1389, 'imprud': 1390, 'horror': 1391, 'deprec': 1392, 'light': 1393, 'produc': 1394, 'combat': 1395, 'withstand': 1396, 'unsoften': 1397, 'opinion': 1398, 'tender': 1399, 'wrong': 1400, 'indiscreet': 1401, 'improper': 1402, 'putt': 1403, 'belief': 1404, 'prudent': 1405, 'deni': 1406, 'princip': 1407, 'chief': 1408, 'miseri': 1409, 'unconvinc': 1410, 'unbend': 1411, 'share': 1412, 'cloud': 1413, 'sorrowful': 1414, 'alon': 1415, 'aid': 1416, 'except': 1417, 'ruptur': 1418, 'novelti': 1419, 'enlarg': 1420, 'bear': 1421, 'comparison': 1422, 'memori': 1423, 'thorough': 1424, 'suffici': 1425, 'cure': 1426, 'nice': 1427, 'fastidi': 1428, 'lament': 1429, 'refusal': 1430, 'land': 1431, 'general': 1432, 'perman': 1433, 'discret': 1434, 'past': 1435, 'undon': 1436, 'began': 1437, 'border': 1438, 'hopeless': 1439, 'enter': 1440, 'fitt': 1441, 'constancy': 1442, 'allud': 1443, 'blame': 1444, 'guid': 1445, 'similar': 1446, 'counsel': 1447, 'wretched': 1448, 'disadvantag': 1449, 'probabl': 1450, 'fear': 1451, 'delays': 1452, 'happier': 1453, 'maintain': 1454, 'solicitudes': 1455, 'suspens': 1456, 'result': 1457, 'earlier': 1458, 'justifi': 1459, 'genius': 1460, 'forese': 1461, 'command': 1462, 'path': 1463, 'distinguish': 1464, 'gain': 1465, 'stepe': 1466, 'captures': 1467, 'cheerful': 1468, 'distrust': 1469, 'prudenc': 1470, 'learn': 1471, 'romanc': 1472, 'grew': 1473, 'older': 1474, 'sequel': 1475, 'unnatural': 1476, 'revival': 1477, 'stroll': 1478, 'dispel': 1479, 'folli': 1480, 'harden': 1481, 'nerves': 1482, 'discuss': 1483, 'assist': 1484, 'unconsci': 1485, 'motives': 1486, 'calm': 1487, 'oblivion': 1488, 'sprung': 1489, 'anew': 1490, 'convict': 1491, 'grateful': 1492, 'syllabl': 1493, 'whisper': 1494, 'human': 1495, 'creatur': 1496, 'england': 1497, 'accompani': 1498, 'foreign': 1499, 'occurr': 1500, 'admitt': 1501, 'delicaci': 1502, 'appoint': 1503, 'daili': 1504, 'opportun': 1505, 'parti': 1506, 'prove': 1507, 'satisfactori': 1508, 'agreem': 1509, 'flatter': 1510, 'polish': 1511, 'assurances': 1512, 'clerk': 1513, 'preliminari': 1514, 'modifi': 1515, 'indentur': 1516, 'sheweth': 1517, 'hesit': 1518, 'asham': 1519, 'sympathetic': 1520, 'cordial': 1521, 'drove': 1522, 'thames': 1523, 'fire': 1524, 'harm': 1525, 'reciprocal': 1526, 'complim': 1527, 'michaelmas': 1528, 'unwil': 1529, 'hurri': 1530, 'convey': 1531, 'christmas': 1532, 'unabl': 1533, 'heat': 1534, 'september': 1535, 'glare': 1536, 'forego': 1537, 'sade': 1538, 'autumnal': 1539, 'unwel': 1540, 'complaint': 1541, 'indispos': 1542, 'autumn': 1543, 'entreat': 1544, 'entreati': 1545, 'cottag': 1546, 'reject': 1547, 'readili': 1548, 'interven': 1549, 'divid': 1550, 'startl': 1551, 'burst': 1552, 'measur': 1553, 'resort': 1554, 'affront': 1555, 'contain': 1556, 'sore': 1557, 'keen': 1558, 'quiet': 1559, 'freckles': 1560, 'tooth': 1561, 'clumsi': 1562, 'wrist': 1563, 'absenc': 1564, 'acut': 1565, 'assidu': 1566, 'impress': 1567, 'percept': 1568, 'revers': 1569, 'reproach': 1570, 'warn': 1571, 'offend': 1572, 'conceiv': 1573, 'absurd': 1574, 'suspicion': 1575, 'indign': 1576, 'reprobates': 1577, 'inequ': 1578, 'condit': 1579, 'sakes': 1580, 'suspect': 1581, 'beautiful': 1582, 'render': 1583, 'unhappi': 1584, 'merit': 1585, 'reckon': 1586, 'toler': 1587, 'safeti': 1588, 'misfortunes': 1589, 'disfigur': 1590, 'abominates': 1591, 'defect': 1592, 'reconcil': 1593, 'ones': 1594, 'stake': 1595, 'absolut': 1596, 'carriag': 1597, 'prepar': 1598, 'bow': 1599, 'afflict': 1600, 'tenantri': 1601, 'cottager': 1602, 'show': 1603, 'sort': 1604, 'desol': 1605, 'tranquillity': 1606, 'precious': 1607, 'desert': 1608, 'fall': 1609, 'escap': 1610, 'solitari': 1611, 'melancholi': 1612, 'arriv': 1613, 'determin': 1614, 'begin': 1615, 'accord': 1616, 'stage': 1617, 'journey': 1618, 'size': 1619, 'english': 1620, 'houses': 1621, 'yeomen': 1622, 'labourer': 1623, 'mansion': 1624, 'squir': 1625, 'gates': 1626, 'trees': 1627, 'substanti': 1628, 'unmodern': 1629, 'compact': 1630, 'tight': 1631, 'parsonag': 1632, 'enclos': 1633, 'vine': 1634, 'pear': 1635, 'tree': 1636, 'train': 1637, 'round': 1638, 'casem': 1639, 'farm': 1640, 'elev': 1641, 'veranda': 1642, 'french': 1643, 'window': 1644, 'catch': 1645, 'traveller': 1646, 'aspect': 1647, 'premises': 1648, 'mile': 1649, 'runn': 1650, 'endow': 1651, 'elder': 1652, 'indisposit': 1653, 'resources': 1654, 'solitud': 1655, 'inherit': 1656, 'prone': 1657, 'lying': 1658, 'sofa': 1659, 'shabbi': 1660, 'greet': 1661, 'sent': 1662, 'thursday': 1663, 'unfit': 1664, 'seiz': 1665, 'sudden': 1666, 'ring': 1667, 'bell': 1668, 'enquir': 1669, 'shoot': 1670, 'clock': 1671, 'soul': 1672, 'boys': 1673, 'nois': 1674, 'unmanag': 1675, 'bade': 1676, 'cheer': 1677, 'stopp': 1678, 'hors': 1679, 'musgroves': 1680, 'unkind': 1681, 'wrote': 1682, 'cheerfullest': 1683, 'awar': 1684, 'tell': 1685, 'duplic': 1686, 'catalogu': 1687, 'mackenzi': 1688, 'plant': 1689, 'music': 1690, 'trunk': 1691, 'repack': 1692, 'waggon': 1693, 'parish': 1694, 'dinner': 1695, 'pooles': 1696, 'yesterday': 1697, 'enquiri': 1698, 'strang': 1699, 'pleasant': 1700, 'beforehand': 1701, 'uncomfort': 1702, 'crowd': 1703, 'site': 1704, 'forward': 1705, 'henrietta': 1706, 'louis': 1707, 'patienc': 1708, 'upright': 1709, 'nosegay': 1710, 'ate': 1711, 'meat': 1712, 'ceremoni': 1713, 'enjoy': 1714, 'check': 1715, 'offenc': 1716, 'fashion': 1717, 'squar': 1718, 'parlour': 1719, 'carpet': 1720, 'shine': 1721, 'floor': 1722, 'confus': 1723, 'grand': 1724, 'piano': 1725, 'fort': 1726, 'harp': 1727, 'tables': 1728, 'original': 1729, 'portrait': 1730, 'wainscot': 1731, 'brown': 1732, 'velvet': 1733, 'blue': 1734, 'satin': 1735, 'overthrow': 1736, 'stare': 1737, 'educ': 1738, 'modern': 1739, 'numer': 1740, 'grown': 1741, 'louisa': 1742, 'exeter': 1743, 'stock': 1744, 'thousand': 1745, 'merri': 1746, 'dress': 1747, 'faces': 1748, 'unembarrass': 1749, 'favourites': 1750, 'creatures': 1751, 'exchang': 1752, 'envi': 1753, 'mutual': 1754, 'amiss': 1755, 'chatt': 1756, 'join': 1757, '6': 1758, 'unknown': 1759, 'unconsider': 1760, 'treat': 1761, 'pervad': 1762, 'submit': 1763, 'lesson': 1764, 'heart': 1765, 'sympathi': 1766, 'separ': 1767, 'addit': 1768, 'papa': 1769, 'queen': 1770, 'squares': 1771, 'supplem': 1772, 'resolv': 1773, 'delus': 1774, 'heighten': 1775, 'truli': 1776, 'sympathis': 1777, 'game': 1778, 'destroy': 1779, 'doge': 1780, 'females': 1781, 'housekeep': 1782, 'danc': 1783, 'social': 1784, 'commonwealth': 1785, 'discours': 1786, 'ere': 1787, 'member': 1788, 'transplant': 1789, 'prospect': 1790, 'incumb': 1791, 'cloth': 1792, 'repuls': 1793, 'unsist': 1794, 'inaccess': 1795, 'compon': 1796, 'inimical': 1797, 'wholesom': 1798, 'undoubt': 1799, 'grace': 1800, 'ration': 1801, 'sport': 1802, 'otherwis': 1803, 'trifl': 1804, 'benefit': 1805, 'occasional': 1806, 'low': 1807, 'bore': 1808, 'disagr': 1809, 'coupl': 1810, 'topic': 1811, 'shame': 1812, 'contend': 1813, 'uses': 1814, 'manag': 1815, 'theori': 1816, 'practic': 1817, 'faith': 1818, 'listen': 1819, 'spoil': 1820, 'temptat': 1821, 'request': 1822, 'languag': 1823, 'mood': 1824, 'dying': 1825, 'hate': 1826, 'send': 1827, 'grandmamma': 1828, 'indulges': 1829, 'gives': 1830, 'trash': 1831, 'sick': 1832, 'cross': 1833, 'spoilt': 1834, 'healthy': 1835, 'troublesom': 1836, 'oftener': 1837, 'cake': 1838, 'commun': 1839, 'treason': 1840, 'exagger': 1841, 'upper': 1842, 'maid': 1843, 'laundri': 1844, 'gadd': 1845, 'wherever': 1846, 'nurseri': 1847, 'jemima': 1848, 'trustiest': 1849, 'steadiest': 1850, 'rule': 1851, 'stori': 1852, 'gade': 1853, 'ruin': 1854, 'comes': 1855, 'swear': 1856, 'watch': 1857, 'jealousi': 1858, 'nonsensical': 1859, 'tenaci': 1860, 'mamma': 1861, 'insist': 1862, 'patient': 1863, 'grievanc': 1864, 'forbear': 1865, 'broadest': 1866, 'ailment': 1867, 'employm': 1868, 'asunder': 1869, 'sing': 1870, 'play': 1871, 'voic': 1872, 'perform': 1873, 'refresh': 1874, 'appreci': 1875, 'caller': 1876, 'visitor': 1877, 'chanc': 1878, 'popular': 1879, 'wild': 1880, 'occasion': 1881, 'unpremedit': 1882, 'cousin': 1883, 'affluent': 1884, 'pleasures': 1885, 'anywher': 1886, 'musician': 1887, 'post': 1888, 'dances': 1889, 'musical': 1890, 'finger': 1891, 'fli': 1892, 'belov': 1893, 'limb': 1894, '29th': 1895, 'touch': 1896, 'exclaim': 1897, 'alert': 1898, 'necess': 1899, 'anim': 1900, 'imaginari': 1901, 'sincer': 1902, 'master': 1903, 'sate': 1904, 'tall': 1905, 'bright': 1906, 'teeth': 1907, 'redden': 1908, 'complexion': 1909, 'eight': 1910, 'thirty': 1911, 'relat': 1912, 'minut': 1913, 'instant': 1914, 'symptom': 1915, 'bias': 1916, 'strength': 1917, 'courag': 1918, 'electrifi': 1919, 'outliv': 1920, 'blush': 1921, 'emot': 1922, 'explain': 1923, 'edward': 1924, 'move': 1925, 'attack': 1926, 'cling': 1927, 'engross': 1928, 'coat': 1929, 'pocket': 1930, 'c': 1931, 'finish': 1932, 'certainti': 1933, 'folk': 1934, 'late': 1935, 'coach': 1936, 'richard': 1937, 'paid': 1938, 'unluckili': 1939, 'letter': 1940, 'gloomi': 1941, 'pathetic': 1942, 'piec': 1943, 'twentieth': 1944, 'stupid': 1945, 'shore': 1946, 'regrett': 1947, 'thick': 1948, 'unfeel': 1949, 'unprofit': 1950, 'dick': 1951, 'abbrevi': 1952, 'dead': 1953, 'midshipmen': 1954, 'liabl': 1955, 'ride': 1956, 'six': 1957, 'board': 1958, 'frigat': 1959, 'laconia': 1960, 'written': 1961, 'disinterest': 1962, 'unobserv': 1963, 'incuri': 1964, 'perusal': 1965, 'forgotten': 1966, 'thrown': 1967, 'grief': 1968, 'likewis': 1969, 'evid': 1970, 'relief': 1971, 'puzzl': 1972, 'ascertain': 1973, 'clifton': 1974, 'inur': 1975, 'teach': 1976, 'insens': 1977, 'speedili': 1978, 'stamp': 1979, 'spelt': 1980, 'prais': 1981, 'dash': 1982, 'felow': 1983, 'perticular': 1984, 'schoolmaster': 1985, 'bent': 1986, 'arrival': 1987, '7': 1988, 'impati': 1989, 'shew': 1990, 'roof': 1991, 'welcom': 1992, 'strongest': 1993, 'cellar': 1994, 'sett': 1995, 'learnt': 1996, 'inevit': 1997, 'child': 1998, 'asid': 1999, 'midst': 2000, 'collar': 2001, 'bone': 2002, 'disloc': 2003, 'afternoon': 2004, 'apothecari': 2005, 'hysteric': 2006, 'control': 2007, 'banish': 2008, 'access': 2009, 'frighten': 2010, 'useful': 2011, 'examin': 2012, 'vagu': 2013, 'replac': 2014, 'robinson': 2015, 'rubb': 2016, 'grave': 2017, 'aunt': 2018, 'eas': 2019, 'digress': 2020, 'nephew': 2021, 'five': 2022, 'minutes': 2023, 'individu': 2024, 'male': 2025, 'promis': 2026, 'press': 2027, 'morrow': 2028, 'motiv': 2029, 'rane': 2030, 'glee': 2031, 'raptures': 2032, 'gloom': 2033, 'uneasi': 2034, 'recent': 2035, 'joy': 2036, 'protest': 2037, 'night': 2038, 'spine': 2039, 'confin': 2040, 'bede': 2041, 'bold': 2042, 'wives': 2043, 'teaz': 2044, 'shift': 2045, 'luck': 2046, 'henc': 2047, 'stire': 2048, 'trie': 2049, 'hysterical': 2050, 'shock': 2051, 'nurs': 2052, 'provinc': 2053, 'scold': 2054, 'kick': 2055, 'brighten': 2056, 'harass': 2057, 'properest': 2058, 'excess': 2059, 'tapp': 2060, 'door': 2061, 'stair': 2062, 'exult': 2063, 'undertakes': 2064, 'tuesday': 2065, 'caus': 2066, 'scruples': 2067, 'unpersuad': 2068, 'construct': 2069, 'exist': 2070, 'shyness': 2071, 'breakfast': 2072, 'somehow': 2073, 'actuat': 2074, 'later': 2075, 'also': 2076, 'inconveni': 2077, 'gratifi': 2078, 'rush': 2079, 'curtsey': 2080, 'voices': 2081, 'sportsmen': 2082, 'nervous': 2083, 'tri': 2084, 'resum': 2085, 'indistinct': 2086, 'changes': 2087, 'compris': 2088, 'third': 2089, 'alas': 2090, 'retent': 2091, 'wisdom': 2092, 'spare': 2093, 'gallant': 2094, 'unsuspici': 2095, 'inflict': 2096, 'wound': 2097, 'silent': 2098, 'deep': 2099, 'doubtless': 2100, 'reveng': 2101, 'glow': 2102, 'man': 2103, 'sober': 2104, 'tendenc': 2105, 'allay': 2106, 'compos': 2107, 'forgiven': 2108, 'feebl': 2109, 'endur': 2110, 'weak': 2111, 'timidity': 2112, 'spe': 2113, 'sophia': 2114, 'foolish': 2115, 'fifteen': 2116, 'smiles': 2117, 'contradict': 2118, 'proud': 2119, 'describ': 2120, '8': 2121, 'pretenc': 2122, 'absent': 2123, 'renew': 2124, 'revert': 2125, 'narratives': 2126, 'forth': 2127, 'qualifi': 2128, 'disposit': 2129, 'falter': 2130, 'wander': 2131, 'imposs': 2132, 'unvisit': 2133, 'associ': 2134, 'commonest': 2135, 'couples': 2136, 'tastes': 2137, 'unison': 2138, 'countenances': 2139, 'perpetu': 2140, 'estrang': 2141, 'discern': 2142, 'ignor': 2143, 'throughout': 2144, 'food': 2145, 'accommod': 2146, 'ridicul': 2147, 'remind': 2148, 'accus': 2149, 'cook': 2150, 'knife': 2151, 'fork': 2152, 'overcom': 2153, 'ahe': 2154, 'suppress': 2155, 'smile': 2156, 'reliev': 2157, 'sitt': 2158, 'pore': 2159, 'asp': 2160, 'broken': 2161, 'west': 2162, 'admiralti': 2163, 'entertain': 2164, 'bottom': 2165, 'phoo': 2166, 'stuff': 2167, 'sloop': 2168, 'built': 2169, 'afloat': 2170, 'vex': 2171, 'discoveri': 2172, 'peliss': 2173, 'lent': 2174, 'wete': 2175, 'foul': 2176, 'passag': 2177, 'plymouth': 2178, 'gale': 2179, 'corner': 2180, 'shudder': 2181, 'exclam': 2182, 'aloud': 2183, 'beckon': 2184, 'forgot': 2185, 'gibraltar': 2186, 'somewh': 2187, 'mindful': 2188, 'hunt': 2189, 'statem': 2190, 'commiss': 2191, 'class': 2192, 'fast': 2193, 'lovely': 2194, 'cruis': 2195, 'western': 2196, 'island': 2197, 'harvill': 2198, 'mediterranean': 2199, 'momentari': 2200, 'speech': 2201, 'glanc': 2202, 'curl': 2203, 'mouth': 2204, 'transient': 2205, 'detect': 2206, 'collect': 2207, 'kindest': 2208, 'unabsurd': 2209, 'insignific': 2210, 'barrier': 2211, 'slender': 2212, 'pensiv': 2213, 'screen': 2214, 'destini': 2215, 'aliv': 2216, 'mental': 2217, 'sorrow': 2218, 'proport': 2219, 'bulki': 2220, 'figur': 2221, 'graceful': 2222, 'unbecom': 2223, 'conjunct': 2224, 'patron': 2225, 'lisbon': 2226, 'grierson': 2227, 'abus': 2228, 'gallantri': 2229, 'defend': 2230, 'comprehend': 2231, 'effort': 2232, 'sacrifices': 2233, 'refin': 2234, 'purpos': 2235, 'portsmouth': 2236, 'superfin': 2237, 'merg': 2238, 'id': 2239, 'pray': 2240, 'port': 2241, 'smooth': 2242, 'water': 2243, 'tune': 2244, 'thankful': 2245, 'atlantic': 2246, 'cork': 2247, 'streight': 2248, 'bermuda': 2249, 'bahama': 2250, 'dissent': 2251, 'exe': 2252, 'rates': 2253, 'thank': 2254, 'disagrees': 2255, 'disorder': 2256, 'north': 2257, 'seas': 2258, 'fright': 2259, 'ail': 2260, 'aye': 2261, 'assizes': 2262, 'services': 2263, 'tear': 2264, 'instrum': 2265, 'joyous': 2266, 'defer': 2267, 'hayter': 2268, 'credibl': 2269, 'rival': 2270, 'universal': 2271, 'mechan': 2272, 'error': 2273, 'trace': 2274, 'partner': 2275, 'tire': 2276, 'unintent': 2277, 'polit': 2278, 'madam': 2279, 'speeches': 2280, 'fraternal': 2281, 'shropshir': 2282, 'friendli': 2283, 'flatteri': 2284, 'recept': 2285, 'grass': 2286, 'sheep': 2287, 'dawdl': 2288, 'gige': 2289, 'hitherto': 2290, 'unvari': 2291, 'everywher': 2292, 'disturb': 2293, 'unguard': 2294, 'critical': 2295, 'marriages': 2296, 'retir': 2297, 'unpolish': 2298, 'chosen': 2299, 'scholar': 2300, 'doubtful': 2301, 'prettiest': 2302, 'lively': 2303, 'specul': 2304, 'reappear': 2305, 'delightful': 2306, 'pleasanter': 2307, 'pound': 2308, 'capital': 2309, 'pretens': 2310, 'misfortun': 2311, 'alliances': 2312, 'nonsens': 2313, 'spicer': 2314, 'bishop': 2315, 'whenever': 2316, 'uncl': 2317, 'winthrop': 2318, 'acres': 2319, 'freehold': 2320, 'pleases': 2321, 'posit': 2322, 'unless': 2323, 'staid': 2324, 'mix': 2325, 'plea': 2326, 'headach': 2327, 'umpir': 2328, 'endanger': 2329, 'impeach': 2330, 'prefer': 2331, 'affection': 2332, 'sympath': 2333, 'mistaken': 2334, 'altern': 2335, 'disquiet': 2336, 'mortifi': 2337, 'wholli': 2338, 'extinguish': 2339, 'sundays': 2340, 'quitt': 2341, 'obtain': 2342, 'nearest': 2343, 'dr': 2344, 'shirley': 2345, 'rector': 2346, 'discharg': 2347, 'infirm': 2348, 'fatigu': 2349, 'negoti': 2350, 'invalid': 2351, 'depriv': 2352, 'composur': 2353, 'behav': 2354, 'kneel': 2355, 'vestibul': 2356, 'stout': 2357, 'straight': 2358, 'teas': 2359, 'fasten': 2360, 'knelt': 2361, 'shake': 2362, 'contriv': 2363, 'angri': 2364, 'bite': 2365, 'sturdi': 2366, 'unfasten': 2367, 'neck': 2368, 'speechless': 2369, 'hang': 2370, 'stepp': 2371, 'studious': 2372, 'testifi': 2373, 'recover': 2374, 'enabl': 2375, 'entranc': 2376, 'loves': 2377, 'vext': 2378, 'reflect': 2379, '10': 2380, 'fever': 2381, 'attribut': 2382, 'guil': 2383, 'triumph': 2384, 'pitiful': 2385, 'struggl': 2386, 'field': 2387, 'refus': 2388, 'dismissal': 2389, 'walker': 2390, 'foreseen': 2391, 'junction': 2392, 'retract': 2393, 'narrow': 2394, 'across': 2395, 'exercis': 2396, 'tawni': 2397, 'wither': 2398, 'hedges': 2399, 'poetical': 2400, 'extant': 2401, 'season': 2402, 'inexhaust': 2403, 'drawn': 2404, 'poet': 2405, 'worthi': 2406, 'muse': 2407, 'quotat': 2408, 'chate': 2409, 'praises': 2410, 'glorious': 2411, 'hail': 2412, 'hill': 2413, 'whereabout': 2414, 'upset': 2415, 'liev': 2416, 'toss': 2417, 'overturn': 2418, 'enthusiasm': 2419, 'scenes': 2420, 'sonnet': 2421, 'fraught': 2422, 'analog': 2423, 'declin': 2424, 'images': 2425, 'environ': 2426, 'destin': 2427, 'ascent': 2428, 'enclosures': 2429, 'plough': 2430, 'fresh': 2431, 'counteract': 2432, 'despond': 2433, 'summit': 2434, 'stretch': 2435, 'hemm': 2436, 'barn': 2437, 'build': 2438, 'yard': 2439, 'lean': 2440, 'gate': 2441, 'argu': 2442, 'meanwhil': 2443, 'debates': 2444, 'rune': 2445, 'arranger': 2446, 'scorn': 2447, 'unpleas': 2448, 'assent': 2449, 'brow': 2450, 'spote': 2451, 'stile': 2452, 'glean': 2453, 'nute': 2454, 'adjoin': 2455, 'hedg': 2456, 'row': 2457, 'degrees': 2458, 'quarrel': 2459, 'somewher': 2460, 'dri': 2461, 'sunni': 2462, 'bank': 2463, 'overtook': 2464, 'channel': 2465, 'centr': 2466, 'middl': 2467, 'dutiful': 2468, 'woe': 2469, 'betid': 2470, 'resist': 2471, 'firm': 2472, 'infus': 2473, 'yield': 2474, 'durabl': 2475, 'sway': 2476, 'bough': 2477, 'exemplifi': 2478, 'glossi': 2479, 'storm': 2480, 'punctur': 2481, 'playful': 2482, 'solemn': 2483, 'brethren': 2484, 'fallen': 2485, 'trodden': 2486, 'hazel': 2487, 'cherish': 2488, 'unanswer': 2489, 'lest': 2490, 'bush': 2491, 'rambl': 2492, 'holli': 2493, 'protect': 2494, 'provok': 2495, 'bookish': 2496, 'retreat': 2497, 'proverbi': 2498, 'motion': 2499, 'conjectur': 2500, 'minutia': 2501, 'withdraw': 2502, 'relent': 2503, 'plainer': 2504, 'divis': 2505, 'stripe': 2506, 'meadow': 2507, 'ampl': 2508, 'space': 2509, 'boast': 2510, 'necessarili': 2511, 'disoblig': 2512, 'reap': 2513, 'nettles': 2514, 'switch': 2515, 'complain': 2516, 'incommod': 2517, 'weasel': 2518, 'lane': 2519, 'footpath': 2520, 'exit': 2521, 'advanc': 2522, 'surmount': 2523, 'guess': 2524, 'instinct': 2525, 'urgenc': 2526, 'compress': 2527, 'forgiv': 2528, 'condemn': 2529, 'unjust': 2530, 'careless': 2531, 'remainder': 2532, 'impuls': 2533, 'pure': 2534, 'unacknowledg': 2535, 'compound': 2536, 'awak': 2537, 'sophi': 2538, 'courtship': 2539, 'yarmouth': 2540, 'spread': 2541, 'canvass': 2542, 'unaffect': 2543, 'calmer': 2544, 'keener': 2545, 'rein': 2546, 'judici': 2547, 'rute': 2548, 'dung': 2549, 'cart': 2550, 'deposit': 2551, '11': 2552, 'resettl': 2553, 'frequent': 2554, 'church': 2555, 'thenc': 2556, 'gainer': 2557, 'wit': 2558, 'renewal': 2559, 'apac': 2560, 'conclus': 2561, 'diversifi': 2562, 'unseen': 2563, 'unheard': 2564, 'lyme': 2565, 'unknow': 2566, 'acquittal': 2567, 'thither': 2568, 'heedless': 2569, 'deduct': 2570, 'amend': 2571, 'punctual': 2572, 'noon': 2573, 'carriages': 2574, 'curricl': 2575, 'steeper': 2576, 'street': 2577, 'inn': 2578, 'varieti': 2579, 'lodger': 2580, 'cobb': 2581, 'skirt': 2582, 'bay': 2583, 'machines': 2584, 'cliff': 2585, 'charmouth': 2586, 'extens': 2587, 'sweep': 2588, 'fragment': 2589, 'rock': 2590, 'sand': 2591, 'flow': 2592, 'unweari': 2593, 'woodi': 2594, 'pinni': 2595, 'green': 2596, 'chasm': 2597, 'romantic': 2598, 'scatter': 2599, 'forest': 2600, 'luxuri': 2601, 'growth': 2602, 'wonderful': 2603, 'exhibit': 2604, 'resembl': 2605, 'fame': 2606, 'isl': 2607, 'wight': 2608, 'linger': 2609, 'gaze': 2610, 'pier': 2611, 'harvilles': 2612, 'benwick': 2613, 'lieuten': 2614, 'mourn': 2615, 'fanni': 2616, 'heavili': 2617, 'sedentari': 2618, 'augment': 2619, 'inexpens': 2620, 'grandeur': 2621, 'adapt': 2622, 'blight': 2623, 'ralli': 2624, 'counten': 2625, 'lame': 2626, 'hurt': 2627, 'uncommon': 2628, 'unlik': 2629, 'formal': 2630, 'display': 2631, 'sprang': 2632, 'ingeni': 2633, 'contrivances': 2634, 'defici': 2635, 'plight': 2636, 'contrast': 2637, 'articles': 2638, 'rare': 2639, 'speci': 2640, 'wood': 2641, 'curious': 2642, 'fruit': 2643, 'repos': 2644, 'gratif': 2645, 'reader': 2646, 'shelves': 2647, 'bound': 2648, 'volumes': 2649, 'ingenu': 2650, 'varnish': 2651, 'carpenter': 2652, 'glu': 2653, 'toys': 2654, 'nett': 2655, 'needles': 2656, 'pine': 2657, 'fish': 2658, 'nete': 2659, 'brotherli': 2660, 'thoroughfar': 2661, 'interchang': 2662, 'oppress': 2663, 'presenc': 2664, 'mirth': 2665, 'lede': 2666, 'recurr': 2667, 'anecdotes': 2668, 'abund': 2669, 'apart': 2670, 'shi': 2671, 'abstract': 2672, 'repaid': 2673, 'poetri': 2674, 'restraint': 2675, 'brief': 2676, 'marmion': 2677, 'lake': 2678, 'giaour': 2679, 'bride': 2680, 'abydos': 2681, 'pronounc': 2682, 'tenderest': 2683, 'song': 2684, 'impass': 2685, 'agoni': 2686, 'tremul': 2687, 'various': 2688, 'imag': 2689, 'allus': 2690, 'embolden': 2691, 'senior': 2692, 'prose': 2693, 'moralist': 2694, 'finest': 2695, 'memoir': 2696, 'fortify': 2697, 'precept': 2698, 'examples': 2699, 'moral': 2700, 'religi': 2701, 'endurances': 2702, 'impli': 2703, 'procur': 2704, 'preach': 2705, 'resign': 2706, 'preacher': 2707, '12': 2708, 'easter': 2709, 'breez': 2710, 'flate': 2711, 'glori': 2712, 'twelv': 2713, 'declares': 2714, 'medicin': 2715, 'medical': 2716, 'seizur': 2717, 'lives': 2718, 'dispens': 2719, 'scrupul': 2720, 'lower': 2721, 'acquiesc': 2722, 'courteous': 2723, 'shope': 2724, 'disposal': 2725, 'upward': 2726, 'beach': 2727, 'ascend': 2728, 'restor': 2729, 'wind': 2730, 'blow': 2731, 'loiter': 2732, 'chamber': 2733, 'groom': 2734, 'proprieti': 2735, 'stabl': 2736, 'front': 2737, 'somebodi': 2738, 'jump': 2739, 'waiter': 2740, 'sidmouth': 2741, 'crewkhern': 2742, 'smart': 2743, 'baronight': 2744, 'ecstasi': 2745, 'publish': 2746, 'goes': 2747, 'panel': 2748, 'hide': 2749, 'luckily': 2750, 'excuses': 2751, 'interview': 2752, 'write': 2753, 'irrit': 2754, 'slow': 2755, 'unsatisfactori': 2756, 'disinclin': 2757, 'scott': 2758, 'byron': 2759, 'alik': 2760, 'de': 2761, 'mourner': 2762, 'cape': 2763, 'grappler': 2764, 'promises': 2765, 'adieus': 2766, 'glad': 2767, 'perforc': 2768, 'steep': 2769, 'flight': 2770, 'stiles': 2771, 'pavem': 2772, 'feet': 2773, 'jare': 2774, 'precipit': 2775, 'lifeless': 2776, 'visibl': 2777, 'bruis': 2778, 'pallid': 2779, 'scream': 2780, 'contribut': 2781, 'immov': 2782, 'sink': 2783, 'senses': 2784, 'despair': 2785, 'rube': 2786, 'salt': 2787, 'obey': 2788, 'disengag': 2789, 'stagger': 2790, 'bitterest': 2791, 'surgeon': 2792, 'dart': 2793, 'corps': 2794, 'hung': 2795, 'sobe': 2796, 'assuag': 2797, 'gent': 2798, 'accid': 2799, 'workmen': 2800, 'boatmen': 2801, 'consign': 2802, 'helpless': 2803, 'tread': 2804, 'unutter': 2805, 'flying': 2806, 'await': 2807, 'beneath': 2808, 'restoratives': 2809, 'need': 2810, 'incap': 2811, 'contus': 2812, 'desper': 2813, 'repriev': 2814, 'fervent': 2815, 'ejacul': 2816, 'fold': 2817, 'overpower': 2818, 'prayer': 2819, 'elsewher': 2820, 'swing': 2821, 'cote': 2822, 'experienc': 2823, 'irresist': 2824, 'perplex': 2825, 'terror': 2826, 'incumbr': 2827, 'stays': 2828, 'delay': 2829, 'vehem': 2830, 'stead': 2831, 'reluct': 2832, 'schemes': 2833, 'wrapt': 2834, 'welfar': 2835, 'lowest': 2836, 'vexat': 2837, 'substitut': 2838, 'emul': 2839, 'emma': 2840, 'henri': 2841, 'shrink': 2842, 'unnecessarili': 2843, 'govern': 2844, 'bitter': 2845, 'fatal': 2846, 'just': 2847, 'qualiti': 2848, 'recognis': 2849, 'road': 2850, 'dusk': 2851, 'shawl': 2852, 'sleep': 2853, 'address': 2854, 'announc': 2855, 'bait': 2856, '13': 2857, 'speedi': 2858, 'multipli': 2859, 'pett': 2860, 'harri': 2861, 'mend': 2862, 'blain': 2863, 'bruises': 2864, 'sarah': 2865, 'indebt': 2866, 'comforter': 2867, 'impart': 2868, 'privi': 2869, 'recovery': 2870, 'gay': 2871, 'leisur': 2872, 'rain': 2873, 'blott': 2874, 'adieu': 2875, 'dripp': 2876, 'comfortless': 2877, 'misti': 2878, 'glasses': 2879, 'humbl': 2880, 'tenem': 2881, 'sadden': 2882, 'record': 2883, 'reconcili': 2884, 'evad': 2885, 'gladden': 2886, 'plump': 2887, 'compel': 2888, 'smother': 2889, 'secondari': 2890, 'camden': 2891, 'briefli': 2892, 'intern': 2893, 'revel': 2894, 'receipt': 2895, 'fainter': 2896, 'threaten': 2897, 'preclud': 2898, 'unworthili': 2899, 'heav': 2900, 'latest': 2901, 'yestermorn': 2902, 'catastroph': 2903, 'thoughtless': 2904, 'frightful': 2905, 'concuss': 2906, 'summarili': 2907, 'plaster': 2908, 'simplic': 2909, 'reveri': 2910, 'slipe': 2911, 'umbrellas': 2912, 'butler': 2913, 'grate': 2914, 'earth': 2915, 'dressi': 2916, 'lend': 2917, 'snuge': 2918, 'shave': 2919, 'glass': 2920, 'chimney': 2921, 'smokes': 2922, 'hereabout': 2923, 'wast': 2924, '14': 2925, 'suscept': 2926, 'holidays': 2927, 'lighten': 2928, 'librari': 2929, 'balanc': 2930, 'fortnight': 2931, 'undertook': 2932, 'behold': 2933, 'shote': 2934, 'misunderstood': 2935, 'dull': 2936, 'discover': 2937, 'gracious': 2938, 'admires': 2939, 'pretend': 2940, 'overheard': 2941, 'joint': 2942, 'dullest': 2943, 'brede': 2944, 'taunt': 2945, 'drope': 2946, 'scissor': 2947, 'extraordinarili': 2948, 'disfavour': 2949, 'hazard': 2950, 'voluntari': 2951, 'fearful': 2952, 'herald': 2953, 'surround': 2954, 'sedul': 2955, 'tyranni': 2956, 'expressli': 2957, 'chatter': 2958, 'cutt': 2959, 'silk': 2960, 'gold': 2961, 'tressel': 2962, 'trays': 2963, 'bend': 2964, 'brawn': 2965, 'pie': 2966, 'riotous': 2967, 'roar': 2968, 'clamour': 2969, 'knees': 2970, 'tempera': 2971, 'hurrican': 2972, 'shaken': 2973, 'recapitul': 2974, 'reseat': 2975, 'noises': 2976, 'innoxi': 2977, 'quantiti': 2978, 'bridg': 2979, 'rumbl': 2980, 'drays': 2981, 'bawl': 2982, 'newspapermen': 2983, 'muffin': 2984, 'milkmen': 2985, 'ceaseless': 2986, 'clink': 2987, 'patten': 2988, 'rose': 2989, 'persist': 2990, 'dime': 2991, 'smoke': 2992, 'progress': 2993, 'bustles': 2994, 'seclus': 2995, 'deceiv': 2996, 'proclaim': 2997, 'recant': 2998, 'branch': 2999, 'dismember': 3000, 'paternal': 3001, 'pitch': 3002, 'river': 3003, 'lofti': 3004, 'dignifi': 3005, 'becomes': 3006, 'imprison': 3007, 'unexpect': 3008, 'fourth': 3009, 'courtesi': 3010, 'unlook': 3011, 'causes': 3012, 'faint': 3013, 'card': 3014, 'fund': 3015, 'landholder': 3016, 'threw': 3017, 'avail': 3018, 'misapprehens': 3019, 'unfeudal': 3020, 'refut': 3021, 'extenu': 3022, 'colonel': 3023, 'wallis': 3024, 'marlborough': 3025, 'allowances': 3026, 'embellish': 3027, 'extravag': 3028, 'irrational': 3029, 'relator': 3030, 'risk': 3031, 'varianc': 3032, 'richer': 3033, 'titl': 3034, 'solut': 3035, 'penetr': 3036, 'investig': 3037, 'glimpses': 3038, 'gentlemanlik': 3039, 'shape': 3040, 'featur': 3041, 'bond': 3042, 'count': 3043, 'eighti': 3044, 'frosti': 3045, 'sharp': 3046, 'test': 3047, 'multitud': 3048, 'ug': 3049, 'scarecrow': 3050, 'decent': 3051, 'militari': 3052, 'sandi': 3053, 'rede': 3054, 'nose': 3055, 'accidental': 3056, 'gown': 3057, 'misus': 3058, 'lansdown': 3059, 'crescent': 3060, 'stope': 3061, 'usher': 3062, 'unusu': 3063, 'alacr': 3064, 'relationship': 3065, 'certifi': 3066, 'guest': 3067, 'rout': 3068, 'shadow': 3069, 'ungenteel': 3070, 'be': 3071, 'diffus': 3072, 'length': 3073, 'unfelt': 3074, 'mantel': 3075, 'eleven': 3076, 'silver': 3077, 'watchman': 3078, 'tale': 3079, 'steal': 3080, 'skine': 3081, 'clearer': 3082, 'fresher': 3083, 'gowland': 3084, 'ha': 3085, 'diminish': 3086, 'overlook': 3087, 'provoc': 3088, 'drink': 3089, 'solid': 3090, 'superfici': 3091, 'defi': 3092, 'candid': 3093, 'violent': 3094, 'sour': 3095, 'outweigh': 3096, 'plagu': 3097, 'inconsist': 3098, 'matur': 3099, 'simplest': 3100, 'process': 3101, 'err': 3102, 'heyday': 3103, 'crape': 3104, 'inexcus': 3105, 'dissolv': 3106, 'pleasantest': 3107, 'dowager': 3108, 'viscountess': 3109, 'dalrympl': 3110, 'carteret': 3111, 'swept': 3112, 'dalrymples': 3113, 'contact': 3114, 'viscount': 3115, 'unlucki': 3116, 'omiss': 3117, 'condol': 3118, 'ireland': 3119, 'sinner': 3120, 'apprehend': 3121, 'unimport': 3122, 'preserv': 3123, 'laura': 3124, 'scrawl': 3125, 'creat': 3126, 'shakes': 3127, 'wiser': 3128, 'divert': 3129, 'defeat': 3130, '17': 3131, 'gover': 3132, 'hamilton': 3133, 'smith': 3134, 'rheumatic': 3135, 'lege': 3136, 'crippl': 3137, 'hote': 3138, 'exclud': 3139, 'westgat': 3140, 'kindl': 3141, 'unform': 3142, 'invari': 3143, 'transform': 3144, 'protege': 3145, 'dissip': 3146, 'cheerless': 3147, 'buri': 3148, 'noisi': 3149, 'bedroom': 3150, 'languor': 3151, 'depress': 3152, 'submiss': 3153, 'elast': 3154, 'choicest': 3155, 'merciful': 3156, 'counterbal': 3157, 'pitiabl': 3158, 'finances': 3159, 'landladi': 3160, 'unemploy': 3161, 'liberti': 3162, 'invalu': 3163, 'taught': 3164, 'knite': 3165, 'thread': 3166, 'cushion': 3167, 'rack': 3168, 'profession': 3169, 'buy': 3170, 'disposes': 3171, 'merchandis': 3172, 'takes': 3173, 'rook': 3174, 'gossip': 3175, 'profit': 3176, 'likes': 3177, 'au': 3178, 'fait': 3179, 'newest': 3180, 'cavil': 3181, 'ardent': 3182, 'heroism': 3183, 'conflict': 3184, 'ennobl': 3185, 'generos': 3186, 'mankind': 3187, 'shook': 3188, 'edifi': 3189, 'lace': 3190, 'fineri': 3191, 'plenti': 3192, 'price': 3193, 'schoolfellow': 3194, 'disdainful': 3195, 'revolt': 3196, 'paltri': 3197, 'sees': 3198, 'approves': 3199, 'equipag': 3200, 'bare': 3201, 'defenc': 3202, 'dissimilar': 3203, 'surnam': 3204, 'ladyship': 3205, 'compassion': 3206, 'widowhood': 3207, 'maker': 3208, 'uncertainti': 3209, 'virtues': 3210, 'dearest': 3211, 'subdu': 3212, 'advers': 3213, 'transgress': 3214, 'dropt': 3215, 'associates': 3216, 'practices': 3217, 'sunday': 3218, 'cleans': 3219, 'discreet': 3220, 'imperfect': 3221, 'incur': 3222, 'frank': 3223, 'captiv': 3224, 'hasti': 3225, 'tongu': 3226, 'slipp': 3227, 'sweeter': 3228, '18': 3229, 'februari': 3230, 'thicker': 3231, 'deliver': 3232, 'quicken': 3233, 'passport': 3234, '1st': 3235, 'grandchildren': 3236, 'januari': 3237, 'immens': 3238, 'vacant': 3239, 'gouti': 3240, 'gross': 3241, 'inattent': 3242, 'butcher': 3243, 'throat': 3244, 'envelop': 3245, 'admirer': 3246, 'incomprehens': 3247, 'million': 3248, 'gout': 3249, 'decrepitud': 3250, 'renter': 3251, 'signifi': 3252, 'level': 3253, 'tribut': 3254, 'treacheri': 3255, 'leviti': 3256, 'akin': 3257, 'usag': 3258, 'unfair': 3259, 'deject': 3260, 'inconsol': 3261, 'dawn': 3262, 'deriv': 3263, 'fervour': 3264, 'enthusiast': 3265, 'literari': 3266, 'sentimental': 3267, 'beat': 3268, 'unshackl': 3269, 'senseless': 3270, 'shares': 3271, 'knote': 3272, 'milsom': 3273, 'printshop': 3274, 'print': 3275, 'boat': 3276, 'queer': 3277, 'painter': 3278, 'shapeless': 3279, 'cockleshel': 3280, 'stuck': 3281, 'mightili': 3282, 'mountain': 3283, 'heartili': 3284, 'horsepond': 3285, 'lie': 3286, 'brigden': 3287, 'ye': 3288, 'stares': 3289, 'tie': 3290, 'blister': 3291, 'heel': 3292, 'shill': 3293, 'brand': 3294, 'trick': 3295, 'archibald': 3296, 'kisses': 3297, 'younker': 3298, 'chair': 3299, 'cupboard': 3300, 'belmont': 3301, 'christian': 3302, 'sophys': 3303, 'court': 3304, 'brain': 3305, 'minehead': 3306, 'strangest': 3307, 'soft': 3308, 'augur': 3309, 'judges': 3310, 'incompat': 3311, 'violenc': 3312, 'oath': 3313, 'murmur': 3314, 'whine': 3315, 'subsist': 3316, 'fling': 3317, 'unforg': 3318, 'useless': 3319, 'bespok': 3320, 'parson': 3321, '19': 3322, 'shelter': 3323, 'molland': 3324, 'successful': 3325, 'barouch': 3326, 'whoever': 3327, 'boot': 3328, 'thickest': 3329, 'descri': 3330, 'simpleton': 3331, 'unaccount': 3332, 'union': 3333, 'outer': 3334, 'obvious': 3335, 'betray': 3336, 'bewilder': 3337, 'dint': 3338, 'portion': 3339, 'arch': 3340, 'signific': 3341, 'feign': 3342, 'internal': 3343, 'recognit': 3344, 'unalter': 3345, 'bustl': 3346, 'unattend': 3347, 'equipp': 3348, 'umbrella': 3349, 'privileg': 3350, 'apologis': 3351, 'atkinson': 3352, 'wallises': 3353, 'wont': 3354, 'discrimin': 3355, 'insinu': 3356, 'likelihood': 3357, 'cost': 3358, 'shade': 3359, 'incess': 3360, 'pulteney': 3361, 'group': 3362, 'fascin': 3363, 'climes': 3364, 'robb': 3365, 'curtain': 3366, 'alicia': 3367, 'frankland': 3368, 'handsomest': 3369, 'theatr': 3370, 'sole': 3371, 'weari': 3372, 'stagnat': 3373, 'concert': 3374, 'patronis': 3375, 'forebod': 3376, 'fires': 3377, 'octagon': 3378, 'formid': 3379, 'simpl': 3380, 'ungraci': 3381, 'flage': 3382, 'consequences': 3383, 'eventu': 3384, 'sides': 3385, 'capric': 3386, 'parental': 3387, 'dispar': 3388, 'untaught': 3389, 'surprises': 3390, 'pierc': 3391, 'slame': 3392, 'buzz': 3393, 'deviat': 3394, 'mischief': 3395, 'obstin': 3396, 'rode': 3397, 'inspir': 3398, 'compat': 3399, 'escort': 3400, 'penanc': 3401, 'demand': 3402, 'needful': 3403, 'disappear': 3404, 'marshal': 3405, 'broad': 3406, 'sentences': 3407, 'vision': 3408, 'flurri': 3409, 'glimps': 3410, 'humbler': 3411, 'contigu': 3412, 'benches': 3413, 'foremost': 3414, 'manoeuvr': 3415, 'scientific': 3416, 'wearisom': 3417, 'italian': 3418, 'translat': 3419, 'invert': 3420, 'transpos': 3421, 'curtail': 3422, 'profici': 3423, 'mysteri': 3424, 'nameless': 3425, 'trivial': 3426, 'irish': 3427, 'cluster': 3428, 'withdrawn': 3429, 'recommenc': 3430, 'orchestra': 3431, 'nearer': 3432, 'benefici': 3433, 'quest': 3434, 'tea': 3435, 'wore': 3436, 'unproduct': 3437, 'reclaim': 3438, 'repossess': 3439, 'gapes': 3440, 'chiefli': 3441, 'bench': 3442, 'passer': 3443, 'larolles': 3444, 'inimit': 3445, 'abdic': 3446, 'irresolut': 3447, 'indubit': 3448, 'glances': 3449, 'own': 3450, 'shoulder': 3451, 'sung': 3452, 'consum': 3453, 'accost': 3454, 'farewel': 3455, 'suce': 3456, 'disadvantages': 3457, 'incalcul': 3458, '21': 3459, 'prepossess': 3460, 'prettier': 3461, 'wrought': 3462, 'eternal': 3463, 'purif': 3464, 'perfum': 3465, 'enquirer': 3466, 'laundress': 3467, 'notorieti': 3468, 'durand': 3469, 'unfledg': 3470, 'sparrow': 3471, 'fede': 3472, 'ibbotson': 3473, 'maclean': 3474, 'misses': 3475, 'chooses': 3476, 'overspread': 3477, 'instantan': 3478, 'assum': 3479, 'willing': 3480, 'imbib': 3481, 'offici': 3482, 'cruel': 3483, 'plead': 3484, 'nineti': 3485, 'shipwreck': 3486, 'astray': 3487, 'failur': 3488, 'semblanc': 3489, 'bye': 3490, 'monday': 3491, 'unfound': 3492, 'messag': 3493, 'thoughtful': 3494, 'hates': 3495, 'surfac': 3496, 'unprejudic': 3497, 'wari': 3498, 'guilti': 3499, 'cruelti': 3500, 'perpetr': 3501, 'compunct': 3502, 'hollow': 3503, 'injur': 3504, 'templ': 3505, 'farth': 3506, 'purs': 3507, 'fore': 3508, 'against': 3509, 'mare': 3510, 'wealth': 3511, 'vouch': 3512, 'associat': 3513, 'rules': 3514, 'reprehens': 3515, 'grazier': 3516, 'amount': 3517, 'committ': 3518, 'cheap': 3519, 'dirt': 3520, 'saleabl': 3521, 'assert': 3522, 'contradictori': 3523, 'inlaid': 3524, 'box': 3525, 'shelf': 3526, 'closet': 3527, 'unlock': 3528, 'immethodical': 3529, 'memorandum': 3530, 'burn': 3531, 'docum': 3532, 'tunbridg': 3533, '1803': 3534, 'cash': 3535, 'surveyor': 3536, 'hammer': 3537, 'nevertheless': 3538, 'equival': 3539, 'w': 3540, 'wm': 3541, 'disrespectful': 3542, 'violat': 3543, 'testimoni': 3544, 'medit': 3545, 'authentic': 3546, 'oral': 3547, 'hypocrit': 3548, 'stream': 3549, 'rubbish': 3550, 'unreserv': 3551, 'overflow': 3552, 'prior': 3553, 'misconceiv': 3554, 'supposes': 3555, 'historian': 3556, 'triumphant': 3557, 'doubl': 3558, 'fals': 3559, 'improb': 3560, 'states': 3561, 'insinuat': 3562, 'plausibl': 3563, 'avaric': 3564, 'circumv': 3565, 'omitt': 3566, 'artful': 3567, 'detail': 3568, 'cunn': 3569, 'manoeuvres': 3570, 'strenuous': 3571, 'opposer': 3572, 'favourer': 3573, 'matrimoni': 3574, 'intrud': 3575, 'disingenu': 3576, 'recital': 3577, 'unqualifi': 3578, 'unimpair': 3579, 'despis': 3580, 'executor': 3581, 'heap': 3582, 'anguish': 3583, 'urgent': 3584, 'stern': 3585, 'fruitless': 3586, 'ingratitud': 3587, 'inhuman': 3588, 'flagrant': 3589, 'crime': 3590, 'dwelt': 3591, 'grievances': 3592, 'sequestr': 3593, 'payment': 3594, 'incumbrances': 3595, 'disabl': 3596, 'bodili': 3597, 'straiten': 3598, 'weaken': 3599, 'offices': 3600, 'hastili': 3601, 'blede': 3602, 'giddi': 3603, 'disclos': 3604, '22': 3605, 'obtrus': 3606, 'irremedi': 3607, 'unperplex': 3608, 'reward': 3609, 'extend': 3610, 'congratul': 3611, 'spell': 3612, 'harder': 3613, 'omit': 3614, 'embargo': 3615, 'lift': 3616, 'thornberri': 3617, 'prime': 3618, 'placid': 3619, 'licens': 3620, 'insincer': 3621, 'odious': 3622, 'remonstr': 3623, 'eclat': 3624, 'retrac': 3625, 'surmis': 3626, 'saturday': 3627, 'destruct': 3628, 'humiliat': 3629, 'decept': 3630, 'practis': 3631, 'sources': 3632, 'complic': 3633, 'subtleti': 3634, 'friday': 3635, 'tiresom': 3636, 'poem': 3637, 'bores': 3638, 'hideous': 3639, 'roug': 3640, 'preconcert': 3641, 'hart': 3642, 'regal': 3643, 'ostentati': 3644, 'besid': 3645, 'selves': 3646, 'narrat': 3647, 'characteristic': 3648, 'wedd': 3649, 'clothes': 3650, 'dorsetshir': 3651, 'preserves': 3652, 'kingdom': 3653, 'proprietor': 3654, 'special': 3655, 'dimm': 3656, 'streighten': 3657, 'ambiti': 3658, 'misconduct': 3659, 'wriggles': 3660, 'chick': 3661, 'elbow': 3662, 'verses': 3663, 'illiberal': 3664, 'fought': 3665, 'brave': 3666, 'famous': 3667, 'mirror': 3668, 'china': 3669, 'risen': 3670, 'gaieti': 3671, 'keys': 3672, 'assort': 3673, 'trinket': 3674, 'pump': 3675, 'hotel': 3676, 'ensur': 3677, 'unsettl': 3678, 'parcel': 3679, 'spacious': 3680, 'argum': 3681, 'captious': 3682, 'inadvert': 3683, 'wanton': 3684, 'misconstruct': 3685, 'mischiev': 3686, 'colonnad': 3687, 'unconcern': 3688, 'hast': 3689, 'pacifi': 3690, 'recompos': 3691, 'acquitt': 3692, 'civilli': 3693, 'n': 3694, 'forgetful': 3695, 'abomin': 3696, 'smirk': 3697, 'unpardon': 3698, 'representatives': 3699, 'reign': 3700, 'sune': 3701, 'scandal': 3702, 'jest': 3703, 'interpos': 3704, 'impedi': 3705, 'trembl': 3706, 'player': 3707, 'ponder': 3708, 'wherewith': 3709, 'chill': 3710, 'freedom': 3711, 'hush': 3712, 'insipid': 3713, 'heartless': 3714, 'aton': 3715, 'insol': 3716, 'sank': 3717, 'audibl': 3718, 'fatigues': 3719, 'toilsom': 3720, 'enumer': 3721, 'gnaw': 3722, 'appeas': 3723, 'brood': 3724, 'restless': 3725, 'guilt': 3726, 'overbear': 3727, 'lectures': 3728, 'imit': 3729, '23': 3730, 'explanatori': 3731, 'sulta': 3732, 'scheherazad': 3733, 'unfavour': 3734, 'strictest': 3735, 'injunct': 3736, 'plung': 3737, 'unsaf': 3738, 'unwis': 3739, 'thrill': 3740, 'pene': 3741, 'enforc': 3742, 'denot': 3743, 'unfold': 3744, 'miniatur': 3745, 'paint': 3746, 'german': 3747, 'artist': 3748, 'complianc': 3749, 'quiver': 3750, 'lipe': 3751, 'dote': 3752, 'sex': 3753, 'prey': 3754, 'inconst': 3755, 'frames': 3756, 'heaviest': 3757, 'robust': 3758, 'hardship': 3759, 'strive': 3760, 'anchorag': 3761, 'signal': 3762, 'vers': 3763, 'proverb': 3764, 'fickl': 3765, 'watches': 3766, 'calculates': 3767, 'wing': 3768, 'treasures': 3769, 'forbid': 3770, 'undervalu': 3771, 'faithful': 3772, 'enviabl': 3773, 'covet': 3774, 'longest': 3775, 'sentenc': 3776, 'seal': 3777, 'closer': 3778, 'footstep': 3779, 'gloves': 3780, 'revolut': 3781, 'legibl': 3782, 'e': 3783, 'devour': 3784, 'broke': 3785, 'resentful': 3786, 'tones': 3787, 'undeviat': 3788, 'f': 3789, 'hither': 3790, 'tranquil': 3791, 'distract': 3792, 'doctor': 3793, 'precaut': 3794, 'prophesi': 3795, 'mischanc': 3796, 'damp': 3797, 'ungrateful': 3798, 'gunsmith': 3799, 'familiar': 3800, 'pale': 3801, 'movem': 3802, 'unpack': 3803, 'barrel': 3804, 'raptur': 3805, 'gravel': 3806, 'immort': 3807, 'slowli': 3808, 'saunter': 3809, 'politician': 3810, 'housekeeper': 3811, 'flirt': 3812, 'retrospect': 3813, 'poignant': 3814, 'variat': 3815, 'today': 3816, 'retard': 3817, 'vanquish': 3818, 'sheet': 3819, 'pour': 3820, 'supplant': 3821, 'sufferer': 3822, 'loveliest': 3823, 'medium': 3824, 'unrival': 3825, 'obstinaci': 3826, 'exalt': 3827, 'mad': 3828, 'regain': 3829, 'remors': 3830, 'grossli': 3831, 'abid': 3832, 'entangl': 3833, 'blunder': 3834, 'homag': 3835, 'inexpress': 3836, 'felicit': 3837, 'inact': 3838, 'wednesday': 3839, 'retain': 3840, 'subsequ': 3841, 'energi': 3842, 'wisher': 3843, 'indel': 3844, 'incurr': 3845, 'overwhelm': 3846, 'steadfast': 3847, 'assembl': 3848, 'mixtur': 3849, 'commonplac': 3850, 'shorter': 3851, 'delici': 3852, 'greenhous': 3853, 'imparti': 3854, 'decides': 3855, 'deliber': 3856, 'enemi': 3857, 'accent': 3858, 'crown': 3859, 'earn': 3860, 'reverses': 3861, 'brook': 3862, '24': 3863, 'ultim': 3864, 'spendthrift': 3865, 'daylight': 3866, 'ey': 3867, 'struggles': 3868, 'indic': 3869, 'impetuos': 3870, 'suaviti': 3871, 'niceti': 3872, 'instrumental': 3873, 'landaulett': 3874, 'headship': 3875, 'derang': 3876, 'discomfit': 3877, 'wheedl': 3878, 'caress': 3879, 'disproport': 3880, 'harmoni': 3881, 'sourc': 3882, 'petti': 3883, 'requit': 3884, 'acquisit': 3885, 'defianc': 3886, 'sunshin': 3887, 'national': 3888, 'BOS': 3890, 'EOS': 3891}\n"
          ],
          "name": "stdout"
        }
      ]
    },
    {
      "cell_type": "code",
      "metadata": {
        "colab": {
          "base_uri": "https://localhost:8080/"
        },
        "id": "z0C1zPa6YxV5",
        "outputId": "547dfa51-c5c4-4ffa-bdaa-9353d7e636a1"
      },
      "source": [
        "def indices_lista (diccionario, corpus):\n",
        "  idx = []\n",
        "  for elemento in corpus:\n",
        "    for palabra in elemento:\n",
        "      for key in diccionario:\n",
        "        if (palabra == key):\n",
        "          idx.append(diccionario[palabra])\n",
        "  return idx\n",
        "\n",
        "indices = indices_lista(dic_indices,simbolos)\n",
        "for i in range(10):\n",
        "  print(indices[i])"
      ],
      "execution_count": 208,
      "outputs": [
        {
          "output_type": "stream",
          "text": [
            "3890\n",
            "0\n",
            "1\n",
            "2\n",
            "3\n",
            "4\n",
            "5\n",
            "3891\n",
            "3890\n",
            "6\n"
          ],
          "name": "stdout"
        }
      ]
    },
    {
      "cell_type": "markdown",
      "metadata": {
        "id": "eubybPqfXn7P"
      },
      "source": [
        "Obteniendo bigramas\n"
      ]
    },
    {
      "cell_type": "code",
      "metadata": {
        "colab": {
          "base_uri": "https://localhost:8080/"
        },
        "id": "1SQwUqTKfTGl",
        "outputId": "1c586d00-b85d-4adc-a236-62d68dc885ff"
      },
      "source": [
        "def bigramas (index):\n",
        "  info=[]\n",
        "  #lista=[9,3,2,9,9,1,8]\n",
        "  j = 1\n",
        "  for i in index:\n",
        "    if i == 3891:\n",
        "      exit\n",
        "    \n",
        "    else:\n",
        "      if j < len(index):\n",
        "      #print (lista[j])\n",
        "        info.append((i,index[j]))\n",
        "    j +=1\n",
        "  \n",
        "  return info\n",
        "\n",
        "a = bigramas(indices)\n",
        "for i in range(10):\n",
        "  print(a[i])"
      ],
      "execution_count": 209,
      "outputs": [
        {
          "output_type": "stream",
          "text": [
            "(3890, 0)\n",
            "(0, 1)\n",
            "(1, 2)\n",
            "(2, 3)\n",
            "(3, 4)\n",
            "(4, 5)\n",
            "(5, 3891)\n",
            "(3890, 6)\n",
            "(6, 7)\n",
            "(7, 8)\n"
          ],
          "name": "stdout"
        }
      ]
    },
    {
      "cell_type": "markdown",
      "metadata": {
        "id": "iR3t4T41bfs3"
      },
      "source": [
        "4. Entrenar con los bigramas la red neuronal y obtener los valores para los hi-\n",
        "perpar ́ametros. Tomar de 100 unidades para la primera capa oculta (capa lineal) y 300 para la segunda capa oculta (capa con tanh)."
      ]
    },
    {
      "cell_type": "markdown",
      "metadata": {
        "id": "ZJxBkTOVbsbU"
      },
      "source": [
        "Para realizar este punto, se crea una clase llamada entrenamiento, que incluye el modelo de Bengio con el vector one_hot, primera y segunda capa oculta.\n",
        "\n",
        "Además, condiene las funciones para realizar el entrenamiento, estas son llamadas **forward** y **backprop**"
      ]
    },
    {
      "cell_type": "code",
      "metadata": {
        "id": "J74l3Xjx5kvD"
      },
      "source": [
        "#from tqdm.notebook import nbtqdm\n",
        "import math\n",
        "N = max(dic_indices.values())\n",
        "class entrenamiento:\n",
        "  def __init__(self, bigramas, d, m, N):\n",
        "        self.d = d\n",
        "        self.m = m\n",
        "        self.N = N\n",
        "        self.bigramas = bigramas\n",
        "\n",
        "  def inicializar_pesos(self, device):\n",
        "        self.C = np.random.randn(d,N)\n",
        "        self.W = np.random.rand(m,d)/np.sqrt(d)\n",
        "        self.b = np.ones(m)\n",
        "        self.U = np.random.rand(N,m)\n",
        "        self.c = np.ones(N)\n",
        "\n",
        "  def one_hot(indice_palabra):\n",
        "    tam = max(indices) +1\n",
        "    matriz = np.identity(tam,int)\n",
        "    return matriz[:,indice_palabra] \n",
        "\n",
        "  def embeding(d,vec_palabra):\n",
        "    Cx=[]\n",
        "    for i in range(self.C.shape[0]):\n",
        "      elemento = 0    \n",
        "      for j in range(self.C.shape[1]):\n",
        "          temp = self.C[i][j] * vec_palabra[j]\n",
        "          elemento = (elemento + temp)\n",
        "          \n",
        "      Cx.append(elemento/N-1)\n",
        "      \n",
        "    return Cx\n",
        "  \n",
        "  def capa_tanh(d, m, ci):\n",
        "    SC = np.tanh(np.dot(self.W,ci) + b1)\n",
        "    return SC\n",
        "  \n",
        "  def capa_salida(vec_capah,m):\n",
        "    ai = np.dot(self.U,hi) + self.c\n",
        "    \n",
        "    eai = np.exp(ai)\n",
        "    out = eai/eai.sum()\n",
        "    keys = dic_indices.keys()\n",
        "    p= dict(zip(keys,out))\n",
        "    return p\n",
        "\n",
        "  def forward(self, i_x):\n",
        "        # La capa embedding se reduce a C_1[:, i_x]\n",
        "        h_i = np.tanh(np.dot(self.W, self.C[:, i_x]) + self.b) # Segunda capa oculta\n",
        "        a = self.U.dot(h_i) + self.c # Preactivación\n",
        "        exp_a = np.exp(a - a.max()) # Exponencial de la preactivación\n",
        "        prob_salida = exp_a/exp_a.sum() # Capa de salida softmax\n",
        "        return prob_salida, h_i\n",
        "\n",
        "  def backprop(self, i_x, i_y, prob_salida, h_i, lr=0.1):\n",
        "        y_pred = np.argmax(prob_salida) # El índice de la palabra que predijo\n",
        "        \n",
        "        # Backprop\n",
        "        # Copio el arreglo para no modificar pesos de la salida original\n",
        "        d_out = np.array(prob_salida, copy=True) \n",
        "        \n",
        "        #d_out[i_y] -= 1  # p(w_k | w_i) - y_k\n",
        "        d_h = (1-h_i**2)*np.dot(d_out.T, self.U)\n",
        "        d_c = np.dot(d_h.T, self.W)\n",
        "\n",
        "        # Actualizamos los pesos\n",
        "        self.U -= lr*np.outer(d_out, h_i) \n",
        "        self.c -= lr*d_out\n",
        "        self.W -= lr*np.outer(d_h, self.C[:,i_x]) \n",
        "        self.b -= lr*d_h\n",
        "        self.C[:, i_x] -= lr*d_c # Las demás filas no nos interesan, porque son 00\n",
        "\n",
        "  def predecir(self, i_x):\n",
        "        return np.argmax(self.forward(i_x)[0])\n",
        "    \n",
        "  def entrenar(self, epochs=50, lr=[]):\n",
        "        entr_timeline = [] # Entropía a través de las épocas\n",
        "        min_entr = np.inf\n",
        "        for epoch in range(epochs):\n",
        "            #np.random.shuffle(bigramas)\n",
        "            cross_entropy = 0\n",
        "            for bigrama in self.bigramas:\n",
        "                i_x = bigrama[0] # El índice de la primer palabra del bigrama\n",
        "                i_y = bigrama[1] # El índice de la segunda palabra del bigrama\n",
        "                # print(f'  Bigrama: {inv_vocab[i_x]} {inv_vocab[i_y]}')\n",
        "                prob_salida, h_i = self.forward(i_x)\n",
        "                # print(f'  Predicción: {inv_vocab[i_x]} {inv_vocab[np.argmax(prob_salida)]}')\n",
        "                self.backprop(i_x, i_y, prob_salida, h_i, lr)\n",
        "                cross_entropy -= np.log(prob_salida[i_y-1])\n",
        "                        \n",
        "            # Si la entropua actual es mejor que la menor...\n",
        "            if cross_entropy < min_entr:\n",
        "                min_entr = cross_entropy  # ponemos la actual\n",
        "                # y movemos los mejores pesos\n",
        "                self.best_C = self.C\n",
        "                self.best_W = self.W\n",
        "                self.best_b = self.b\n",
        "                self.best_U = self.U\n",
        "                self.best_c = self.c\n",
        "                \n",
        "            entr_timeline.append(cross_entropy)    \n",
        "            print(\"Epoch: \",(epoch+1), \"\\tEntropía cruzada: \",cross_entropy)\n",
        "        return entr_timeline\n",
        "\n",
        "  def guardar_pesos(self, archivo):\n",
        "    C = self.C, \n",
        "    W = self.W, \n",
        "    b = self.b, \n",
        "    U = self.U, \n",
        "    c = self.c\n",
        "      "
      ],
      "execution_count": 195,
      "outputs": []
    },
    {
      "cell_type": "markdown",
      "metadata": {
        "id": "DsKpIPlGcLdV"
      },
      "source": [
        "Con lo anterior, se puede realizar el entrenamiento con los valores de d y m solicitados."
      ]
    },
    {
      "cell_type": "code",
      "metadata": {
        "colab": {
          "base_uri": "https://localhost:8080/"
        },
        "id": "vtEKUTudyTFj",
        "outputId": "f4c2c8eb-be7d-4aed-c067-93b8bbee815a"
      },
      "source": [
        "import torch\n",
        "epochs = 30\n",
        "lr = 0.01\n",
        "modelo = entrenamiento(a,100,300,N)\n",
        "modelo.inicializar_pesos(1)\n",
        "hist_entropia = modelo.entrenar(epochs, lr=lr)"
      ],
      "execution_count": 196,
      "outputs": [
        {
          "output_type": "stream",
          "text": [
            "Epoch:  1 \tEntropía cruzada:  371864.4879923523\n",
            "Epoch:  2 \tEntropía cruzada:  369835.65220808395\n",
            "Epoch:  3 \tEntropía cruzada:  369658.9999493184\n",
            "Epoch:  4 \tEntropía cruzada:  369805.444384984\n",
            "Epoch:  5 \tEntropía cruzada:  369952.1965424542\n",
            "Epoch:  6 \tEntropía cruzada:  370048.09436637885\n",
            "Epoch:  7 \tEntropía cruzada:  370102.57118486054\n",
            "Epoch:  8 \tEntropía cruzada:  370131.6252496635\n",
            "Epoch:  9 \tEntropía cruzada:  370146.6506096569\n",
            "Epoch:  10 \tEntropía cruzada:  370154.3027987581\n",
            "Epoch:  11 \tEntropía cruzada:  370158.1703178341\n",
            "Epoch:  12 \tEntropía cruzada:  370160.11770624894\n",
            "Epoch:  13 \tEntropía cruzada:  370161.09655165405\n",
            "Epoch:  14 \tEntropía cruzada:  370161.58823716483\n",
            "Epoch:  15 \tEntropía cruzada:  370161.8352190864\n",
            "Epoch:  16 \tEntropía cruzada:  370161.9593520097\n",
            "Epoch:  17 \tEntropía cruzada:  370162.0218154436\n",
            "Epoch:  18 \tEntropía cruzada:  370162.0533125952\n",
            "Epoch:  19 \tEntropía cruzada:  370162.0692506396\n",
            "Epoch:  20 \tEntropía cruzada:  370162.0773622349\n",
            "Epoch:  21 \tEntropía cruzada:  370162.08152977005\n",
            "Epoch:  22 \tEntropía cruzada:  370162.08370380156\n",
            "Epoch:  23 \tEntropía cruzada:  370162.08486537787\n",
            "Epoch:  24 \tEntropía cruzada:  370162.0855087699\n",
            "Epoch:  25 \tEntropía cruzada:  370162.08588366973\n",
            "Epoch:  26 \tEntropía cruzada:  370162.0861167654\n",
            "Epoch:  27 \tEntropía cruzada:  370162.08627276757\n",
            "Epoch:  28 \tEntropía cruzada:  370162.0863850899\n",
            "Epoch:  29 \tEntropía cruzada:  370162.08647127356\n",
            "Epoch:  30 \tEntropía cruzada:  370162.0865407444\n"
          ],
          "name": "stdout"
        }
      ]
    },
    {
      "cell_type": "markdown",
      "metadata": {
        "id": "4OLCDRLX-mHB"
      },
      "source": [
        "5. Evaluar el modelo (con Entrop ́ıa y/o Perplejidad)."
      ]
    },
    {
      "cell_type": "markdown",
      "metadata": {
        "id": "cCFuarvAcaTY"
      },
      "source": [
        "Se pueden observar algunas predicciones de bigramas con una lista de palabras y el índice de alguna otra."
      ]
    },
    {
      "cell_type": "code",
      "metadata": {
        "colab": {
          "base_uri": "https://localhost:8080/",
          "height": 265
        },
        "id": "kB4gMnuW-lmz",
        "outputId": "af62dc1d-3059-4baa-b5be-b095af5e0227"
      },
      "source": [
        "plt.plot(hist_entropia)\n",
        "plt.show()"
      ],
      "execution_count": 197,
      "outputs": [
        {
          "output_type": "display_data",
          "data": {
            "image/png": "[encoded data removed]",
            "text/plain": [
              "<Figure size 432x288 with 1 Axes>"
            ]
          },
          "metadata": {
            "tags": [],
            "needs_background": "light"
          }
        }
      ]
    },
    {
      "cell_type": "code",
      "metadata": {
        "colab": {
          "base_uri": "https://localhost:8080/"
        },
        "id": "dIwmZHO--5FU",
        "outputId": "0e00a302-bc33-444c-f9ae-1b6ee52b4828"
      },
      "source": [
        "test_w = ['the', 'when', 'by', 'in', 'walter', 'out']\n",
        "inv_vocab = { item : key for key, item in dic_indices.items()}\n",
        "print('Predicción de bigramas:')\n",
        "for w in test_w:\n",
        "    print(f'  {w} {inv_vocab[modelo.predecir(3800)]}')"
      ],
      "execution_count": 198,
      "outputs": [
        {
          "output_type": "stream",
          "text": [
            "Predicción de bigramas:\n",
            "  the overcom\n",
            "  when overcom\n",
            "  by overcom\n",
            "  in overcom\n",
            "  walter overcom\n",
            "  out overcom\n"
          ],
          "name": "stdout"
        }
      ]
    },
    {
      "cell_type": "markdown",
      "metadata": {
        "id": "AIHw39rCRlF2"
      },
      "source": [
        "6. Calcular la proabilidad de 5 oraciones no vistas en el entrenamiento."
      ]
    },
    {
      "cell_type": "markdown",
      "metadata": {
        "id": "V-ktTIUTcp1k"
      },
      "source": [
        "Para este paso, se creo una lista con 5 oraciones. A esta lista se le realizaron los pasos que se aplicaron al corpus en un inicio, estos son:\n",
        "\n",
        "\n",
        "\n",
        "1.   Agregar símbolos de inicio y fin\n",
        "2.   Indexar\n",
        "3.   Obtener bigramas\n",
        "\n",
        "Todo esto se hizo con las funciones realizadas anteriormente\n",
        "\n"
      ]
    },
    {
      "cell_type": "code",
      "metadata": {
        "colab": {
          "base_uri": "https://localhost:8080/"
        },
        "id": "x3Aovr1iReSG",
        "outputId": "7f05b9bb-c1dd-46e7-aae4-838731b44b7e"
      },
      "source": [
        "lista_oraciones = [\"the crown is in the city\", \"out of the city is fine\", \"the clock is in the first minute\"\n",
        "                    \"whe you learn all are good\",\"the best of you is smile\"]\n",
        "\n",
        "palabras = []\n",
        "oraciones = []\n",
        "for oracion in lista_oraciones:\n",
        "  sep = oracion.split(' ')\n",
        "  oraciones.append(sep)\n",
        "\n",
        "print(oraciones)\n",
        "\n",
        "#Se agregan los simbolos de inicio y fin\n",
        "infi = inicio_fin(oraciones)\n",
        "print(infi)\n",
        "#Se indexa\n",
        "#index = indices(inicio_fin(oraciones))\n",
        "print(index)\n",
        "#Bigramas\n",
        "il = indices_lista(index,infi)\n",
        "b = bigramas(il)\n",
        "print(b)"
      ],
      "execution_count": 201,
      "outputs": [
        {
          "output_type": "stream",
          "text": [
            "[['the', 'crown', 'is', 'in', 'the', 'city'], ['out', 'of', 'the', 'city', 'is', 'fine'], ['the', 'clock', 'is', 'in', 'the', 'first', 'minutewhe', 'you', 'learn', 'all', 'are', 'good'], ['the', 'best', 'of', 'you', 'is', 'smile']]\n",
            "[['BOS', 'the', 'crown', 'is', 'in', 'the', 'city', 'EOS'], ['BOS', 'out', 'of', 'the', 'city', 'is', 'fine', 'EOS'], ['BOS', 'the', 'clock', 'is', 'in', 'the', 'first', 'minutewhe', 'you', 'learn', 'all', 'are', 'good', 'EOS'], ['BOS', 'the', 'best', 'of', 'you', 'is', 'smile', 'EOS']]\n",
            "{'the': 0, 'crown': 1, 'is': 2, 'in': 3, 'city': 4, 'out': 5, 'of': 6, 'fine': 7, 'clock': 8, 'first': 9, 'minutewhe': 10, 'you': 11, 'learn': 12, 'all': 13, 'are': 14, 'good': 15, 'best': 16, 'smile': 17, 'BOS': 19, 'EOS': 20}\n",
            "[(19, 0), (0, 1), (1, 2), (2, 3), (3, 0), (0, 4), (4, 20), (20, 19), (19, 5), (5, 6), (6, 0), (0, 4), (4, 2), (2, 7), (7, 20), (20, 19), (19, 0), (0, 8), (8, 2), (2, 3), (3, 0), (0, 9), (9, 10), (10, 11), (11, 12), (12, 13), (13, 14), (14, 15), (15, 20), (20, 19), (19, 0), (0, 16), (16, 6), (6, 11), (11, 2), (2, 17), (17, 20)]\n"
          ],
          "name": "stdout"
        }
      ]
    },
    {
      "cell_type": "markdown",
      "metadata": {
        "id": "4Lkzy1EiXAid"
      },
      "source": [
        "Finalmente, se calculó la probabilidad de cada oración obteniendo las matrices A y Pi.\n",
        "\n",
        "Se creó la función prob_lista_bigramas, que calcula la probabilidad."
      ]
    },
    {
      "cell_type": "code",
      "metadata": {
        "colab": {
          "base_uri": "https://localhost:8080/"
        },
        "id": "hIlPYfk1XB5H",
        "outputId": "87ed5759-f45b-4411-a938-3a9172ee4405"
      },
      "source": [
        "matA = np.array([\n",
        "    modelo.forward(i_x)[0] # Sólo nos interesa el vector de probabilidades\n",
        "    for i_x in range(N)  # Iterar sobre todas las palabras del vocabulario\n",
        "])\n",
        "matPi = modelo.forward(20)[0]\n",
        "\n",
        "def prob_lista_bigramas(lista_bi, A, Pi):\n",
        "    prob = 1.0\n",
        "    for w_i, w_j in lista_bi:\n",
        "        prob *= modelo.forward(w_i)[0][w_j]\n",
        "    return prob\n",
        "\n",
        "for lista_bi, oracion in zip(b, lista_oraciones):\n",
        "    print(f'Probabilidad de \\\"{oracion}\\\" = {prob_lista_bigramas(b, matA, matPi)}')"
      ],
      "execution_count": 202,
      "outputs": [
        {
          "output_type": "stream",
          "text": [
            "Probabilidad de \"the crown is in the city\" = 1.4714081021203007e-133\n",
            "Probabilidad de \"out of the city is fine\" = 1.4714081021203007e-133\n",
            "Probabilidad de \"the clock is in the first minutewhe you learn all are good\" = 1.4714081021203007e-133\n",
            "Probabilidad de \"the best of you is smile\" = 1.4714081021203007e-133\n"
          ],
          "name": "stdout"
        }
      ]
    },
    {
      "cell_type": "markdown",
      "metadata": {
        "id": "4hUo3N75YnkU"
      },
      "source": [
        "#**Conclusiones**\n",
        "\n",
        "Al término de esta tarea, puedo decir que se logró aplicar los conocimientos adquiridos en el semestre sobre el entrenamiento de una red neuronal. Se puede tener grandes aplicaciones para esto. Creo que este es un tema que se puede estudiar más a fondo para tener un mejor conocimiento de sus aplicaciones."
      ]
    }
  ]
}