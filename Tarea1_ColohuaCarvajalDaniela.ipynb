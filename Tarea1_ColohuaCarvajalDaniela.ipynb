{
  "nbformat": 4,
  "nbformat_minor": 0,
  "metadata": {
    "colab": {
      "name": "Tarea1_ColohuaCarvajalDaniela.ipynb",
      "provenance": [],
      "collapsed_sections": [],
      "authorship_tag": "ABX9TyM65NW1qn+Rp/O2oGkyLOyo",
      "include_colab_link": true
    },
    "kernelspec": {
      "name": "python3",
      "display_name": "Python 3"
    },
    "language_info": {
      "name": "python"
    }
  },
  "cells": [
    {
      "cell_type": "markdown",
      "metadata": {
        "id": "view-in-github",
        "colab_type": "text"
      },
      "source": [
        "<a href=\"https://colab.research.google.com/github/danielacarv/PLN/blob/main/Tarea1_ColohuaCarvajalDaniela.ipynb\" target=\"_parent\"><img src=\"https://colab.research.google.com/assets/colab-badge.svg\" alt=\"Open In Colab\"/></a>"
      ]
    },
    {
      "cell_type": "markdown",
      "metadata": {
        "id": "1YZ0jWp7kWjD"
      },
      "source": [
        "**Objetivo:** Preprocesar un corpus a partir de métodos basados en lenguajes\n",
        "formales.\n",
        "\n",
        "1. Escoger un corpus de cualquier idioma y de un tamaño mayor a 10 000\n",
        "tokens (se puede tomar este corpus de la paquetería nltk.corpus). Este\n",
        "corpus se usará a lo largo del curso.\n",
        "\n"
      ]
    },
    {
      "cell_type": "markdown",
      "metadata": {
        "id": "JsY8G5Nykpdk"
      },
      "source": [
        "Se utiliza la paquetería *nltk.corpus* para obtener un corpus con las características solicitadas.\n"
      ]
    },
    {
      "cell_type": "code",
      "metadata": {
        "colab": {
          "base_uri": "https://localhost:8080/"
        },
        "id": "mceyJFwlj6jS",
        "outputId": "cbce09e8-8845-4762-9366-1ec12852715a"
      },
      "source": [
        "import nltk.corpus\n",
        "\n",
        "print (\"Hola daniela\")\n"
      ],
      "execution_count": null,
      "outputs": [
        {
          "output_type": "stream",
          "text": [
            "Hola daniela\n"
          ],
          "name": "stdout"
        }
      ]
    }
  ]
}