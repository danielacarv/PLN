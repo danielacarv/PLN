{
  "nbformat": 4,
  "nbformat_minor": 0,
  "metadata": {
    "colab": {
      "name": "PLN_Tarea1_ColohuaCarvajalDaniela.ipynb",
      "provenance": [],
      "collapsed_sections": [],
      "authorship_tag": "ABX9TyMy5r7wf6G3Y+xiT8fEZebv",
      "include_colab_link": true
    },
    "kernelspec": {
      "name": "python3",
      "display_name": "Python 3"
    },
    "language_info": {
      "name": "python"
    }
  },
  "cells": [
    {
      "cell_type": "markdown",
      "metadata": {
        "id": "view-in-github",
        "colab_type": "text"
      },
      "source": [
        "<a href=\"https://colab.research.google.com/github/danielacarv/PLN/blob/main/PLN_Tarea1_ColohuaCarvajalDaniela.ipynb\" target=\"_parent\"><img src=\"https://colab.research.google.com/assets/colab-badge.svg\" alt=\"Open In Colab\"/></a>"
      ]
    },
    {
      "cell_type": "markdown",
      "metadata": {
        "id": "OYpcNsmhyyaq"
      },
      "source": [
        "#**Tarea 1**\n",
        "\n",
        "# Alumna: Colohua Carvajal Daniela\n",
        "\n",
        "---\n",
        "\n",
        "* *Procesamiento de Lenguaje Natural*\n",
        "* *Facultad de Ingeniería, UNAM*\n"
      ]
    },
    {
      "cell_type": "markdown",
      "metadata": {
        "id": "1YZ0jWp7kWjD"
      },
      "source": [
        "\n",
        "\n",
        "**Objetivo:** Preprocesar un corpus a partir de métodos basados en lenguajes\n",
        "formales.\n",
        "\n",
        "\n",
        "1. **Escoger un corpus de cualquier idioma y de un tamaño mayor a 10 000\n",
        "tokens (se puede tomar este corpus de la paquetería nltk.corpus). Este\n",
        "corpus se usará a lo largo del curso.** \n",
        "\n"
      ]
    },
    {
      "cell_type": "markdown",
      "metadata": {
        "id": "JsY8G5Nykpdk"
      },
      "source": [
        "\n",
        "\n",
        "> Para empezar, se importan todas las librerías que se utilizarán a lo largo del programa\n",
        "\n",
        "\n",
        "\n",
        "> 1.   *nltk.corpus* para obtener un corpus con las características solicitadas.\n",
        "2.   *string*, se utilizará para hacer la limpieza del corpus.\n",
        "3.   *stopwords* se utilizará para eliminar stopwords.\n",
        "\n",
        "\n",
        "\n",
        "\n",
        "\n"
      ]
    },
    {
      "cell_type": "code",
      "metadata": {
        "id": "mceyJFwlj6jS"
      },
      "source": [
        "import nltk\n",
        "import string\n",
        "from nltk.corpus import stopwords\n",
        "import re"
      ],
      "execution_count": 1,
      "outputs": []
    },
    {
      "cell_type": "markdown",
      "metadata": {
        "id": "6zlFeri_Asde"
      },
      "source": [
        "\n",
        "> Al buscar los corpus que proporciona la librería antes mencionada, se eligió el corpus ***gutenberg***, que es una selección de textos del Proyecto Gutenberg. En la siguiente instrucción se descarga dicho corpus.\n",
        "\n",
        "\n"
      ]
    },
    {
      "cell_type": "code",
      "metadata": {
        "id": "cZLdYFNQBsLw",
        "colab": {
          "base_uri": "https://localhost:8080/"
        },
        "outputId": "8bb777e7-02a8-4881-a502-78fa396fe809"
      },
      "source": [
        "nltk.download('gutenberg') #Descarga corpus"
      ],
      "execution_count": 2,
      "outputs": [
        {
          "output_type": "stream",
          "text": [
            "[nltk_data] Downloading package gutenberg to /root/nltk_data...\n",
            "[nltk_data]   Package gutenberg is already up-to-date!\n"
          ],
          "name": "stdout"
        },
        {
          "output_type": "execute_result",
          "data": {
            "text/plain": [
              "True"
            ]
          },
          "metadata": {
            "tags": []
          },
          "execution_count": 2
        }
      ]
    },
    {
      "cell_type": "markdown",
      "metadata": {
        "id": "z54fyVr3CJ8b"
      },
      "source": [
        "\n",
        "\n",
        "> Para hacer uso del corpus seleccionado se importa de la librería *nltk.corpus*\n",
        "\n"
      ]
    },
    {
      "cell_type": "code",
      "metadata": {
        "id": "6HOqBIHkJlKz"
      },
      "source": [
        "from nltk.corpus import gutenberg #Importa corpus"
      ],
      "execution_count": 3,
      "outputs": []
    },
    {
      "cell_type": "markdown",
      "metadata": {
        "id": "lDrGf9sSCilo"
      },
      "source": [
        "\n",
        "\n",
        "> Debido a que el corpus gutenberg es una selección de textos, es necesario trabajar sólo con uno. A contnuación se listan los textos para elegir uno.\n",
        "\n"
      ]
    },
    {
      "cell_type": "code",
      "metadata": {
        "id": "5WxCJBL67-7S",
        "colab": {
          "base_uri": "https://localhost:8080/"
        },
        "outputId": "6faf7a14-fdf7-4231-e88b-1802c8c9668e"
      },
      "source": [
        "files = nltk.corpus.gutenberg.fileids() #Lista textos del corpus\n",
        "print(files)"
      ],
      "execution_count": 4,
      "outputs": [
        {
          "output_type": "stream",
          "text": [
            "['austen-emma.txt', 'austen-persuasion.txt', 'austen-sense.txt', 'bible-kjv.txt', 'blake-poems.txt', 'bryant-stories.txt', 'burgess-busterbrown.txt', 'carroll-alice.txt', 'chesterton-ball.txt', 'chesterton-brown.txt', 'chesterton-thursday.txt', 'edgeworth-parents.txt', 'melville-moby_dick.txt', 'milton-paradise.txt', 'shakespeare-caesar.txt', 'shakespeare-hamlet.txt', 'shakespeare-macbeth.txt', 'whitman-leaves.txt']\n"
          ],
          "name": "stdout"
        }
      ]
    },
    {
      "cell_type": "markdown",
      "metadata": {
        "id": "f86OJiuwDF9u"
      },
      "source": [
        "\n",
        "\n",
        "> Después de ver la lista, se ha decidido ocupar el archivo *austen.txt*\n",
        "En el siguiente bloque de instrucciones:\n",
        "1.   Se asigna un nombre corto a este corpus\n",
        "2.   Para verificar que cumpla con los requisitos, se realiza un conteo de tokens.\n",
        "3.   Además, se cuntan los tipos \n"
      ]
    },
    {
      "cell_type": "code",
      "metadata": {
        "id": "te5J4KUOI5SI",
        "colab": {
          "base_uri": "https://localhost:8080/"
        },
        "outputId": "48c3b89c-636d-415d-bbe4-1be722519c63"
      },
      "source": [
        "#Nombre corto para las palabras del corpus\n",
        "persuasion = nltk.corpus.gutenberg.words('austen-persuasion.txt') \n",
        "\n",
        "tokens = len(persuasion)     #Número de tokens\n",
        "tipos = len(set(persuasion)) #Número de tipos\n",
        "\n",
        "print('Numero de tokens:', tokens)\n",
        "print('Número de tipos:', tipos)"
      ],
      "execution_count": 5,
      "outputs": [
        {
          "output_type": "stream",
          "text": [
            "Numero de tokens: 98171\n",
            "Número de tipos: 6132\n"
          ],
          "name": "stdout"
        }
      ]
    },
    {
      "cell_type": "markdown",
      "metadata": {
        "id": "07yWlJ0wEiZX"
      },
      "source": [
        "2. **Limpiar el corpus: eliminar signos de puntuación, de interrogación, admiración y elementos no léxicos.**"
      ]
    },
    {
      "cell_type": "markdown",
      "metadata": {
        "id": "0Tgm4s930Kqz"
      },
      "source": [
        "\n",
        "\n",
        "> Para empezar, se pasan todos los caracteres a minpusculas para evitar conflictos. Para realizar esto, se hará uso del método *lower()* de la librería *string*. *lower()* se encarga de convertir la cadena a minúsculas, estos resultados se guardan en una lista, que se imprimirá para ver los resultados.\n",
        "\n",
        "NOTA: De aqué en adelante, no se imprimirá todo el corpus para evitar una salida muy grande.\n",
        "\n"
      ]
    },
    {
      "cell_type": "code",
      "metadata": {
        "id": "CP3NcUan1fX1",
        "colab": {
          "base_uri": "https://localhost:8080/"
        },
        "outputId": "13cd08cc-8b60-4353-e0e0-94d67299b997"
      },
      "source": [
        "#Pasa cada caracter a minuscula \n",
        "pers_min = [w.lower() for w in persuasion] # Cada token del corpus es guardado en minusculas en la lista\n",
        "\n",
        "print(pers_min[:150]) #imprime el corpus en minusculas"
      ],
      "execution_count": 6,
      "outputs": [
        {
          "output_type": "stream",
          "text": [
            "['[', 'persuasion', 'by', 'jane', 'austen', '1818', ']', 'chapter', '1', 'sir', 'walter', 'elliot', ',', 'of', 'kellynch', 'hall', ',', 'in', 'somersetshire', ',', 'was', 'a', 'man', 'who', ',', 'for', 'his', 'own', 'amusement', ',', 'never', 'took', 'up', 'any', 'book', 'but', 'the', 'baronetage', ';', 'there', 'he', 'found', 'occupation', 'for', 'an', 'idle', 'hour', ',', 'and', 'consolation', 'in', 'a', 'distressed', 'one', ';', 'there', 'his', 'faculties', 'were', 'roused', 'into', 'admiration', 'and', 'respect', ',', 'by', 'contemplating', 'the', 'limited', 'remnant', 'of', 'the', 'earliest', 'patents', ';', 'there', 'any', 'unwelcome', 'sensations', ',', 'arising', 'from', 'domestic', 'affairs', 'changed', 'naturally', 'into', 'pity', 'and', 'contempt', 'as', 'he', 'turned', 'over', 'the', 'almost', 'endless', 'creations', 'of', 'the', 'last', 'century', ';', 'and', 'there', ',', 'if', 'every', 'other', 'leaf', 'were', 'powerless', ',', 'he', 'could', 'read', 'his', 'own', 'history', 'with', 'an', 'interest', 'which', 'never', 'failed', '.', 'this', 'was', 'the', 'page', 'at', 'which', 'the', 'favourite', 'volume', 'always', 'opened', ':', '\"', 'elliot', 'of', 'kellynch', 'hall', '.', '\"', 'walter', 'elliot', ',', 'born', 'march']\n"
          ],
          "name": "stdout"
        }
      ]
    },
    {
      "cell_type": "markdown",
      "metadata": {
        "id": "c1uFhCMHRPhA"
      },
      "source": [
        "\n",
        "\n",
        "> Una vez teniendo el corpus en minúscula, se puede realizar la limpieza eliminando todos los signos de puntuación, interrogación y admiración, así como los elementos no léxicos. Para realizar esto, se usó la opción ***punctuation*** de la librería ***string***. Esta opción es una cadena de caracteres, que son justo los que buscamos eliminar.\n",
        "\n",
        "\n",
        "> Signos que contiene *punctuation*:\n",
        "   !\"#$%&'()*+,-./:;<=>?@[\\]^_`{|}~\n",
        "\n",
        "> Con lo anterior, se puede recorrer el corpus y si encuentra alguno de los signos, no lo guardará.\n",
        "Al final, se cuentan los tokens para ver que disminuyeron\n",
        "\n",
        "\n",
        "\n"
      ]
    },
    {
      "cell_type": "code",
      "metadata": {
        "id": "99JuPZIATnPh",
        "colab": {
          "base_uri": "https://localhost:8080/"
        },
        "outputId": "6b8494d0-1ef0-4da5-c777-a76e71ac72c7"
      },
      "source": [
        "#Introduce cada caracter que sea alfanumérico\n",
        "pers_limpio = [x for x in pers_min if x not in string.punctuation]\n",
        "print(pers_limpio[:150]) #Imprime el resultado sin caracteres no alfanuméricos\n",
        "\n",
        "#Cuenta tokens\n",
        "tokens = len(pers_limpio)\n",
        "print(tokens)"
      ],
      "execution_count": 7,
      "outputs": [
        {
          "output_type": "stream",
          "text": [
            "['persuasion', 'by', 'jane', 'austen', '1818', 'chapter', '1', 'sir', 'walter', 'elliot', 'of', 'kellynch', 'hall', 'in', 'somersetshire', 'was', 'a', 'man', 'who', 'for', 'his', 'own', 'amusement', 'never', 'took', 'up', 'any', 'book', 'but', 'the', 'baronetage', 'there', 'he', 'found', 'occupation', 'for', 'an', 'idle', 'hour', 'and', 'consolation', 'in', 'a', 'distressed', 'one', 'there', 'his', 'faculties', 'were', 'roused', 'into', 'admiration', 'and', 'respect', 'by', 'contemplating', 'the', 'limited', 'remnant', 'of', 'the', 'earliest', 'patents', 'there', 'any', 'unwelcome', 'sensations', 'arising', 'from', 'domestic', 'affairs', 'changed', 'naturally', 'into', 'pity', 'and', 'contempt', 'as', 'he', 'turned', 'over', 'the', 'almost', 'endless', 'creations', 'of', 'the', 'last', 'century', 'and', 'there', 'if', 'every', 'other', 'leaf', 'were', 'powerless', 'he', 'could', 'read', 'his', 'own', 'history', 'with', 'an', 'interest', 'which', 'never', 'failed', 'this', 'was', 'the', 'page', 'at', 'which', 'the', 'favourite', 'volume', 'always', 'opened', 'elliot', 'of', 'kellynch', 'hall', 'walter', 'elliot', 'born', 'march', '1', '1760', 'married', 'july', '15', '1784', 'elizabeth', 'daughter', 'of', 'james', 'stevenson', 'esq', 'of', 'south', 'park', 'in', 'the', 'county', 'of', 'gloucester', 'by', 'which']\n",
            "85075\n"
          ],
          "name": "stdout"
        }
      ]
    },
    {
      "cell_type": "markdown",
      "metadata": {
        "id": "Vc03jCP7PNAP"
      },
      "source": [
        "> En el paso anterior se hace la eliminación de token no alfanuméricos, sin embargo, es ese paso sólo se elimina si el token tiene un solo elemento, por ejemplo: ')', ',','.', etc. Sin embargo, si existen token que tengan al final o en medio alguno de estos signos, no se eliminará, podríamos encontrar tokens como: '.--', '...', 'hola!', 'como?' 'd.c', etc.\n",
        "\n",
        "> Para resolver lo anterior se realiza otro recorrido al corpus, en donde se analza cada token, y si en ese token se encuentra alguno de los signos no deseados se liminará."
      ]
    },
    {
      "cell_type": "code",
      "metadata": {
        "colab": {
          "base_uri": "https://localhost:8080/"
        },
        "id": "wMBHR962ELBP",
        "outputId": "0315ff47-5824-4d6d-95a5-86c67b76f5f6"
      },
      "source": [
        "pers_limpio2 = [] # Guardará el corpus completamente limpio\n",
        "\n",
        "for token in pers_limpio: #Recorre el corpus\n",
        "  newStr='' # Para ir guardando el token temporal\n",
        "  for letter in token: # Recorre cada caracter del token\n",
        "    if letter in string.punctuation: # Si el caracter es de los no deseados\n",
        "      new = letter.replace(letter,'') #Se elimina el token\n",
        "      newStr=newStr + new # Token temporal sin signo\n",
        "    else:  # Si es un caracter alfanumérico\n",
        "      newStr = newStr + letter # Token temporal\n",
        "  \n",
        "  if newStr != '': # Si el token resultante no es vacío\n",
        "    pers_limpio2.append(newStr) #Se guarda\n",
        "  else: # Si el token resultante es vacío\n",
        "    continue #No lo guarda y continúa con el siguiente token\n",
        "\n",
        "print (pers_limpio2[:150]) #Imprime el corpus completamente limpio\n",
        " #Cuenta total de tokens\n",
        "tokens = len(pers_limpio2)\n",
        "print(tokens)"
      ],
      "execution_count": 8,
      "outputs": [
        {
          "output_type": "stream",
          "text": [
            "['persuasion', 'by', 'jane', 'austen', '1818', 'chapter', '1', 'sir', 'walter', 'elliot', 'of', 'kellynch', 'hall', 'in', 'somersetshire', 'was', 'a', 'man', 'who', 'for', 'his', 'own', 'amusement', 'never', 'took', 'up', 'any', 'book', 'but', 'the', 'baronetage', 'there', 'he', 'found', 'occupation', 'for', 'an', 'idle', 'hour', 'and', 'consolation', 'in', 'a', 'distressed', 'one', 'there', 'his', 'faculties', 'were', 'roused', 'into', 'admiration', 'and', 'respect', 'by', 'contemplating', 'the', 'limited', 'remnant', 'of', 'the', 'earliest', 'patents', 'there', 'any', 'unwelcome', 'sensations', 'arising', 'from', 'domestic', 'affairs', 'changed', 'naturally', 'into', 'pity', 'and', 'contempt', 'as', 'he', 'turned', 'over', 'the', 'almost', 'endless', 'creations', 'of', 'the', 'last', 'century', 'and', 'there', 'if', 'every', 'other', 'leaf', 'were', 'powerless', 'he', 'could', 'read', 'his', 'own', 'history', 'with', 'an', 'interest', 'which', 'never', 'failed', 'this', 'was', 'the', 'page', 'at', 'which', 'the', 'favourite', 'volume', 'always', 'opened', 'elliot', 'of', 'kellynch', 'hall', 'walter', 'elliot', 'born', 'march', '1', '1760', 'married', 'july', '15', '1784', 'elizabeth', 'daughter', 'of', 'james', 'stevenson', 'esq', 'of', 'south', 'park', 'in', 'the', 'county', 'of', 'gloucester', 'by', 'which']\n",
            "84167\n"
          ],
          "name": "stdout"
        }
      ]
    },
    {
      "cell_type": "markdown",
      "metadata": {
        "id": "rnW6piHSX1gp"
      },
      "source": [
        "3. **Eliminar las stopwords (se puede utilizar listas pre-hechas como las de\n",
        "nltk).**\n",
        "\n",
        "> Para comenzar este punto se descarga la lista de stopwords que proporciona nltk, después se guarda en una lista los stopwors en inglés (porque el texto escogido está en ese idioma)."
      ]
    },
    {
      "cell_type": "code",
      "metadata": {
        "colab": {
          "base_uri": "https://localhost:8080/"
        },
        "id": "aqbUPsAdz3fD",
        "outputId": "63c9f558-ccee-44e5-8956-49377f1326da"
      },
      "source": [
        "nltk.download('stopwords')"
      ],
      "execution_count": 9,
      "outputs": [
        {
          "output_type": "stream",
          "text": [
            "[nltk_data] Downloading package stopwords to /root/nltk_data...\n",
            "[nltk_data]   Package stopwords is already up-to-date!\n"
          ],
          "name": "stdout"
        },
        {
          "output_type": "execute_result",
          "data": {
            "text/plain": [
              "True"
            ]
          },
          "metadata": {
            "tags": []
          },
          "execution_count": 9
        }
      ]
    },
    {
      "cell_type": "code",
      "metadata": {
        "id": "t98DoUfkxQpz",
        "colab": {
          "base_uri": "https://localhost:8080/"
        },
        "outputId": "8980824a-71f1-4957-f8e4-f1a81f04e54e"
      },
      "source": [
        "#Se guarda en la lista los stopwords en inglés\n",
        "stopwords_eng = stopwords.words('english')\n",
        "#Imprime los stopwords\n",
        "print(stopwords_eng)"
      ],
      "execution_count": 10,
      "outputs": [
        {
          "output_type": "stream",
          "text": [
            "['i', 'me', 'my', 'myself', 'we', 'our', 'ours', 'ourselves', 'you', \"you're\", \"you've\", \"you'll\", \"you'd\", 'your', 'yours', 'yourself', 'yourselves', 'he', 'him', 'his', 'himself', 'she', \"she's\", 'her', 'hers', 'herself', 'it', \"it's\", 'its', 'itself', 'they', 'them', 'their', 'theirs', 'themselves', 'what', 'which', 'who', 'whom', 'this', 'that', \"that'll\", 'these', 'those', 'am', 'is', 'are', 'was', 'were', 'be', 'been', 'being', 'have', 'has', 'had', 'having', 'do', 'does', 'did', 'doing', 'a', 'an', 'the', 'and', 'but', 'if', 'or', 'because', 'as', 'until', 'while', 'of', 'at', 'by', 'for', 'with', 'about', 'against', 'between', 'into', 'through', 'during', 'before', 'after', 'above', 'below', 'to', 'from', 'up', 'down', 'in', 'out', 'on', 'off', 'over', 'under', 'again', 'further', 'then', 'once', 'here', 'there', 'when', 'where', 'why', 'how', 'all', 'any', 'both', 'each', 'few', 'more', 'most', 'other', 'some', 'such', 'no', 'nor', 'not', 'only', 'own', 'same', 'so', 'than', 'too', 'very', 's', 't', 'can', 'will', 'just', 'don', \"don't\", 'should', \"should've\", 'now', 'd', 'll', 'm', 'o', 're', 've', 'y', 'ain', 'aren', \"aren't\", 'couldn', \"couldn't\", 'didn', \"didn't\", 'doesn', \"doesn't\", 'hadn', \"hadn't\", 'hasn', \"hasn't\", 'haven', \"haven't\", 'isn', \"isn't\", 'ma', 'mightn', \"mightn't\", 'mustn', \"mustn't\", 'needn', \"needn't\", 'shan', \"shan't\", 'shouldn', \"shouldn't\", 'wasn', \"wasn't\", 'weren', \"weren't\", 'won', \"won't\", 'wouldn', \"wouldn't\"]\n"
          ],
          "name": "stdout"
        }
      ]
    },
    {
      "cell_type": "markdown",
      "metadata": {
        "id": "HbINtjuoaS-c"
      },
      "source": [
        "> Una vez teniendo la lista de stopwords, se hace una comparación elemento a elemento con el corpus limpio (pers_limpio) y si no es un stopword (stopwords_eng), se mantiene.\n",
        "\n",
        "> Para ver la diferencia con el corpus original, se realiza el conteo de tokes, se verá que estos disminuyeron de forma considerable."
      ]
    },
    {
      "cell_type": "code",
      "metadata": {
        "id": "RsC6vF-UUnG7",
        "colab": {
          "base_uri": "https://localhost:8080/"
        },
        "outputId": "d8e187e6-a66d-4e71-fc7d-f7130a582249"
      },
      "source": [
        "#Aquí se guardará los elementos que no sean stopwords\n",
        "pers_stopw = [i for i in pers_limpio2 if i not in stopwords_eng]\n",
        "\n",
        "print (pers_stopw[:150]) #Imprime corpus sin stopwords\n",
        "\n",
        "#Cuenta tokens\n",
        "tokens = len(pers_stopw)\n",
        "print(tokens)\n",
        "\n",
        "for token in pers_stopw:\n",
        "  if token == '':\n",
        "    print(token)"
      ],
      "execution_count": 11,
      "outputs": [
        {
          "output_type": "stream",
          "text": [
            "['persuasion', 'jane', 'austen', '1818', 'chapter', '1', 'sir', 'walter', 'elliot', 'kellynch', 'hall', 'somersetshire', 'man', 'amusement', 'never', 'took', 'book', 'baronetage', 'found', 'occupation', 'idle', 'hour', 'consolation', 'distressed', 'one', 'faculties', 'roused', 'admiration', 'respect', 'contemplating', 'limited', 'remnant', 'earliest', 'patents', 'unwelcome', 'sensations', 'arising', 'domestic', 'affairs', 'changed', 'naturally', 'pity', 'contempt', 'turned', 'almost', 'endless', 'creations', 'last', 'century', 'every', 'leaf', 'powerless', 'could', 'read', 'history', 'interest', 'never', 'failed', 'page', 'favourite', 'volume', 'always', 'opened', 'elliot', 'kellynch', 'hall', 'walter', 'elliot', 'born', 'march', '1', '1760', 'married', 'july', '15', '1784', 'elizabeth', 'daughter', 'james', 'stevenson', 'esq', 'south', 'park', 'county', 'gloucester', 'lady', 'died', '1800', 'issue', 'elizabeth', 'born', 'june', '1', '1785', 'anne', 'born', 'august', '9', '1787', 'still', 'born', 'son', 'november', '5', '1789', 'mary', 'born', 'november', '20', '1791', 'precisely', 'paragraph', 'originally', 'stood', 'printer', 'hands', 'sir', 'walter', 'improved', 'adding', 'information', 'family', 'words', 'date', 'mary', 'birth', 'married', 'december', '16', '1810', 'charles', 'son', 'heir', 'charles', 'musgrove', 'esq', 'uppercross', 'county', 'somerset', 'inserting', 'accurately', 'day', 'month', 'lost', 'wife', 'followed', 'history', 'rise', 'ancient', 'respectable']\n",
            "38383\n"
          ],
          "name": "stdout"
        }
      ]
    },
    {
      "cell_type": "markdown",
      "metadata": {
        "id": "vqL-UfQVgYnm"
      },
      "source": [
        "4. **Aplicar un algoritmo de Stemming a los tokens limpios (p. ej. el algoritmo\n",
        "de Porter).**\n",
        "\n",
        "> Para este ejercicio se ha decidido realizar el algoritmo de Porter Stemmer. A continuación se explicará paso a paso la implementación de dicho algoritmo. Para lograr llegar a un buen resultado se tomó en cuenta las reglas especificadas en el algoritmo. Las reglas que se mencionarán son las mismas que se encuentran documentadas en la siguiente liga:\n",
        "\n",
        "*Fuente:* [The English (Porter2) stemming algorithm](https://snowballstem.org/algorithms/english/stemmer.html)"
      ]
    },
    {
      "cell_type": "markdown",
      "metadata": {
        "id": "qZc9JAi5cnhK"
      },
      "source": [
        "> Pasos previos\n",
        "\n",
        "> Para empezar a desarrollar el algoritmo se debe tomar en cuenta las vocales, los pares de consonantes válidos, y algunas terminaciones de una sola consonante válidas. Para esto, se declararon tres listas con cada uno de los elementos mencionados. "
      ]
    },
    {
      "cell_type": "code",
      "metadata": {
        "id": "WprbBpq69zzB"
      },
      "source": [
        "#Contiene las vocales y la 'y'\n",
        "vowel = ['a','e','i','o','u','y']\n",
        "#Contiene los pares de consonantes válidos\n",
        "double = ['bb','dd','ff','gg','mm','nn','pp','rr','tt']\n",
        "#Contiene las terminaciones válidas de una sola consonante\n",
        "validTerm = ['c','d','e','g','h','k','m','n','r','t']"
      ],
      "execution_count": 12,
      "outputs": []
    },
    {
      "cell_type": "markdown",
      "metadata": {
        "id": "UFH35jjZZQ6B"
      },
      "source": [
        "> Para este algoritmo hay que tomar en cuenta que existen palabras cortas (short word) o sílabas cortas (short syllable). Estas sílabas se pueden identificar por: \n",
        "\n",
        "> *'Una vocal seguida por un no-vocal distinta de w, x o Y y precedido por un no vocal'*\n",
        "\n",
        "> Con lo anterior, se puede realizar una función que verifique lo antes mencionado."
      ]
    },
    {
      "cell_type": "code",
      "metadata": {
        "id": "C2G58YvHzsOa"
      },
      "source": [
        "#Funcion que recibe una cadena y verifica si es una palabra corta\n",
        "def CVC(string):\n",
        "    #   verifica Consonante            seguido de Vocal           Seguido de Consonante  que no sea w, x o y      \n",
        "    if string[-3:-2] not in vowel and string[-2:-1] in vowel and string[-1:] not in vowel and string[-1:] not in ['x','w','y']:\n",
        "        return True #Si es palabra corta\n",
        "    else:\n",
        "        return False #Si no es palabra corta"
      ],
      "execution_count": 13,
      "outputs": []
    },
    {
      "cell_type": "markdown",
      "metadata": {
        "id": "EJOb2ZZ2bfHX"
      },
      "source": [
        "> El algoritmo de Porter se caracterisa por la definición de regiones, que son:\n",
        "\n",
        "> *   *R1: es la región después de la primera no vocal que sigue a una vocal, o el final de la palabra si no existe tal no vocal*\n",
        "*   *R2: es la región después de la primera no vocal que sigue a una vocal en R1, o el final de la palabra si no existe tal no vocal.*\n",
        "\n",
        "> Para simplificar esta parte, se realizó una función que se encarge de contar cuantas vocales seguidas de no vocales existen en la cadena que reciba. Esto servira para cuando se requiera hacer uso de las regiones.\n"
      ]
    },
    {
      "cell_type": "code",
      "metadata": {
        "id": "vHQg_-31clZY"
      },
      "source": [
        "#Cuenta las veces que hay una secuencia vocal consonante\n",
        "def contVC(string):\n",
        "    m = 0 #Guardará el resultado de Vocal-Consonante\n",
        "    vCheck = False #Bandera para cuando se tenga vocal\n",
        "    yCheck = \"\"\n",
        "    for i in range(len(string)): #Ciclo del tamaño de la cadena\n",
        "        if string[i] in vowel: # si la letra es una vocal\n",
        "            # Si (letra es diferente de 'y' y no es vocal) o letra no es 'y'\n",
        "            if (string[i] == 'y' and yCheck not in vowel) or string[i] != 'y':\n",
        "                vCheck = True #Cambia bandera\n",
        "            continue\n",
        "        elif string[i] not in vowel: #Si es consonante\n",
        "            if vCheck == True: #Si se tenía vocal\n",
        "                m += 1 # Se tiene VC\n",
        "                vCheck = False #Cambia bandera\n",
        "        else:\n",
        "            m = 0 #Si no se tiene ningun par VC\n",
        "        \n",
        "        yCheck = string[i] #Guarda la letra visitada para verificar la siguiente\n",
        "    return m  # Regresa el número de pares VC"
      ],
      "execution_count": 14,
      "outputs": []
    },
    {
      "cell_type": "markdown",
      "metadata": {
        "id": "n3cQUeQhgjZV"
      },
      "source": [
        "> Una vez realizadas las funciones para verificación, y las declaraciones previas, se puede comenzar con los pasos del algoritmo. Para comenzar, se debe realizar el ***paso 0***, este paso consiste revisar la palabra y si tiene alguno de los sufijos ' o 's o 's', se deberá eliminar.\n",
        "\n",
        "> Para realizar el Paso 0, se creo una función llamada **step0**, que recibe una cadena. Los sufijos 's y 's' se guardan en una lista, que se recorre para ver si la cadena termina con alguno de estos sufijos, de ser así se elimina.\n",
        "\n",
        "> Por otro lado, se busca si en la cadena existe un apóstrofe, si es así, se elimina.\n",
        "\n",
        "NOTA: Este paso puede omitirse debido a que ya se realizó la limpieza del corpus, sin embargo se agrega para ver la forma de implementarlo."
      ]
    },
    {
      "cell_type": "code",
      "metadata": {
        "id": "l80jB1TuUh5Q"
      },
      "source": [
        "#Función que realiza el paso 0\n",
        "def step0(string):\n",
        "  suffixes = [\"'s\",\"'s'\"] #Lista con sufijos\n",
        "  newStr =\"\" #Guardará la cadena sin sufijo\n",
        "  tam = len(suffixes)\n",
        "  if contVC(string[:-tam])>0:\n",
        "    for suffix in suffixes: #Para cada uno de los sufijos\n",
        "      if string.endswith(suffix): # Si la cadena termina con el sufijo actual\n",
        "        newStr = string.replace(suffix,'') #Se elimina el sufijo\n",
        "        break\n",
        "      else:\n",
        "        newStr = string #Si no termina con el sufijo se queda igual\n",
        "\n",
        "    for letter in newStr: #Para cada letra de la cadena obtenida \n",
        "      if letter == \"'\": #Si se encuentra un apóstrofe\n",
        "        return newStr.replace(letter,'') #Se elimina el apóstrofe\n",
        "  else:\n",
        "     return string\n",
        "  return newStr #Regresa la cadena sin sufijos"
      ],
      "execution_count": 15,
      "outputs": []
    },
    {
      "cell_type": "markdown",
      "metadata": {
        "id": "Jeqamr7cnK_D"
      },
      "source": [
        "> El siguiente paso es el ***Paso 1a***, este paso toma en cuenta algunos sufijos:\n",
        "\n",
        "> 1. Si encuentra **sses** lo reemplaza por **ss**\n",
        "2. Si encuentra **ied** o **ies** lo reemplaza por **i** si antes hay más de una letra, de lo contrario lo reemplaza por **ie**.\n",
        "3. Si encuentra **s** la elimina si la parte anterior de la palabra tiene una vocal no junta al sufijo, de lo contrario se mantiene.\n",
        "4. Si encuentra **us** o **ss**, se mantiene.\n",
        "\n",
        "> Los pasos anteriores se definieron en la función llamada **step1a**"
      ]
    },
    {
      "cell_type": "code",
      "metadata": {
        "id": "HqLMoJNCIrLE"
      },
      "source": [
        "#Realiza el paso 1a, recibe una cadena\n",
        "def step1a(string):\n",
        "\n",
        "    if len(string) > 3: #Si la cadena no es muy corta\n",
        "        if string.endswith(\"sses\") and contVC(string[:-4]) > 0: # Si termina con sses\n",
        "            return string[:-4]+\"ss\" # Realiza acción 1\n",
        "        elif string.endswith(\"ies\") or string.endswith(\"ied\") : # Si termina con ies\n",
        "          if contVC(string[:-3]) > 0 and len(string)-3 > 1:  # Realiza acción 2\n",
        "            return string[:-3]+\"i\"\n",
        "          else:\n",
        "            return string[:-3]+\"ie\"\n",
        "        elif string.endswith(\"ss\") or string.endswith(\"us\"): # Si termina con ss o us\n",
        "            return string  # Realiza acción 4\n",
        "        elif string.endswith(\"s\") and contVC(string[:-1]) > 0: # Si termina con s\n",
        "          # Verifica que la letra antes de la s no sea vocal y que se tenga una vocal en el resto\n",
        "          if string[-2:-1] not in vowel and re.search('[aeiou]',string[:-1]) != None: # Realiza acción 3\n",
        "            string = string[:-1]+\"\"\n",
        "            return string\n",
        "          else:\n",
        "            return string \n",
        "        else:\n",
        "            return string # Cadena si no cumple ninguna condició del paso 1a\n",
        "    else:\n",
        "         return string # Cadena si es una palabra corta"
      ],
      "execution_count": 16,
      "outputs": []
    },
    {
      "cell_type": "markdown",
      "metadata": {
        "id": "1SlDg-2et_QL"
      },
      "source": [
        "> El siguiente paso es el **Paso 1b**, en el que se buscan otros sufijos\n",
        "\n",
        "> 1. Si encuentra **eed** o **eedly** lo reemplaza por **ee** si el sufijo está en la region 1 (R1).\n",
        "2. Si encuentra **ed**, **edly, ing** o **ingly** lo elimina si la parte restante contiene una vocal.\n",
        "\n",
        "> Después de la eliminación se realizan otras modificaciones:\n",
        "\n",
        "> 1. Si la cadena termina con **at, bl** o **iz** se agrega una **e**\n",
        "2. Si la cadena termina con un elemento de la lista doble, elimina la última letra.\n",
        "3. Si la palabra es corta, agrega **e**.\n",
        "\n",
        "> Algunas consideraciones a tomar en cuenta para realizar este paso son:\n",
        "\n",
        "> *   - Para verificar la región 1 basta con mandar a llamar la función que cuenta VC (contVC) con la cadena sin el sufijo y si el resultado es mayor a 0 significa que el sufijo pertenece a R1.\n",
        "*   - Para verificar si la palabra es corta, se manda a llamar a la función CVC. \n",
        "\n",
        "> Todas las acciones mencionadas anteriormente se encuentran en la función **step1b**"
      ]
    },
    {
      "cell_type": "code",
      "metadata": {
        "id": "fvFk-swzNIpv"
      },
      "source": [
        "# Realiza paso 1b, recibe una cadena\n",
        "def step1b(string):\n",
        "    newString = \"\"\n",
        "    substr    = \"\"\n",
        "    if string.endswith(\"eed\") and contVC(string[:-3]) > 0: #Se asegura que la terminacion esté dentro de R1\n",
        "        substr = string[:-4]+\"ee\" # Realiza acción 1 con eed\n",
        "    elif string.endswith(\"eedly\") and contVC(string[:-5]) > 0: # Realiza acción 1 con eedly\n",
        "        substr = string[:-5]+\"ee\"\n",
        "    #Busca que se tenga por lo menos una vocal\n",
        "    elif string.endswith(\"ed\") and re.search('[aeiou]',string[:-2]) != None: # Realiza acción 2 con ed\n",
        "        substr = string[:-2]\n",
        "    #Busca que se tenga por lo menos una vocal\n",
        "    elif string.endswith(\"edly\") and re.search('[aeiou]',string[:-4]) != None: #Realiza acción 2 con edly\n",
        "        substr = string[:-4]\n",
        "    #Busca que se tenga por lo menos una vocal\n",
        "    elif string.endswith(\"ing\") and re.search('[aeiou]',string[:-3]) != None: #Realiza acción 2 con ing\n",
        "        substr = string[:-3]\n",
        "    #Busca que se tenga por lo menos una vocal\n",
        "    elif string.endswith(\"ingly\") and re.search('[aeiou]',string[:-5]) != None: #Realiza acción 2 con ingly\n",
        "        substr = string[:-5]\n",
        "    else:\n",
        "        substr = string # Si no contiene ningun sufijo de este paso\n",
        "    \n",
        "    if len(substr) > 0:\n",
        "        if (substr[-2:] in ['at','bl','iz']):\n",
        "          newString = substr + \"e\"\n",
        "        elif (substr[-2:] in double):\n",
        "          newString = substr[:-1]\n",
        "\n",
        "    if CVC(substr) == True: #CVC\n",
        "       newString = substr+\"e\"\n",
        "    else:\n",
        "       newString = substr\n",
        "\n",
        "    return newString"
      ],
      "execution_count": 17,
      "outputs": []
    },
    {
      "cell_type": "markdown",
      "metadata": {
        "id": "yqEN4fjlzRAk"
      },
      "source": [
        "> A continuación se debe realizar el **Paso 1c**. Este paso se encarga de reemplayar la **y** por **i** si inmediatamente antes del sufijo no hay una vocal y si esa letra no es la primera de la cadena.\n",
        "\n",
        "> Este paso se realizó con la función llamada **step1c**."
      ]
    },
    {
      "cell_type": "code",
      "metadata": {
        "id": "QkSd0YPt-n4R"
      },
      "source": [
        "# Realiza paso 1c, recibe una cadena\n",
        "def step1c(string):\n",
        "    if string.endswith(\"y\"): # Si termina con y\n",
        "      if string[-2:-1] not in vowel and string.find(string[-2:-1]) != 0: #Verifica que no sea una vocal y no sea la primera\n",
        "        return string[:-1] + \"i\" #Reemplaza y por i\n",
        "      else:\n",
        "        return string # Si la cadena no cumple las características de reemplazo, se mantiene\n",
        "    else:\n",
        "        return string # Si la cadena no termina con y, se mantiene igual"
      ],
      "execution_count": 18,
      "outputs": []
    },
    {
      "cell_type": "markdown",
      "metadata": {
        "id": "FTFeKf3P0xKn"
      },
      "source": [
        "> En seguida se debe realizar el **Paso 2**. Este paso básicamente se encarga de reemplazar algunos sufijos si se encuentran en R1. En la siguiente lista se muestran los sufijos y por lo que se reemplaza (sufijo ---> reemplazo)\n",
        "\n",
        "> *   tional --- > tion\n",
        "*   enci ---> ence\n",
        "*   anci ---> ance\n",
        "*   abli ---> able\n",
        "*   entli ---> ent\n",
        "*   izer, ization ---> ize\n",
        "*   ational, ation,ator ---> ate\n",
        "*   alism, aliti, alli ---> al\n",
        "*   fulness ---> ful\n",
        "*   ousli, ousness ---> ous\n",
        "*   iveness, iviti ---> ive\n",
        "*   biliti,bli ---> ble\n",
        "*   ogi ---> og  *si la precede una l*\n",
        "*   fulli ---> ful\n",
        "*   lessli ---> less\n",
        "*   li ---> *se elimina si la precede un elemento de la lista validTerm*\n",
        "\n",
        "> Para no realizar reemplazo por cada sufijo como en los pasos anteriores, se guardaron en un diccionario, que será recorrido y si la cadena termina con alguno de estos elementos, se reemplazará por el valor correspondiente.\n",
        "\n",
        "> Para verificar que se encuentren en R1, se manda a llamar la funcion contVC con la cadena sin el sufijo, el valor que entrege debe ser mayor a 0.\n",
        "\n"
      ]
    },
    {
      "cell_type": "code",
      "metadata": {
        "id": "7oywfXo8D3uL"
      },
      "source": [
        "def step2(string):\n",
        "    newStr = string # Guardará la cadena final\n",
        "    \n",
        "    #Diccionario con sufijos y reemplazos\n",
        "    suffixes ={'tional':'tion','enci':'ence','anci':'ance','abli':'able','entli':'ent', \n",
        "               'izer':'ize','ational':'ate','ation':'ate','ator':'ate','alism':'al',\n",
        "               'aliti':'al','alli':'al','fulness':'ful','ousli':'ous','ousness':'ous',\n",
        "               'iveness':'ive','iviti':'ive','biliti':'ble','bli':'ble','fulli':'ful',\n",
        "               'lessli':'less','ogi':'og','li':''\n",
        "    }\n",
        "\n",
        "    #Recorre el diccionario\n",
        "    for suffix in suffixes:\n",
        "      tam = len(suffix)\n",
        "      VC = contVC(string[:-tam]) # Cuenta VC\n",
        "      if VC > 0: #Verifica R1\n",
        "        if string.endswith(suffix): #Si la cadena termina con el sufijo\n",
        "          if suffix == 'ogi': # Realiza verificaciones si el sufijo es ogi\n",
        "            if string[-4:-3] == 'l':\n",
        "              newStr = string.replace(suffix,suffixes[suffix]) # Hace reemplazo\n",
        "              break\n",
        "            else:\n",
        "              newStr = string # Si no cumple condiciones de ogi, se mantiene\n",
        "          elif suffix == 'li': # Realiza verificaciones si el sufijo es li\n",
        "            if string[-3:-2] in validTerm:\n",
        "              newStr = string[:-2] # Hace reemplazo\n",
        "              break\n",
        "          else:\n",
        "              newStr = string.replace(suffix,suffixes[suffix]) # Reemplazo para cualquier otro sufijo\n",
        "        else:\n",
        "          continue\n",
        "    return newStr "
      ],
      "execution_count": 19,
      "outputs": []
    },
    {
      "cell_type": "markdown",
      "metadata": {
        "id": "7pkpA3S95WIo"
      },
      "source": [
        "> Para el siguiente paso, que es el **Paso 3**, se hacen reempazos para otros sufijos, que deben estar en R1, estos son:\n",
        "\n",
        "> *   tional ---> tion\n",
        "*   ational ---> ate\n",
        "*   alize ---> al\n",
        "*   icate, iciti, ical ---> ic\n",
        "*   ful, ness ---> se eliminan\n",
        "*   ative ---> Se elimina si está en R2\n",
        "\n",
        "> Para este paso se utilizó la misma estrategia que en el paso 2, se guardaron los sufijos en un diccionario y se realizan los reemplasos. Para hacer la verificación de R2, se manda a llamar a *contVC* con la cadena sin el sufijo, en este caso, el resultado debe ser mayor a 1.\n",
        "\n",
        "> Los pasos necesarios se colocaron en la función **step3**"
      ]
    },
    {
      "cell_type": "code",
      "metadata": {
        "id": "HdW0cfxxXms4"
      },
      "source": [
        "#Realiza paso 3, recibe una cadena\n",
        "def step3(string):\n",
        "    newStr = string #Guardará la cadena final\n",
        "    #Diccionario con sufijos y reemplazos\n",
        "    suffixes = {'tional':'tion','ational':'ate','alize':'al','icate':'ic',\n",
        "                   'iciti':'ic', 'ical':'ic', 'ful':'','ness':'','ative':''                       \n",
        "    }\n",
        "    \n",
        "    #Recorre el diccionario\n",
        "    for suffix in suffixes:\n",
        "      tam = len(suffix) # obtiene el tamaño del sufijo\n",
        "      VC = contVC(string[:-tam]) # Obtiene el total de VC\n",
        "      if string.endswith(suffix) and suffix != 'ative': #Si la cadena termina con un sufijo que no sea ative\n",
        "        if VC > 0: #en region 1\n",
        "          newStr = string.replace(suffix,suffixes[suffix]) #Realiza reemplazo\n",
        "          break\n",
        "      elif string.endswith(suffix) and suffix == 'ative':  #Si la cadena termina con el sufijo ative\n",
        "        if VC > 1: #En region 2\n",
        "          newStr = string.replace(suffix,suffixes[suffix]) #Realiza reemplazo\n",
        "          break\n",
        "    return newStr #Regresa cadena final"
      ],
      "execution_count": 20,
      "outputs": []
    },
    {
      "cell_type": "markdown",
      "metadata": {
        "id": "hFnjNEBJ-5U8"
      },
      "source": [
        "> En el **Paso 4** se tiene dos opciones:\n",
        "1. busca entre los sufijos y si están en R1 se realiza se elimina. Los sufijos son: *al, ance, ence, er, ic, able, ible, ant, ement, ment, ent, ism, ate, iti,ous, ive, ize*\n",
        "2. Si se encuentra el sufijo **ion**, se elimina si antes de este hay una **s** o una **t**\n",
        "\n",
        "> En esta ocasión se realizó la función **step4**, que recibe una cadena. Los sufijos se colocaron en una lista, debido a que no hay reemplazon, dicha lista se recorre y se realizan las verificaciones necesarias.\n"
      ]
    },
    {
      "cell_type": "code",
      "metadata": {
        "id": "GHdDTfdQrO1r"
      },
      "source": [
        "# Realiza el paso 4, recibe una cadena\n",
        "def step4(string):\n",
        "    newStr = string #Guardará la cadena final\n",
        "    #Lista con sufijos\n",
        "    suffixes =['al','ance','ence','er','ic','able','ible','ant',\n",
        "                   'ement','ment','ent','ism','ate','iti','ous','ive','ize','ion']\n",
        "    \n",
        "    # Recorre lista\n",
        "    for suffix in suffixes:\n",
        "      tam = len(suffix) #Tamaño del sufijo\n",
        "      VC = contVC(string[:-tam]) # Cantidad de VC\n",
        "      if string.endswith(suffix): #Si la cadena termina con el sufijo\n",
        "        if VC > 1: # Si está en R1\n",
        "          if suffix != 'ion': # Cualquier sufijo menos ion\n",
        "            newStr = string[:-tam] #Elimina sufijo\n",
        "            break\n",
        "          else:\n",
        "            if string[-(tam+1):-tam] in ['s','t']: #Verificaciones para sufijo ion\n",
        "              newStr = string[:-tam] #Elima sufijo\n",
        "              break\n",
        "      else:\n",
        "        continue \n",
        "\n",
        "    return newStr"
      ],
      "execution_count": 21,
      "outputs": []
    },
    {
      "cell_type": "markdown",
      "metadata": {
        "id": "l8V4R8LKBb5f"
      },
      "source": [
        "> El último paso es el **Paso 5**. Aquí también se tienen sólo dos opciones:\n",
        "1. Si encuentra sufijo **e** se elimina si está en R2 o si está en R1 y no hay antes una sílaba corta.\n",
        "2. Si encuentra sufijo **l** se elimina si está en R2 y la precede una *l*\n",
        "\n",
        "> Para este último paso se realizó la función **step5**, que recibe una cadena. Se hacen las verificaciones necesarias para cada opción."
      ]
    },
    {
      "cell_type": "code",
      "metadata": {
        "id": "7fqrsY5gwY6G"
      },
      "source": [
        "# Realiza paso 5, recibe una cadena\n",
        "def step5(string):\n",
        "    #Cuenta VC sin sufijo\n",
        "    VC = contVC(string[:-1]) # Obtiene cantidad de VC\n",
        "    # Si la string termina con 'e' y está en R2  o está en R1 y no es sílaba corta\n",
        "    if string.endswith('e') and ((VC > 1) or (VC == 1 and CVC(string[:-1]) == False)):\n",
        "        return string[:-1] #Elimina e\n",
        "    #Si string termina con 'l', está en R2 y la precede una 'l'\n",
        "    elif string.endswith('l') and VC > 1 and string[-2:-1] == 'l':\n",
        "        return string[:-1] #Elimina l\n",
        "    else:\n",
        "        return string "
      ],
      "execution_count": 22,
      "outputs": []
    },
    {
      "cell_type": "markdown",
      "metadata": {
        "id": "PbhZQNsGD0Xl"
      },
      "source": [
        "> Finalmente, se realizó la función getStem, que recibe la cadena a la que se le aplicarán todos los pasos. Dentro de esta función se manda a llamar uno a uno los pasos. Regresa la cadena después de haberle aplicado cada función."
      ]
    },
    {
      "cell_type": "code",
      "metadata": {
        "id": "cBOJwdcLUJql"
      },
      "source": [
        "#Realiza todos los pasos, recibe una cadena\n",
        "def getStem(word) :\n",
        "    s0  = step0(word) #Paso 0 con string\n",
        "    s1a = step1a(s0) #Paso 1a con s0\n",
        "    s1b = step1b(s1a) #Paso 1b con s1a\n",
        "    s1c = step1c(s1b) #Paso 1c con s1b \n",
        "    s2 = step2(s1c) #Paso 2 con s1c\n",
        "    s3 = step3(s2)  #Paso 3 con s2\n",
        "    s4 = step4(s3)  #Paso 4 con s3\n",
        "    s5 = step5(s4) ##Paso 5 con s4\n",
        "        \n",
        "    return s5"
      ],
      "execution_count": 23,
      "outputs": []
    },
    {
      "cell_type": "markdown",
      "metadata": {
        "id": "KR89ZHHPFTKB"
      },
      "source": [
        "> Para poder aplicar el algoritmo al corpus que se está analizando se realizan los siguientes pasos:\n",
        "1. Se crea una lista vacía (pers_final) para guardar los tokens\n",
        "2. Se recorre cada token del corpus\n",
        "3. Cada token se pasa a la función getStem y el resultado se inserta en la lista.\n",
        "4. Se imprime el corpus final "
      ]
    },
    {
      "cell_type": "code",
      "metadata": {
        "id": "ryD_-Z_Ome0T",
        "colab": {
          "base_uri": "https://localhost:8080/"
        },
        "outputId": "15966530-7217-4253-ef1a-ec9a5b786345"
      },
      "source": [
        "pers_final =[] #Lista vacía para resultados\n",
        "for word in pers_stopw: # Recorre corpus\n",
        "  token = getStem(word) # Se obtiene el stem para cada elemento del corpus \n",
        "  pers_final.append(token) #Se inserta el resultado del paso anterior en la lista\n",
        "\n",
        "#Se imprime el corpus resultante\n",
        "print (pers_final[:150])"
      ],
      "execution_count": 24,
      "outputs": [
        {
          "output_type": "stream",
          "text": [
            "['persuas', 'jane', 'austen', '1818', 'chapter', '1', 'sire', 'walter', 'elliot', 'kellynch', 'hall', 'somersetshir', 'mane', 'amus', 'never', 'took', 'book', 'baronetag', 'found', 'occup', 'idl', 'hour', 'consol', 'distress', 'one', 'faculti', 'rous', 'admir', 'respect', 'contempl', 'limit', 'remnant', 'earliest', 'patent', 'unwelcom', 'sensat', 'aris', 'domestic', 'affair', 'chang', 'natur', 'piti', 'contempt', 'turn', 'almost', 'endless', 'creation', 'last', 'centuri', 'everi', 'leaf', 'powerless', 'could', 'read', 'histori', 'interest', 'never', 'fail', 'page', 'favourit', 'volum', 'always', 'open', 'elliot', 'kellynch', 'hall', 'walter', 'elliot', 'born', 'march', '1', '1760', 'marri', 'juli', '15', '1784', 'elizabeth', 'daughter', 'james', 'stevenson', 'esq', 'south', 'park', 'counti', 'gloucester', 'ladi', 'die', '1800', 'issu', 'elizabeth', 'born', 'june', '1', '1785', 'ann', 'born', 'august', '9', '1787', 'still', 'born', 'sone', 'november', '5', '1789', 'mari', 'born', 'november', '20', '1791', 'precis', 'paragraph', 'origin', 'stood', 'printer', 'hand', 'sire', 'walter', 'improv', 'add', 'inform', 'famili', 'word', 'date', 'mari', 'birth', 'marri', 'december', '16', '1810', 'charles', 'sone', 'heir', 'charles', 'musgrov', 'esq', 'uppercross', 'counti', 'somerset', 'insert', 'accur', 'day', 'month', 'lost', 'wife', 'follow', 'histori', 'rise', 'ancient', 'respect']\n"
          ],
          "name": "stdout"
        }
      ]
    },
    {
      "cell_type": "markdown",
      "metadata": {
        "id": "GWhMrBkvGgiT"
      },
      "source": [
        "**5. Obtener las frecuencias de los tipos en el corpus.**\n",
        "\n",
        "> Para resolver esta parte se hace uso de un diccionario vacío. Se recorrerá el corpus token por token, si el token actual se encuentra en el diccionario (lo cual hará que el conteo sea por tipos), se sumará 1 a su valor, de lo contrario, se introducirá en el diccionario.\n",
        "\n",
        "> Se imprimen las frecuencias y el token en forma de lista.\n",
        "\n",
        "> Al final, se suman los valores de cada tipo para verificar que todos los tokens fueron incluidos."
      ]
    },
    {
      "cell_type": "code",
      "metadata": {
        "id": "Zx3sZ75tcRqL",
        "colab": {
          "base_uri": "https://localhost:8080/"
        },
        "outputId": "8fcbfba2-3d58-48be-f500-74c44bbd864b"
      },
      "source": [
        "freq={} #Diccionario en el que se guardarán las frecuencias\n",
        "for word in pers_final: # Recorre el corpus\n",
        "    if freq.get(word) == None: # Si el tipo aun no está en el diccionario\n",
        "      freq[word] = 1 # Lo agrega y suma 1\n",
        "    else: # Si ya está en el diccionario\n",
        "      freq[word]=freq[word]+1 #Suma 1 a la frecuencia (valor)\n",
        "#Recorre diccionario para imprimir frecuencias por tipos      \n",
        "print(freq.items())\n",
        "\n",
        "#Suma las frecuencias para validar resultados\n",
        "tokens=sum(freq.values())\n",
        "print(\"Total de tipos: \", tokens)\n"
      ],
      "execution_count": 30,
      "outputs": [
        {
          "output_type": "stream",
          "text": [
            "dict_items([('persuas', 8), ('jane', 1), ('austen', 1), ('1818', 1), ('chapter', 24), ('1', 3), ('sire', 149), ('walter', 141), ('elliot', 295), ('kellynch', 73), ('hall', 28), ('somersetshir', 4), ('mane', 134), ('amus', 22), ('never', 155), ('took', 19), ('book', 18), ('baronetag', 2), ('found', 83), ('occup', 5), ('idl', 3), ('hour', 62), ('consol', 5), ('distress', 26), ('one', 238), ('faculti', 1), ('rous', 11), ('admir', 26), ('respect', 38), ('contempl', 8), ('limit', 4), ('remnant', 1), ('earliest', 4), ('patent', 1), ('unwelcom', 3), ('sensat', 14), ('aris', 3), ('domestic', 11), ('affair', 8), ('chang', 43), ('natur', 33), ('piti', 14), ('contempt', 6), ('turn', 55), ('almost', 60), ('endless', 1), ('creation', 3), ('last', 92), ('centuri', 1), ('everi', 102), ('leaf', 1), ('powerless', 1), ('could', 451), ('read', 21), ('histori', 17), ('interest', 61), ('fail', 15), ('page', 2), ('favourit', 8), ('volum', 4), ('always', 110), ('open', 39), ('born', 12), ('march', 1), ('1760', 1), ('marri', 58), ('juli', 2), ('15', 2), ('1784', 1), ('elizabeth', 90), ('daughter', 33), ('james', 6), ('stevenson', 1), ('esq', 5), ('south', 2), ('park', 4), ('counti', 4), ('gloucester', 1), ('ladi', 242), ('die', 8), ('1800', 1), ('issu', 2), ('june', 3), ('1785', 1), ('ann', 497), ('august', 2), ('9', 2), ('1787', 1), ('still', 74), ('sone', 17), ('november', 9), ('5', 3), ('1789', 1), ('mari', 138), ('20', 2), ('1791', 1), ('precis', 6), ('paragraph', 2), ('origin', 6), ('stood', 12), ('printer', 1), ('hand', 44), ('improv', 29), ('add', 34), ('inform', 11), ('famili', 88), ('word', 55), ('date', 5), ('birth', 10), ('december', 1), ('16', 2), ('1810', 1), ('charles', 166), ('heir', 14), ('musgrov', 130), ('uppercross', 77), ('somerset', 2), ('insert', 2), ('accur', 1), ('day', 77), ('month', 26), ('lost', 18), ('wife', 45), ('follow', 33), ('rise', 9), ('ancient', 3), ('usual', 22), ('term', 20), ('first', 113), ('settl', 33), ('cheshir', 1), ('mention', 28), ('dugdal', 1), ('serv', 3), ('offic', 5), ('high', 42), ('sheriff', 1), ('repres', 4), ('borough', 1), ('three', 41), ('success', 8), ('parliam', 1), ('exert', 19), ('loyalti', 1), ('digniti', 11), ('baronet', 11), ('year', 86), ('ii', 1), ('marys', 1), ('form', 20), ('altogether', 13), ('two', 114), ('handsom', 20), ('duodecimo', 1), ('pages', 1), ('conclud', 7), ('arm', 20), ('motto', 2), ('principal', 9), ('seat', 19), ('handwrit', 1), ('final', 8), ('presumpt', 3), ('william', 4), ('great', 136), ('grandson', 2), ('second', 19), ('vaniti', 10), ('beginn', 26), ('end', 44), ('character', 51), ('person', 43), ('situat', 31), ('remark', 14), ('youth', 15), ('fifti', 6), ('four', 22), ('fine', 33), ('women', 22), ('think', 183), ('personal', 13), ('appear', 63), ('valet', 1), ('new', 35), ('made', 97), ('lord', 9), ('delight', 25), ('place', 100), ('held', 7), ('societi', 13), ('consider', 65), ('bless', 24), ('beauti', 11), ('inferior', 11), ('baronetci', 3), ('unit', 6), ('gift', 4), ('constant', 11), ('object', 42), ('warmest', 2), ('devot', 5), ('good', 191), ('look', 157), ('rank', 13), ('fair', 17), ('claim', 28), ('attach', 38), ('sinc', 45), ('must', 228), ('ow', 5), ('superior', 21), ('thing', 65), ('deserv', 15), ('excel', 26), ('woman', 67), ('sensibl', 33), ('amiabl', 7), ('whose', 21), ('judgem', 9), ('conduct', 20), ('might', 166), ('pardon', 12), ('youthful', 1), ('infatu', 1), ('requir', 14), ('indulg', 13), ('afterward', 36), ('humour', 18), ('soften', 5), ('conceal', 6), ('promot', 5), ('real', 22), ('seventeen', 3), ('though', 117), ('happiest', 6), ('world', 41), ('enough', 71), ('duti', 17), ('friend', 120), ('children', 35), ('life', 49), ('make', 111), ('matter', 30), ('indiffer', 19), ('call', 63), ('quit', 121), ('girl', 24), ('eldest', 12), ('sixteen', 2), ('fourteen', 3), ('awful', 3), ('legaci', 1), ('mother', 42), ('bequeath', 1), ('charg', 2), ('rather', 60), ('confid', 15), ('author', 7), ('guidanc', 3), ('conceit', 1), ('silli', 4), ('father', 118), ('however', 89), ('intim', 14), ('brought', 33), ('strong', 31), ('close', 16), ('villag', 9), ('kind', 43), ('advic', 5), ('main', 1), ('reli', 2), ('best', 44), ('help', 22), ('mainten', 1), ('principles', 3), ('instruct', 1), ('anxious', 22), ('give', 98), ('whatever', 8), ('anticip', 6), ('head', 41), ('acquaint', 88), ('thirteen', 6), ('pass', 59), ('away', 78), ('death', 11), ('near', 60), ('neighbour', 11), ('remain', 34), ('widower', 2), ('widow', 9), ('russel', 148), ('steadi', 9), ('age', 26), ('extrem', 19), ('well', 164), ('provid', 7), ('thought', 100), ('marriag', 27), ('ne', 22), ('apolog', 10), ('public', 12), ('apt', 3), ('unreason', 3), ('discont', 1), ('continu', 34), ('singl', 7), ('requires', 2), ('explan', 7), ('known', 49), ('like', 102), ('mete', 27), ('privat', 8), ('disappoint', 12), ('applic', 9), ('pride', 18), ('dear', 58), ('sake', 13), ('would', 355), ('realli', 43), ('given', 33), ('much', 205), ('tempt', 6), ('succeed', 10), ('possibl', 59), ('right', 53), ('consequ', 41), ('influenc', 25), ('gone', 51), ('together', 54), ('happili', 6), ('valu', 24), ('acquir', 4), ('littl', 177), ('artifici', 4), ('import', 19), ('becom', 19), ('mrs', 291), ('eleg', 18), ('mind', 68), ('sweet', 13), ('peopl', 39), ('understand', 50), ('nobodi', 19), ('either', 36), ('sister', 99), ('weight', 4), ('conveni', 10), ('way', 78), ('ine', 63), ('gode', 10), ('love', 59), ('fanci', 21), ('reviv', 3), ('pretti', 29), ('bloom', 9), ('vanish', 1), ('ear', 29), ('even', 127), ('height', 3), ('total', 10), ('differ', 52), ('delic', 3), ('features', 9), ('mild', 3), ('dark', 8), ('eyes', 33), ('noth', 140), ('fade', 3), ('thine', 2), ('excit', 16), ('esteem', 5), ('hope', 73), ('none', 21), ('ever', 78), ('name', 44), ('work', 13), ('equal', 35), ('allianc', 5), ('rest', 21), ('mere', 21), ('connect', 14), ('old', 47), ('countri', 35), ('larg', 19), ('fortun', 32), ('therefor', 28), ('honour', 30), ('receiv', 48), ('suitabl', 4), ('sometimes', 19), ('happen', 27), ('handsomer', 2), ('twenty', 21), ('nine', 7), ('tene', 12), ('gener', 22), ('speak', 49), ('neither', 25), ('ill', 43), ('health', 20), ('anxieti', 12), ('time', 152), ('scarc', 11), ('charm', 19), ('miss', 128), ('begun', 12), ('ago', 16), ('excus', 13), ('forgett', 2), ('least', 42), ('deem', 3), ('half', 60), ('fool', 5), ('amidst', 3), ('wreck', 1), ('everybodi', 18), ('els', 27), ('plain', 8), ('see', 160), ('grow', 16), ('haggard', 1), ('coars', 3), ('face', 23), ('neighbourhood', 14), ('worst', 7), ('rapid', 8), ('increas', 16), ('crow', 1), ('foot', 12), ('temples', 2), ('long', 99), ('content', 4), ('seen', 58), ('mistress', 7), ('presid', 3), ('direct', 32), ('self', 19), ('possess', 16), ('decis', 8), ('idea', 40), ('younger', 7), ('lay', 3), ('law', 9), ('home', 83), ('lead', 7), ('chais', 5), ('walk', 86), ('immedi', 37), ('draw', 24), ('room', 100), ('dine', 23), ('winter', 11), ('revolv', 2), ('frost', 2), ('ball', 3), ('credit', 12), ('scanti', 1), ('afford', 12), ('spring', 13), ('shewn', 8), ('blossom', 1), ('travel', 7), ('london', 14), ('week', 36), ('annual', 1), ('enjoym', 15), ('remembr', 6), ('conscious', 22), ('regret', 16), ('apprehens', 6), ('fulli', 14), ('satisfi', 26), ('felt', 80), ('approach', 10), ('danger', 23), ('rejoic', 11), ('certain', 60), ('proper', 27), ('solicit', 7), ('blood', 5), ('within', 22), ('next', 42), ('twelvemonth', 2), ('take', 75), ('present', 76), ('youngest', 6), ('evil', 19), ('left', 48), ('tabl', 15), ('avert', 3), ('push', 4), ('moreover', 6), ('especi', 13), ('support', 15), ('young', 84), ('soon', 122), ('event', 14), ('brother', 36), ('futur', 15), ('meant', 16), ('boy', 14), ('sought', 7), ('overtures', 1), ('warmth', 11), ('persever', 3), ('seek', 7), ('allow', 29), ('modest', 4), ('back', 70), ('excurs', 1), ('mr', 256), ('forc', 11), ('introduct', 7), ('engag', 52), ('studi', 4), ('agreeabl', 38), ('plane', 14), ('favour', 22), ('confirm', 7), ('invit', 35), ('talk', 89), ('expect', 37), ('came', 68), ('town', 15), ('encourag', 9), ('come', 108), ('tide', 3), ('instead', 15), ('line', 8), ('mark', 8), ('hous', 94), ('purchas', 2), ('independ', 8), ('rich', 12), ('resent', 6), ('ought', 52), ('consult', 10), ('observ', 50), ('tattersal', 1), ('twice', 6), ('lobbi', 1), ('common', 17), ('disapprob', 3), ('express', 26), ('appar', 13), ('regard', 28), ('attempt', 14), ('unsolicit', 1), ('longer', 26), ('notic', 23), ('unworthi', 4), ('ceas', 11), ('awkward', 7), ('interval', 14), ('several', 10), ('anger', 2), ('match', 21), ('z', 1), ('feel', 158), ('will', 7), ('acknowledg', 19), ('yet', 58), ('miser', 2), ('summer', 11), ('1814', 1), ('wear', 5), ('black', 5), ('ribbon', 2), ('admit', 9), ('worth', 24), ('disgrac', 2), ('perhap', 57), ('reason', 32), ('suppos', 49), ('perpetuat', 1), ('offspr', 1), ('gote', 21), ('done', 74), ('wors', 24), ('accustomari', 1), ('intervent', 1), ('spoken', 21), ('disrespect', 2), ('slight', 10), ('contemptu', 2), ('belong', 15), ('hereafter', 5), ('sentim', 16), ('cares', 3), ('alloy', 3), ('agit', 21), ('vari', 3), ('same', 1), ('prosper', 7), ('nothing', 2), ('scene', 5), ('uneventful', 1), ('resid', 12), ('circl', 8), ('fill', 8), ('vacanc', 1), ('habit', 15), ('util', 3), ('abroad', 5), ('talent', 2), ('accomplish', 9), ('occupi', 19), ('another', 66), ('solicitud', 9), ('money', 18), ('knew', 61), ('drive', 9), ('heavi', 2), ('bill', 3), ('tradespeopl', 1), ('hint', 26), ('shepherd', 31), ('agent', 1), ('properti', 14), ('state', 31), ('possessor', 1), ('live', 56), ('method', 3), ('moder', 3), ('economi', 3), ('kept', 17), ('incom', 5), ('minded', 1), ('period', 16), ('exceed', 13), ('spend', 16), ('less', 30), ('imperi', 1), ('blameless', 1), ('dread', 11), ('debt', 3), ('hear', 57), ('often', 30), ('becam', 13), ('vain', 16), ('partial', 9), ('fare', 34), ('say', 118), ('retrench', 6), ('occur', 6), ('articl', 4), ('justic', 14), ('ardour', 3), ('femal', 3), ('alarm', 14), ('sete', 32), ('serious', 25), ('propos', 12), ('branches', 1), ('cute', 7), ('unnecessari', 4), ('chariti', 3), ('refrain', 1), ('furnish', 6), ('expedi', 2), ('happi', 96), ('custom', 2), ('measures', 4), ('insuffici', 1), ('extent', 2), ('whole', 42), ('oblig', 38), ('confess', 12), ('deeper', 2), ('efficaci', 2), ('use', 109), ('unfortun', 5), ('abl', 30), ('devis', 1), ('mean', 60), ('lessen', 13), ('expenses', 3), ('without', 108), ('compromis', 3), ('relinquish', 3), ('comfort', 40), ('small', 18), ('part', 56), ('estat', 6), ('dispos', 19), ('acr', 1), ('alien', 2), ('condescend', 3), ('mortgag', 1), ('power', 18), ('sell', 1), ('transmitt', 1), ('entir', 19), ('confidenti', 1), ('market', 2), ('advis', 6), ('seem', 124), ('someth', 64), ('struck', 14), ('remov', 9), ('embarrass', 9), ('reduc', 3), ('expenditur', 1), ('involv', 11), ('loss', 8), ('tast', 25), ('2', 1), ('civil', 17), ('cautious', 4), ('lawyer', 2), ('hold', 12), ('view', 27), ('disagre', 4), ('prompt', 5), ('anybodi', 21), ('offer', 17), ('slightest', 3), ('begg', 4), ('leav', 58), ('recommend', 20), ('implicit', 1), ('refer', 6), ('sens', 17), ('resolut', 16), ('adopt', 4), ('zealous', 3), ('subject', 36), ('gave', 29), ('sound', 23), ('quick', 14), ('abil', 3), ('difficulti', 19), ('instanc', 3), ('opposit', 13), ('strict', 5), ('integr', 1), ('desir', 26), ('save', 11), ('aristocratic', 1), ('ideas', 10), ('due', 13), ('honesti', 2), ('benevol', 2), ('charit', 2), ('capabl', 9), ('correct', 5), ('notion', 9), ('decorum', 2), ('manner', 76), ('standard', 2), ('breed', 2), ('cultiv', 3), ('rational', 7), ('consist', 4), ('prejudices', 1), ('side', 47), ('ancestri', 1), ('blind', 5), ('fault', 6), ('knight', 1), ('attent', 43), ('landlord', 2), ('husband', 36), ('entitl', 4), ('deal', 46), ('compass', 5), ('doubt', 32), ('pain', 27), ('drew', 16), ('exact', 19), ('calcul', 8), ('other', 54), ('question', 28), ('degre', 24), ('scheme', 10), ('submitt', 6), ('emend', 1), ('want', 79), ('vigor', 1), ('complet', 28), ('reform', 2), ('quicker', 3), ('releas', 4), ('higher', 6), ('tone', 18), ('everyth', 43), ('equiti', 1), ('persuad', 24), ('said', 173), ('paper', 7), ('may', 87), ('regul', 4), ('seven', 10), ('clear', 19), ('convinc', 15), ('cannot', 42), ('affect', 25), ('reduct', 3), ('true', 24), ('act', 15), ('principl', 7), ('fact', 17), ('mani', 85), ('singular', 2), ('case', 25), ('makes', 6), ('suffer', 41), ('prevail', 6), ('decid', 35), ('contract', 2), ('pay', 11), ('gentleman', 32), ('honest', 1), ('proceed', 10), ('urg', 3), ('indispens', 1), ('creditor', 1), ('expedit', 2), ('comprehens', 4), ('secur', 14), ('saw', 51), ('anyth', 49), ('short', 49), ('prescrib', 1), ('rate', 11), ('sever', 14), ('denial', 1), ('conscienc', 6), ('believ', 73), ('knowledg', 22), ('inclin', 16), ('sacrific', 5), ('pair', 1), ('horses', 11), ('hard', 50), ('painful', 10), ('list', 5), ('gentl', 12), ('rigid', 1), ('requisit', 1), ('taken', 26), ('pute', 31), ('knock', 7), ('journeys', 1), ('servant', 17), ('restrict', 4), ('decenc', 1), ('sooner', 10), ('disgraceful', 1), ('realiti', 1), ('perfect', 63), ('abod', 1), ('start', 5), ('quarter', 9), ('dictat', 2), ('scrupl', 5), ('materi', 10), ('alter', 19), ('style', 19), ('hospit', 7), ('judg', 15), ('modes', 2), ('choos', 6), ('model', 3), ('household', 2), ('days', 24), ('indecis', 2), ('whither', 1), ('go', 153), ('outlin', 1), ('alternatives', 1), ('bath', 104), ('wishes', 11), ('latter', 6), ('pleasur', 39), ('lawn', 1), ('groves', 2), ('ambit', 1), ('fate', 9), ('attend', 35), ('fix', 21), ('dislik', 4), ('trust', 7), ('skilful', 1), ('dissuad', 2), ('preferr', 8), ('safer', 1), ('predica', 1), ('compar', 16), ('expens', 3), ('advantages', 5), ('cours', 42), ('distanc', 9), ('miles', 12), ('satisfact', 11), ('project', 4), ('induc', 9), ('lose', 9), ('oppos', 7), ('descend', 3), ('mortif', 7), ('foresaw', 1), ('dreadful', 9), ('prejudic', 2), ('mistak', 6), ('circumst', 18), ('school', 11), ('spirit', 54), ('spent', 8), ('fond', 11), ('suit', 17), ('warm', 26), ('lodg', 18), ('avoid', 15), ('larger', 2), ('undesir', 3), ('strengthen', 2), ('engraft', 1), ('trial', 5), ('fortitud', 6), ('stronger', 5), ('lete', 27), ('profound', 1), ('secret', 10), ('breath', 8), ('beyond', 23), ('degrad', 4), ('design', 8), ('lett', 1), ('advertis', 2), ('dare', 23), ('spurn', 1), ('forbad', 1), ('dropp', 4), ('intent', 9), ('supposit', 4), ('spontan', 3), ('unexception', 1), ('approv', 4), ('glade', 33), ('lately', 10), ('intimaci', 9), ('wish', 98), ('interrupt', 10), ('return', 66), ('unprosper', 1), ('additional', 3), ('burden', 1), ('clever', 7), ('understood', 20), ('art', 3), ('pleas', 36), ('accept', 15), ('alreadi', 20), ('stay', 40), ('spite', 11), ('friendship', 14), ('caution', 6), ('reserv', 5), ('outward', 3), ('observances', 2), ('complais', 5), ('point', 41), ('carri', 13), ('previous', 11), ('repeat', 17), ('earnest', 12), ('trying', 15), ('gete', 37), ('includ', 7), ('visit', 55), ('injustic', 3), ('discredit', 2), ('selfish', 9), ('arrang', 20), ('shute', 11), ('lesser', 2), ('occas', 17), ('endeavour', 8), ('advantag', 22), ('better', 87), ('experi', 5), ('pursu', 4), ('select', 1), ('clay', 66), ('bestow', 5), ('distant', 6), ('estim', 6), ('unequ', 2), ('companion', 16), ('removal', 12), ('behind', 15), ('bring', 26), ('choic', 7), ('intimates', 1), ('reach', 28), ('3', 1), ('morn', 59), ('laid', 3), ('newspaper', 5), ('junctur', 1), ('peac', 10), ('naval', 6), ('officer', 10), ('ashor', 2), ('tenant', 18), ('respons', 2), ('nobl', 2), ('ware', 9), ('admiral', 69), ('lucki', 6), ('repli', 44), ('prize', 4), ('greatest', 8), ('hey', 1), ('laugh', 11), ('wite', 3), ('presum', 4), ('busi', 29), ('gentlemen', 11), ('navi', 13), ('free', 5), ('liberal', 2), ('likely', 24), ('meet', 49), ('suggest', 10), ('rumour', 3), ('gett', 14), ('know', 149), ('difficult', 5), ('keep', 17), ('action', 4), ('curios', 17), ('tax', 2), ('john', 2), ('chose', 5), ('upon', 72), ('elud', 1), ('thuse', 9), ('ventur', 15), ('surpris', 35), ('truth', 15), ('unquestion', 3), ('wealthi', 1), ('commander', 3), ('particular', 45), ('bege', 8), ('troubl', 14), ('nodd', 2), ('pace', 3), ('sarcast', 1), ('among', 39), ('imagin', 33), ('find', 41), ('descript', 19), ('around', 12), ('driven', 4), ('agre', 8), ('sailor', 13), ('profess', 23), ('besides', 14), ('liber', 3), ('neat', 3), ('careful', 5), ('ways', 6), ('valuabl', 5), ('pictures', 2), ('safe', 16), ('care', 29), ('garden', 5), ('shrubberi', 3), ('order', 16), ('afraid', 15), ('flower', 3), ('neglect', 7), ('rejoin', 1), ('coolli', 3), ('privileges', 2), ('annex', 1), ('mene', 32), ('rang', 3), ('impos', 1), ('ground', 12), ('guard', 4), ('grant', 8), ('extraordinari', 13), ('assur', 31), ('soldier', 2), ('paus', 12), ('cases', 4), ('establish', 8), ('usages', 1), ('easi', 14), ('depend', 24), ('jealous', 5), ('spoke', 31), ('says', 7), ('rejoinder', 2), ('ohe', 56), ('sorri', 20), ('mine', 10), ('yes', 48), ('offens', 2), ('obscur', 1), ('undu', 1), ('distinct', 6), ('rais', 10), ('grandfather', 2), ('dreamt', 1), ('vigour', 2), ('horribl', 2), ('greater', 13), ('insult', 4), ('disdain', 3), ('prematur', 2), ('disgust', 4), ('compani', 37), ('strike', 6), ('instances', 4), ('st', 3), ('ives', 2), ('curat', 8), ('bread', 1), ('eat', 4), ('baldwin', 4), ('deplor', 3), ('personag', 1), ('colour', 4), ('mahogani', 1), ('rough', 4), ('rugg', 1), ('lines', 6), ('wrinkles', 1), ('grey', 1), ('hair', 4), ('dabe', 2), ('powder', 1), ('tope', 2), ('heaven', 9), ('fellow', 21), ('stand', 14), ('basil', 3), ('morley', 1), ('crie', 47), ('sixti', 2), ('forti', 6), ('pictur', 8), ('amaz', 3), ('shall', 57), ('easili', 6), ('forget', 16), ('wretch', 7), ('exampl', 2), ('sea', 21), ('expos', 5), ('climat', 2), ('weather', 12), ('till', 52), ('fite', 10), ('nay', 10), ('merci', 1), ('poor', 55), ('beautifi', 2), ('betimes', 1), ('activ', 7), ('servic', 10), ('quieter', 1), ('toil', 5), ('labour', 3), ('bodi', 9), ('seldom', 4), ('leaves', 2), ('natural', 21), ('effect', 17), ('plode', 1), ('worn', 4), ('physician', 1), ('clergyman', 4), ('stopt', 1), ('moment', 84), ('infect', 1), ('injuri', 7), ('poison', 1), ('atmospher', 1), ('necessari', 15), ('lote', 3), ('regular', 6), ('pursuit', 6), ('torment', 2), ('utmost', 3), ('bespeak', 1), ('toward', 33), ('foresight', 2), ('croft', 82), ('fell', 9), ('session', 1), ('taunton', 6), ('correspond', 5), ('report', 12), ('hasten', 4), ('nativ', 1), ('places', 5), ('accident', 2), ('foretold', 1), ('concern', 19), ('owner', 5), ('introduc', 17), ('inquiri', 2), ('confer', 4), ('explicit', 1), ('account', 42), ('proof', 15), ('elig', 2), ('cold', 15), ('suspici', 3), ('answer', 49), ('rear', 1), ('white', 5), ('trafalgar', 1), ('east', 3), ('indi', 7), ('station', 9), ('orang', 1), ('cuff', 1), ('capes', 1), ('liveri', 4), ('hale', 1), ('hearti', 5), ('beaten', 2), ('sure', 77), ('behaviour', 4), ('smallest', 15), ('rent', 5), ('readi', 25), ('fetch', 4), ('ask', 40), ('inquir', 2), ('manor', 1), ('deput', 1), ('gune', 2), ('kill', 2), ('eloqu', 4), ('circumstances', 25), ('peculiar', 7), ('whether', 32), ('furnitur', 8), ('preserver', 1), ('genteel', 1), ('shrewd', 2), ('taxes', 1), ('convers', 36), ('unconnect', 2), ('amongst', 3), ('told', 26), ('monkford', 8), ('recollect', 34), ('heard', 65), ('penelop', 2), ('eager', 23), ('appeal', 6), ('concept', 1), ('remember', 23), ('governor', 1), ('trent', 1), ('odd', 7), ('sight', 23), ('hundr', 5), ('times', 16), ('trespass', 1), ('farmer', 2), ('break', 5), ('orchard', 2), ('wall', 4), ('torn', 1), ('apples', 1), ('stolen', 1), ('caught', 16), ('contrari', 9), ('amic', 1), ('wait', 34), ('wentworth', 218), ('gratitud', 10), ('curacy', 5), ('ay', 9), ('misl', 3), ('strafford', 1), ('wonder', 28), ('names', 8), ('nobil', 3), ('perceiv', 7), ('connexion', 17), ('zeal', 5), ('dwell', 4), ('indisput', 1), ('number', 9), ('dues', 2), ('eye', 24), ('anyon', 1), ('intend', 9), ('inhabit', 1), ('infinit', 7), ('permitt', 1), ('highest', 9), ('proee', 6), ('treaty', 1), ('authoris', 2), ('wise', 6), ('unobjection', 1), ('essenti', 7), ('bide', 3), ('went', 30), ('suppli', 12), ('sooth', 2), ('dozen', 2), ('nation', 3), ('note', 8), ('intercours', 11), ('preced', 9), ('suspend', 2), ('utter', 7), ('empower', 1), ('listener', 3), ('cool', 6), ('air', 21), ('flush', 1), ('cheek', 8), ('along', 13), ('grove', 1), ('sigh', 13), ('4', 1), ('former', 33), ('appearances', 2), ('captain', 305), ('frederick', 23), ('domingo', 1), ('employ', 10), ('1806', 1), ('parent', 7), ('intellig', 13), ('brillianc', 2), ('modesti', 2), ('sume', 1), ('attract', 9), ('encounter', 4), ('lavish', 1), ('gradual', 10), ('deepli', 6), ('declar', 22), ('proposal', 4), ('exquisit', 7), ('felic', 8), ('troubles', 1), ('aros', 4), ('appli', 9), ('actual', 14), ('withhold', 1), ('consent', 8), ('negat', 2), ('astonish', 20), ('silenc', 12), ('temper', 15), ('throw', 5), ('nineteen', 6), ('hopes', 9), ('attain', 1), ('affluenc', 3), ('chances', 1), ('uncertain', 5), ('farther', 16), ('griev', 9), ('snatch', 1), ('stranger', 9), ('sunk', 4), ('interfer', 8), ('represent', 3), ('prevent', 15), ('freeli', 2), ('realiz', 1), ('full', 30), ('shipe', 9), ('powerful', 4), ('bewitch', 4), ('sanguin', 2), ('fearless', 3), ('oper', 5), ('aggrav', 3), ('brilliant', 1), ('headstrong', 1), ('imprud', 7), ('horror', 7), ('deprec', 1), ('light', 9), ('produc', 15), ('combat', 1), ('withstand', 3), ('unsoften', 1), ('opinion', 35), ('tender', 15), ('wrong', 10), ('indiscreet', 1), ('improper', 3), ('putt', 12), ('belief', 5), ('prudent', 3), ('deni', 4), ('princip', 4), ('chief', 3), ('miseri', 10), ('unconvinc', 1), ('unbend', 1), ('share', 14), ('cloud', 2), ('sorrowful', 1), ('alon', 21), ('aid', 2), ('except', 24), ('ruptur', 1), ('novelti', 3), ('enlarg', 1), ('bear', 24), ('comparison', 6), ('memori', 6), ('thorough', 8), ('suffici', 8), ('cure', 6), ('nice', 11), ('fastidi', 3), ('lament', 6), ('refusal', 2), ('land', 4), ('general', 34), ('perman', 3), ('discret', 3), ('past', 25), ('undon', 1), ('began', 33), ('border', 2), ('hopeless', 7), ('enter', 22), ('fitt', 5), ('constancy', 5), ('allud', 3), ('blame', 5), ('guid', 5), ('similar', 4), ('counsel', 2), ('wretched', 2), ('disadvantag', 1), ('probabl', 28), ('fear', 18), ('delays', 2), ('happier', 5), ('maintain', 8), ('solicitudes', 2), ('suspens', 12), ('result', 7), ('earlier', 8), ('justifi', 4), ('genius', 1), ('forese', 4), ('command', 12), ('path', 5), ('distinguish', 14), ('gain', 8), ('stepe', 11), ('captures', 1), ('cheerful', 9), ('distrust', 5), ('prudenc', 1), ('learn', 13), ('romanc', 2), ('grew', 4), ('older', 4), ('sequel', 2), ('unnatural', 1), ('revival', 2), ('stroll', 6), ('dispel', 1), ('folli', 7), ('harden', 3), ('nerves', 9), ('discuss', 4), ('assist', 20), ('unconsci', 3), ('motives', 2), ('calm', 11), ('oblivion', 2), ('sprung', 1), ('anew', 2), ('convict', 9), ('grateful', 4), ('syllabl', 1), ('whisper', 10), ('human', 6), ('creatur', 11), ('england', 6), ('accompani', 3), ('foreign', 2), ('occurr', 12), ('admitt', 13), ('delicaci', 4), ('appoint', 8), ('daili', 6), ('opportun', 15), ('parti', 70), ('prove', 13), ('satisfactori', 1), ('agreem', 2), ('flatter', 7), ('polish', 4), ('assurances', 1), ('clerk', 1), ('preliminari', 1), ('modifi', 1), ('indentur', 1), ('sheweth', 1), ('hesit', 6), ('asham', 14), ('sympathetic', 2), ('cordial', 10), ('drove', 5), ('thames', 1), ('fire', 3), ('harm', 4), ('reciprocal', 1), ('complim', 13), ('michaelmas', 3), ('unwil', 4), ('hurri', 13), ('convey', 14), ('christmas', 6), ('unabl', 7), ('heat', 2), ('september', 4), ('glare', 1), ('forego', 1), ('sade', 6), ('autumnal', 1), ('unwel', 5), ('complaint', 5), ('indispos', 1), ('autumn', 10), ('entreat', 4), ('entreati', 5), ('cottag', 22), ('reject', 1), ('readili', 6), ('interven', 1), ('divid', 12), ('startl', 6), ('burst', 10), ('measur', 2), ('resort', 2), ('affront', 3), ('contain', 4), ('sore', 3), ('keen', 3), ('quiet', 25), ('freckles', 6), ('tooth', 2), ('clumsi', 1), ('wrist', 1), ('absenc', 9), ('acut', 1), ('assidu', 3), ('impress', 16), ('percept', 5), ('revers', 4), ('reproach', 4), ('warn', 1), ('offend', 2), ('conceiv', 6), ('absurd', 7), ('suspicion', 5), ('indign', 5), ('reprobates', 1), ('inequ', 1), ('condit', 3), ('sakes', 2), ('suspect', 14), ('beautiful', 6), ('render', 7), ('unhappi', 5), ('merit', 9), ('reckon', 4), ('toler', 13), ('safeti', 3), ('misfortunes', 1), ('disfigur', 1), ('abominates', 1), ('defect', 3), ('reconcil', 4), ('ones', 2), ('stake', 1), ('absolut', 8), ('carriag', 26), ('prepar', 15), ('bow', 10), ('afflict', 6), ('tenantri', 1), ('cottager', 1), ('show', 5), ('sort', 41), ('desol', 1), ('tranquillity', 3), ('precious', 6), ('desert', 6), ('fall', 10), ('escap', 14), ('solitari', 5), ('melancholi', 4), ('arriv', 16), ('determin', 34), ('begin', 10), ('accord', 8), ('stage', 3), ('journey', 5), ('size', 4), ('english', 3), ('houses', 6), ('yeomen', 1), ('labourer', 1), ('mansion', 5), ('squir', 2), ('gates', 1), ('trees', 2), ('substanti', 2), ('unmodern', 1), ('compact', 1), ('tight', 1), ('parsonag', 1), ('enclos', 1), ('vine', 1), ('pear', 1), ('tree', 2), ('train', 1), ('round', 15), ('casem', 1), ('farm', 3), ('elev', 3), ('veranda', 2), ('french', 2), ('window', 21), ('catch', 10), ('traveller', 2), ('aspect', 1), ('premises', 1), ('mile', 5), ('runn', 5), ('endow', 1), ('elder', 1), ('indisposit', 3), ('resources', 1), ('solitud', 4), ('inherit', 1), ('prone', 1), ('lying', 2), ('sofa', 7), ('shabbi', 2), ('greet', 1), ('sent', 14), ('thursday', 3), ('unfit', 4), ('seiz', 3), ('sudden', 15), ('ring', 3), ('bell', 2), ('enquir', 6), ('shoot', 6), ('clock', 3), ('soul', 9), ('boys', 7), ('nois', 5), ('unmanag', 2), ('bade', 28), ('cheer', 10), ('stopp', 10), ('hors', 3), ('musgroves', 41), ('unkind', 3), ('wrote', 4), ('cheerfullest', 1), ('awar', 15), ('tell', 43), ('duplic', 2), ('catalogu', 1), ('mackenzi', 1), ('plant', 2), ('music', 7), ('trunk', 1), ('repack', 1), ('waggon', 1), ('parish', 3), ('dinner', 22), ('pooles', 1), ('yesterday', 14), ('enquiri', 14), ('strang', 3), ('pleasant', 17), ('beforehand', 2), ('uncomfort', 2), ('crowd', 4), ('site', 17), ('forward', 26), ('henrietta', 74), ('louis', 1), ('patienc', 4), ('upright', 4), ('nosegay', 1), ('ate', 1), ('meat', 1), ('ceremoni', 5), ('enjoy', 12), ('check', 6), ('offenc', 2), ('fashion', 10), ('squar', 2), ('parlour', 3), ('carpet', 1), ('shine', 1), ('floor', 2), ('confus', 11), ('grand', 1), ('piano', 3), ('fort', 2), ('harp', 4), ('tables', 1), ('original', 2), ('portrait', 2), ('wainscot', 1), ('brown', 1), ('velvet', 1), ('blue', 2), ('satin', 1), ('overthrow', 1), ('stare', 2), ('educ', 8), ('modern', 2), ('numer', 2), ('grown', 5), ('louisa', 111), ('exeter', 1), ('stock', 2), ('thousand', 11), ('merri', 3), ('dress', 12), ('faces', 3), ('unembarrass', 1), ('favourites', 1), ('creatures', 4), ('exchang', 2), ('envi', 3), ('mutual', 6), ('amiss', 3), ('chatt', 1), ('join', 21), ('6', 1), ('unknown', 2), ('unconsider', 1), ('treat', 6), ('pervad', 1), ('submit', 3), ('lesson', 3), ('heart', 53), ('sympathi', 3), ('separ', 10), ('addit', 5), ('papa', 6), ('queen', 1), ('squares', 1), ('supplem', 1), ('resolv', 5), ('delus', 1), ('heighten', 2), ('truli', 12), ('sympathis', 1), ('game', 3), ('destroy', 5), ('doge', 3), ('females', 2), ('housekeep', 1), ('danc', 9), ('social', 1), ('commonwealth', 1), ('discours', 2), ('ere', 3), ('member', 1), ('transplant', 1), ('prospect', 7), ('incumb', 1), ('cloth', 1), ('repuls', 2), ('unsist', 1), ('inaccess', 1), ('compon', 1), ('inimical', 1), ('wholesom', 1), ('undoubt', 5), ('grace', 7), ('ration', 2), ('sport', 4), ('otherwis', 9), ('trifl', 6), ('benefit', 6), ('occasional', 1), ('low', 17), ('bore', 3), ('disagr', 1), ('coupl', 5), ('topic', 3), ('shame', 4), ('contend', 3), ('uses', 1), ('manag', 3), ('theori', 1), ('practic', 6), ('faith', 3), ('listen', 38), ('spoil', 3), ('temptat', 1), ('request', 4), ('languag', 6), ('mood', 1), ('dying', 1), ('hate', 7), ('send', 15), ('grandmamma', 1), ('indulges', 1), ('gives', 1), ('trash', 1), ('sick', 16), ('cross', 6), ('spoilt', 3), ('healthy', 2), ('troublesom', 3), ('oftener', 4), ('cake', 1), ('commun', 14), ('treason', 1), ('exagger', 1), ('upper', 3), ('maid', 9), ('laundri', 2), ('gadd', 1), ('wherever', 5), ('nurseri', 6), ('jemima', 4), ('trustiest', 1), ('steadiest', 1), ('rule', 1), ('stori', 10), ('gade', 1), ('ruin', 8), ('comes', 7), ('swear', 2), ('watch', 17), ('jealousi', 6), ('nonsensical', 2), ('tenaci', 1), ('mamma', 9), ('insist', 2), ('patient', 4), ('grievanc', 1), ('forbear', 3), ('broadest', 1), ('ailment', 1), ('employm', 4), ('asunder', 3), ('sing', 4), ('play', 21), ('voic', 19), ('perform', 5), ('refresh', 2), ('appreci', 2), ('caller', 1), ('visitor', 6), ('chanc', 14), ('popular', 2), ('wild', 6), ('occasion', 6), ('unpremedit', 1), ('cousin', 49), ('affluent', 1), ('pleasures', 3), ('anywher', 9), ('musician', 1), ('post', 4), ('dances', 1), ('musical', 1), ('finger', 2), ('fli', 1), ('belov', 3), ('limb', 3), ('29th', 1), ('touch', 6), ('exclaim', 11), ('alert', 1), ('necess', 9), ('anim', 12), ('imaginari', 2), ('sincer', 10), ('master', 5), ('sate', 14), ('tall', 3), ('bright', 6), ('teeth', 1), ('redden', 2), ('complexion', 4), ('eight', 12), ('thirty', 9), ('relat', 20), ('minut', 8), ('instant', 25), ('symptom', 3), ('bias', 3), ('strength', 13), ('courag', 7), ('electrifi', 1), ('outliv', 2), ('blush', 8), ('emot', 11), ('explain', 11), ('edward', 5), ('move', 19), ('attack', 2), ('cling', 2), ('engross', 3), ('coat', 2), ('pocket', 1), ('c', 4), ('finish', 7), ('certainti', 5), ('folk', 1), ('late', 17), ('coach', 2), ('richard', 5), ('paid', 6), ('unluckili', 1), ('letter', 45), ('gloomi', 1), ('pathetic', 1), ('piec', 5), ('twentieth', 2), ('stupid', 2), ('shore', 5), ('regrett', 7), ('thick', 3), ('unfeel', 6), ('unprofit', 1), ('dick', 6), ('abbrevi', 1), ('dead', 6), ('midshipmen', 2), ('liabl', 4), ('ride', 7), ('six', 12), ('board', 12), ('frigat', 3), ('laconia', 8), ('written', 11), ('disinterest', 4), ('unobserv', 2), ('incuri', 1), ('perusal', 1), ('forgotten', 9), ('thrown', 7), ('grief', 3), ('likewis', 2), ('evid', 20), ('relief', 6), ('puzzl', 1), ('ascertain', 9), ('clifton', 1), ('inur', 2), ('teach', 1), ('insens', 4), ('speedili', 1), ('stamp', 2), ('spelt', 1), ('prais', 11), ('dash', 2), ('felow', 1), ('perticular', 1), ('schoolmaster', 1), ('bent', 4), ('arrival', 9), ('7', 1), ('impati', 8), ('shew', 14), ('roof', 2), ('welcom', 11), ('strongest', 5), ('cellar', 1), ('sett', 8), ('learnt', 7), ('inevit', 5), ('child', 25), ('asid', 2), ('midst', 3), ('collar', 2), ('bone', 2), ('disloc', 1), ('afternoon', 3), ('apothecari', 2), ('hysteric', 1), ('control', 1), ('banish', 2), ('access', 2), ('frighten', 2), ('useful', 11), ('examin', 5), ('vagu', 2), ('replac', 1), ('robinson', 3), ('rubb', 1), ('grave', 6), ('aunt', 9), ('eas', 8), ('digress', 1), ('nephew', 1), ('five', 12), ('minutes', 26), ('individu', 1), ('male', 1), ('promis', 24), ('press', 7), ('morrow', 24), ('motiv', 9), ('rane', 3), ('glee', 1), ('raptures', 2), ('gloom', 1), ('uneasi', 4), ('recent', 6), ('joy', 5), ('protest', 7), ('night', 26), ('spine', 1), ('confin', 5), ('bede', 5), ('bold', 2), ('wives', 2), ('teaz', 3), ('shift', 2), ('luck', 7), ('henc', 3), ('stire', 5), ('trie', 13), ('hysterical', 4), ('shock', 10), ('nurs', 20), ('provinc', 1), ('scold', 2), ('kick', 1), ('brighten', 2), ('harass', 2), ('properest', 2), ('excess', 8), ('tapp', 1), ('door', 28), ('stair', 4), ('exult', 2), ('undertakes', 2), ('tuesday', 5), ('caus', 6), ('scruples', 3), ('unpersuad', 1), ('construct', 1), ('exist', 8), ('shyness', 1), ('breakfast', 14), ('somehow', 2), ('actuat', 1), ('later', 5), ('also', 18), ('inconveni', 10), ('gratifi', 7), ('rush', 1), ('curtsey', 2), ('voices', 2), ('sportsmen', 1), ('nervous', 3), ('tri', 9), ('resum', 2), ('indistinct', 1), ('changes', 4), ('compris', 2), ('third', 4), ('alas', 5), ('retent', 1), ('wisdom', 1), ('spare', 8), ('gallant', 2), ('unsuspici', 1), ('inflict', 1), ('wound', 7), ('silent', 11), ('deep', 8), ('doubtless', 1), ('reveng', 1), ('glow', 13), ('man', 1), ('sober', 1), ('tendenc', 2), ('allay', 1), ('compos', 7), ('forgiven', 4), ('feebl', 1), ('endur', 6), ('weak', 8), ('timidity', 1), ('spe', 3), ('sophia', 2), ('foolish', 2), ('fifteen', 3), ('smiles', 7), ('contradict', 3), ('proud', 8), ('describ', 7), ('8', 1), ('pretenc', 2), ('absent', 5), ('renew', 9), ('revert', 2), ('narratives', 1), ('forth', 4), ('qualifi', 2), ('disposit', 7), ('falter', 2), ('wander', 1), ('imposs', 17), ('unvisit', 1), ('associ', 4), ('commonest', 1), ('couples', 1), ('tastes', 1), ('unison', 1), ('countenances', 1), ('perpetu', 4), ('estrang', 3), ('discern', 8), ('ignor', 5), ('throughout', 1), ('food', 1), ('accommod', 12), ('ridicul', 2), ('remind', 1), ('accus', 2), ('cook', 1), ('knife', 1), ('fork', 1), ('overcom', 4), ('ahe', 9), ('suppress', 3), ('smile', 35), ('reliev', 4), ('sitt', 11), ('pore', 2), ('asp', 6), ('broken', 7), ('west', 6), ('admiralti', 1), ('entertain', 7), ('bottom', 3), ('phoo', 4), ('stuff', 1), ('sloop', 3), ('built', 2), ('afloat', 1), ('vex', 6), ('discoveri', 3), ('peliss', 2), ('lent', 2), ('wete', 2), ('foul', 3), ('passag', 3), ('plymouth', 7), ('gale', 1), ('corner', 6), ('shudder', 2), ('exclam', 4), ('aloud', 2), ('beckon', 1), ('forgot', 4), ('gibraltar', 3), ('somewh', 3), ('mindful', 1), ('hunt', 3), ('statem', 1), ('commiss', 3), ('class', 4), ('fast', 4), ('lovely', 5), ('cruis', 1), ('western', 1), ('island', 1), ('harvill', 75), ('mediterranean', 1), ('momentari', 7), ('speech', 7), ('glanc', 15), ('curl', 1), ('mouth', 3), ('transient', 2), ('detect', 1), ('collect', 14), ('kindest', 4), ('unabsurd', 1), ('insignific', 2), ('barrier', 1), ('slender', 1), ('pensiv', 2), ('screen', 2), ('destini', 1), ('aliv', 4), ('mental', 4), ('sorrow', 4), ('proport', 3), ('bulki', 1), ('figur', 4), ('graceful', 1), ('unbecom', 1), ('conjunct', 1), ('patron', 1), ('lisbon', 2), ('grierson', 1), ('abus', 3), ('gallantri', 5), ('defend', 2), ('comprehend', 12), ('effort', 3), ('sacrifices', 3), ('refin', 1), ('purpos', 8), ('portsmouth', 3), ('superfin', 1), ('merg', 1), ('id', 1), ('pray', 9), ('port', 2), ('smooth', 2), ('water', 4), ('tune', 1), ('thankful', 3), ('atlantic', 1), ('cork', 1), ('streight', 1), ('bermuda', 1), ('bahama', 1), ('dissent', 1), ('exe', 2), ('rates', 1), ('thank', 14), ('disagrees', 1), ('disorder', 2), ('north', 6), ('seas', 2), ('fright', 2), ('ail', 1), ('aye', 1), ('assizes', 1), ('services', 4), ('tear', 2), ('instrum', 2), ('joyous', 2), ('defer', 4), ('hayter', 43), ('credibl', 1), ('rival', 1), ('universal', 2), ('mechan', 1), ('error', 1), ('trace', 2), ('partner', 1), ('tire', 9), ('unintent', 2), ('polit', 14), ('madam', 2), ('speeches', 1), ('fraternal', 1), ('shropshir', 3), ('friendli', 2), ('flatteri', 2), ('recept', 3), ('grass', 1), ('sheep', 1), ('dawdl', 1), ('gige', 2), ('hitherto', 2), ('unvari', 1), ('everywher', 3), ('disturb', 2), ('unguard', 2), ('critical', 1), ('marriages', 2), ('retir', 5), ('unpolish', 1), ('chosen', 3), ('scholar', 2), ('doubtful', 4), ('prettiest', 1), ('lively', 6), ('specul', 2), ('reappear', 1), ('delightful', 7), ('pleasanter', 3), ('pound', 5), ('capital', 2), ('pretens', 2), ('misfortun', 2), ('alliances', 1), ('nonsens', 4), ('spicer', 1), ('bishop', 1), ('whenever', 7), ('uncl', 1), ('winthrop', 11), ('acres', 1), ('freehold', 1), ('pleases', 1), ('posit', 4), ('unless', 4), ('staid', 4), ('mix', 2), ('plea', 1), ('headach', 1), ('umpir', 1), ('endanger', 1), ('impeach', 1), ('prefer', 3), ('affection', 6), ('sympath', 2), ('mistaken', 9), ('altern', 1), ('disquiet', 1), ('mortifi', 4), ('wholli', 2), ('extinguish', 1), ('sundays', 1), ('quitt', 12), ('obtain', 2), ('nearest', 3), ('dr', 10), ('shirley', 11), ('rector', 1), ('discharg', 1), ('infirm', 2), ('fatigu', 3), ('negoti', 1), ('invalid', 3), ('depriv', 2), ('composur', 6), ('behav', 3), ('kneel', 1), ('vestibul', 1), ('stout', 1), ('straight', 4), ('teas', 2), ('fasten', 1), ('knelt', 2), ('shake', 4), ('contriv', 3), ('angri', 5), ('bite', 2), ('sturdi', 1), ('unfasten', 1), ('neck', 1), ('speechless', 1), ('hang', 4), ('stepp', 5), ('studious', 2), ('testifi', 1), ('recover', 22), ('enabl', 3), ('entranc', 5), ('loves', 2), ('vext', 1), ('reflect', 14), ('10', 1), ('fever', 2), ('attribut', 2), ('guil', 1), ('triumph', 2), ('pitiful', 2), ('struggl', 9), ('field', 3), ('refus', 9), ('dismissal', 1), ('walker', 2), ('foreseen', 2), ('junction', 1), ('retract', 2), ('narrow', 1), ('across', 3), ('exercis', 2), ('tawni', 1), ('wither', 1), ('hedges', 1), ('poetical', 2), ('extant', 1), ('season', 4), ('inexhaust', 1), ('drawn', 6), ('poet', 3), ('worthi', 5), ('muse', 2), ('quotat', 3), ('chate', 3), ('praises', 1), ('glorious', 1), ('hail', 1), ('hill', 11), ('whereabout', 1), ('upset', 2), ('liev', 1), ('toss', 1), ('overturn', 1), ('enthusiasm', 3), ('scenes', 6), ('sonnet', 1), ('fraught', 1), ('analog', 3), ('declin', 9), ('images', 1), ('environ', 2), ('destin', 2), ('ascent', 2), ('enclosures', 1), ('plough', 1), ('fresh', 7), ('counteract', 1), ('despond', 2), ('summit', 1), ('stretch', 3), ('hemm', 1), ('barn', 2), ('build', 17), ('yard', 4), ('lean', 5), ('gate', 3), ('argu', 1), ('meanwhil', 1), ('debates', 1), ('rune', 6), ('arranger', 1), ('scorn', 1), ('unpleas', 4), ('assent', 1), ('brow', 1), ('spote', 9), ('stile', 3), ('glean', 1), ('nute', 5), ('adjoin', 3), ('hedg', 6), ('row', 4), ('degrees', 2), ('quarrel', 2), ('somewher', 5), ('dri', 1), ('sunni', 1), ('bank', 1), ('overtook', 1), ('channel', 1), ('centr', 2), ('middl', 2), ('dutiful', 2), ('woe', 1), ('betid', 1), ('resist', 3), ('firm', 5), ('infus', 1), ('yield', 6), ('durabl', 2), ('sway', 1), ('bough', 1), ('exemplifi', 1), ('glossi', 1), ('storm', 2), ('punctur', 1), ('playful', 1), ('solemn', 2), ('brethren', 1), ('fallen', 8), ('trodden', 1), ('hazel', 1), ('cherish', 1), ('unanswer', 1), ('lest', 2), ('bush', 1), ('rambl', 1), ('holli', 1), ('protect', 3), ('provok', 3), ('bookish', 1), ('retreat', 1), ('proverbi', 1), ('motion', 4), ('conjectur', 3), ('minutia', 3), ('withdraw', 3), ('relent', 2), ('plainer', 1), ('divis', 3), ('stripe', 1), ('meadow', 2), ('ampl', 2), ('space', 6), ('boast', 4), ('necessarili', 2), ('disoblig', 1), ('reap', 1), ('nettles', 1), ('switch', 1), ('complain', 5), ('incommod', 1), ('weasel', 1), ('lane', 4), ('footpath', 1), ('exit', 1), ('advanc', 3), ('surmount', 1), ('guess', 8), ('instinct', 4), ('urgenc', 1), ('compress', 1), ('forgiv', 2), ('condemn', 1), ('unjust', 5), ('careless', 8), ('remainder', 2), ('impuls', 3), ('pure', 1), ('unacknowledg', 1), ('compound', 2), ('awak', 1), ('sophi', 6), ('courtship', 1), ('yarmouth', 3), ('spread', 5), ('canvass', 2), ('unaffect', 3), ('calmer', 4), ('keener', 3), ('rein', 2), ('judici', 1), ('rute', 1), ('dung', 1), ('cart', 2), ('deposit', 1), ('11', 1), ('resettl', 1), ('frequent', 5), ('church', 5), ('thenc', 1), ('gainer', 1), ('wit', 7), ('renewal', 1), ('apac', 2), ('conclus', 5), ('diversifi', 1), ('unseen', 2), ('unheard', 1), ('lyme', 67), ('unknow', 1), ('acquittal', 1), ('thither', 3), ('heedless', 3), ('deduct', 1), ('amend', 2), ('punctual', 2), ('noon', 1), ('carriages', 2), ('curricl', 4), ('steeper', 1), ('street', 32), ('inn', 15), ('varieti', 5), ('lodger', 1), ('cobb', 14), ('skirt', 1), ('bay', 2), ('machines', 1), ('cliff', 3), ('charmouth', 2), ('extens', 4), ('sweep', 1), ('fragment', 1), ('rock', 3), ('sand', 3), ('flow', 3), ('unweari', 1), ('woodi', 1), ('pinni', 1), ('green', 1), ('chasm', 1), ('romantic', 1), ('scatter', 3), ('forest', 1), ('luxuri', 1), ('growth', 1), ('wonderful', 3), ('exhibit', 1), ('resembl', 3), ('fame', 1), ('isl', 1), ('wight', 1), ('linger', 3), ('gaze', 1), ('pier', 1), ('harvilles', 18), ('benwick', 70), ('lieuten', 2), ('mourn', 6), ('fanni', 4), ('heavili', 1), ('sedentari', 1), ('augment', 1), ('inexpens', 1), ('grandeur', 3), ('adapt', 1), ('blight', 1), ('ralli', 2), ('counten', 15), ('lame', 2), ('hurt', 1), ('uncommon', 1), ('unlik', 4), ('formal', 4), ('display', 4), ('sprang', 1), ('ingeni', 1), ('contrivances', 1), ('defici', 6), ('plight', 2), ('contrast', 3), ('articles', 2), ('rare', 1), ('speci', 2), ('wood', 1), ('curious', 4), ('fruit', 1), ('repos', 3), ('gratif', 8), ('reader', 2), ('shelves', 1), ('bound', 3), ('volumes', 2), ('ingenu', 1), ('varnish', 1), ('carpenter', 1), ('glu', 1), ('toys', 1), ('nett', 1), ('needles', 1), ('pine', 3), ('fish', 1), ('nete', 1), ('brotherli', 1), ('thoroughfar', 1), ('interchang', 4), ('oppress', 3), ('presenc', 4), ('mirth', 2), ('lede', 7), ('recurr', 1), ('anecdotes', 1), ('abund', 1), ('apart', 5), ('shi', 3), ('abstract', 1), ('repaid', 1), ('poetri', 5), ('restraint', 3), ('brief', 1), ('marmion', 1), ('lake', 1), ('giaour', 2), ('bride', 1), ('abydos', 1), ('pronounc', 2), ('tenderest', 1), ('song', 6), ('impass', 1), ('agoni', 6), ('tremul', 2), ('various', 6), ('imag', 2), ('allus', 2), ('embolden', 1), ('senior', 2), ('prose', 2), ('moralist', 2), ('finest', 2), ('memoir', 1), ('fortify', 1), ('precept', 1), ('examples', 3), ('moral', 3), ('religi', 1), ('endurances', 1), ('impli', 4), ('procur', 4), ('preach', 1), ('resign', 4), ('preacher', 1), ('12', 1), ('easter', 1), ('breez', 2), ('flate', 1), ('glori', 3), ('twelv', 6), ('declares', 1), ('medicin', 1), ('medical', 1), ('seizur', 1), ('lives', 8), ('dispens', 1), ('scrupul', 4), ('lower', 6), ('acquiesc', 2), ('courteous', 3), ('shope', 5), ('disposal', 2), ('upward', 1), ('beach', 1), ('ascend', 2), ('restor', 8), ('wind', 5), ('blow', 4), ('loiter', 1), ('chamber', 4), ('groom', 1), ('proprieti', 6), ('stabl', 1), ('front', 1), ('somebodi', 5), ('jump', 5), ('waiter', 4), ('sidmouth', 1), ('crewkhern', 2), ('smart', 2), ('baronight', 1), ('ecstasi', 2), ('publish', 1), ('goes', 2), ('panel', 1), ('hide', 2), ('luckily', 1), ('excuses', 1), ('interview', 3), ('write', 14), ('irrit', 3), ('slow', 2), ('unsatisfactori', 2), ('disinclin', 2), ('scott', 2), ('byron', 3), ('alik', 4), ('de', 1), ('mourner', 1), ('cape', 4), ('grappler', 3), ('promises', 2), ('adieus', 1), ('glad', 3), ('perforc', 1), ('steep', 1), ('flight', 1), ('stiles', 1), ('pavem', 5), ('feet', 2), ('jare', 1), ('precipit', 1), ('lifeless', 1), ('visibl', 2), ('bruis', 1), ('pallid', 1), ('scream', 1), ('contribut', 2), ('immov', 2), ('sink', 5), ('senses', 3), ('despair', 1), ('rube', 2), ('salt', 1), ('obey', 2), ('disengag', 2), ('stagger', 1), ('bitterest', 1), ('surgeon', 6), ('dart', 1), ('corps', 1), ('hung', 3), ('sobe', 1), ('assuag', 1), ('gent', 3), ('accid', 7), ('workmen', 1), ('boatmen', 1), ('consign', 1), ('helpless', 3), ('tread', 1), ('unutter', 1), ('flying', 2), ('await', 2), ('beneath', 3), ('restoratives', 1), ('need', 1), ('incap', 1), ('contus', 1), ('desper', 2), ('repriev', 1), ('fervent', 3), ('ejacul', 1), ('fold', 4), ('overpower', 7), ('prayer', 1), ('elsewher', 2), ('swing', 1), ('cote', 1), ('experienc', 1), ('irresist', 4), ('perplex', 3), ('terror', 1), ('incumbr', 1), ('stays', 1), ('delay', 7), ('vehem', 1), ('stead', 1), ('reluct', 4), ('schemes', 2), ('wrapt', 1), ('welfar', 1), ('lowest', 1), ('vexat', 2), ('substitut', 1), ('emul', 1), ('emma', 1), ('henri', 2), ('shrink', 3), ('unnecessarili', 1), ('govern', 3), ('bitter', 2), ('fatal', 1), ('just', 2), ('qualiti', 1), ('recognis', 2), ('road', 3), ('dusk', 1), ('shawl', 1), ('sleep', 1), ('address', 11), ('announc', 6), ('bait', 1), ('13', 1), ('speedi', 1), ('multipli', 1), ('pett', 1), ('harri', 1), ('mend', 1), ('blain', 1), ('bruises', 1), ('sarah', 2), ('indebt', 1), ('comforter', 1), ('impart', 1), ('privi', 2), ('recovery', 6), ('gay', 5), ('leisur', 4), ('rain', 12), ('blott', 1), ('adieu', 1), ('dripp', 1), ('comfortless', 1), ('misti', 1), ('glasses', 3), ('humbl', 2), ('tenem', 1), ('sadden', 1), ('record', 1), ('reconcili', 5), ('evad', 1), ('gladden', 1), ('plump', 1), ('compel', 1), ('smother', 1), ('secondari', 1), ('camden', 29), ('briefli', 1), ('intern', 1), ('revel', 2), ('receipt', 1), ('fainter', 1), ('threaten', 1), ('preclud', 1), ('unworthili', 1), ('heav', 1), ('latest', 1), ('yestermorn', 1), ('catastroph', 1), ('thoughtless', 2), ('frightful', 4), ('concuss', 1), ('summarili', 1), ('plaster', 1), ('simplic', 1), ('reveri', 1), ('slipe', 1), ('umbrellas', 1), ('butler', 2), ('grate', 1), ('earth', 1), ('dressi', 1), ('lend', 2), ('snuge', 3), ('shave', 1), ('glass', 1), ('chimney', 1), ('smokes', 1), ('hereabout', 2), ('wast', 4), ('14', 1), ('suscept', 1), ('holidays', 4), ('lighten', 1), ('librari', 1), ('balanc', 2), ('fortnight', 5), ('undertook', 1), ('behold', 1), ('shote', 2), ('misunderstood', 1), ('dull', 2), ('discover', 1), ('gracious', 3), ('admires', 1), ('pretend', 9), ('overheard', 1), ('joint', 3), ('dullest', 1), ('brede', 2), ('taunt', 1), ('drope', 3), ('scissor', 1), ('extraordinarili', 1), ('disfavour', 1), ('hazard', 2), ('voluntari', 1), ('fearful', 3), ('herald', 1), ('surround', 4), ('sedul', 1), ('tyranni', 1), ('expressli', 1), ('chatter', 1), ('cutt', 1), ('silk', 1), ('gold', 1), ('tressel', 1), ('trays', 1), ('bend', 2), ('brawn', 1), ('pie', 1), ('riotous', 1), ('roar', 1), ('clamour', 1), ('knees', 1), ('tempera', 1), ('hurrican', 1), ('shaken', 1), ('recapitul', 1), ('reseat', 1), ('noises', 3), ('innoxi', 2), ('quantiti', 1), ('bridg', 1), ('rumbl', 1), ('drays', 1), ('bawl', 1), ('newspapermen', 1), ('muffin', 1), ('milkmen', 1), ('ceaseless', 4), ('clink', 1), ('patten', 1), ('rose', 1), ('persist', 3), ('dime', 2), ('smoke', 1), ('progress', 3), ('bustles', 1), ('seclus', 1), ('deceiv', 3), ('proclaim', 1), ('recant', 1), ('branch', 1), ('dismember', 1), ('paternal', 1), ('pitch', 1), ('river', 4), ('lofti', 1), ('dignifi', 1), ('becomes', 2), ('imprison', 1), ('unexpect', 3), ('fourth', 1), ('courtesi', 1), ('unlook', 1), ('causes', 1), ('faint', 2), ('card', 15), ('fund', 2), ('landholder', 1), ('threw', 2), ('avail', 1), ('misapprehens', 1), ('unfeudal', 1), ('refut', 2), ('extenu', 2), ('colonel', 23), ('wallis', 34), ('marlborough', 5), ('allowances', 2), ('embellish', 2), ('extravag', 3), ('irrational', 1), ('relator', 1), ('risk', 6), ('varianc', 1), ('richer', 3), ('titl', 1), ('solut', 1), ('penetr', 6), ('investig', 3), ('glimpses', 1), ('gentlemanlik', 2), ('shape', 3), ('featur', 1), ('bond', 1), ('count', 1), ('eighti', 1), ('frosti', 1), ('sharp', 2), ('test', 1), ('multitud', 1), ('ug', 1), ('scarecrow', 1), ('decent', 6), ('militari', 1), ('sandi', 2), ('rede', 2), ('nose', 1), ('accidental', 1), ('gown', 1), ('misus', 1), ('lansdown', 1), ('crescent', 1), ('stope', 4), ('usher', 2), ('unusu', 1), ('alacr', 4), ('relationship', 5), ('certifi', 1), ('guest', 1), ('rout', 1), ('shadow', 1), ('ungenteel', 1), ('be', 1), ('diffus', 1), ('length', 1), ('unfelt', 1), ('mantel', 1), ('eleven', 1), ('silver', 1), ('watchman', 1), ('tale', 1), ('steal', 1), ('skine', 1), ('clearer', 1), ('fresher', 1), ('gowland', 3), ('ha', 2), ('diminish', 1), ('overlook', 3), ('provoc', 1), ('drink', 1), ('solid', 1), ('superfici', 1), ('defi', 3), ('candid', 1), ('violent', 2), ('sour', 1), ('outweigh', 1), ('plagu', 2), ('inconsist', 1), ('matur', 2), ('simplest', 1), ('process', 2), ('err', 2), ('heyday', 1), ('crape', 1), ('inexcus', 1), ('dissolv', 1), ('pleasantest', 1), ('dowager', 4), ('viscountess', 4), ('dalrympl', 28), ('carteret', 12), ('swept', 1), ('dalrymples', 4), ('contact', 2), ('viscount', 2), ('unlucki', 1), ('omiss', 1), ('condol', 2), ('ireland', 2), ('sinner', 1), ('apprehend', 2), ('unimport', 1), ('preserv', 5), ('laura', 7), ('scrawl', 1), ('creat', 2), ('shakes', 1), ('wiser', 3), ('divert', 1), ('defeat', 1), ('17', 1), ('gover', 2), ('hamilton', 4), ('smith', 70), ('rheumatic', 1), ('lege', 2), ('crippl', 1), ('hote', 1), ('exclud', 1), ('westgat', 7), ('kindl', 2), ('unform', 1), ('invari', 2), ('transform', 1), ('protege', 1), ('dissip', 2), ('cheerless', 1), ('buri', 2), ('noisi', 1), ('bedroom', 2), ('languor', 1), ('depress', 1), ('submiss', 1), ('elast', 1), ('choicest', 1), ('merciful', 1), ('counterbal', 1), ('pitiabl', 1), ('finances', 2), ('landladi', 2), ('unemploy', 1), ('liberti', 5), ('invalu', 1), ('taught', 1), ('knite', 1), ('thread', 1), ('cushion', 1), ('rack', 1), ('profession', 1), ('buy', 3), ('disposes', 1), ('merchandis', 1), ('takes', 4), ('rook', 7), ('gossip', 2), ('profit', 2), ('likes', 2), ('au', 1), ('fait', 1), ('newest', 1), ('cavil', 1), ('ardent', 1), ('heroism', 1), ('conflict', 1), ('ennobl', 1), ('generos', 2), ('mankind', 1), ('shook', 3), ('edifi', 1), ('lace', 1), ('fineri', 1), ('plenti', 3), ('price', 1), ('schoolfellow', 3), ('disdainful', 1), ('revolt', 3), ('paltri', 1), ('sees', 5), ('approves', 1), ('equipag', 1), ('bare', 2), ('defenc', 2), ('dissimilar', 2), ('surnam', 1), ('ladyship', 2), ('compassion', 1), ('widowhood', 1), ('maker', 1), ('uncertainti', 1), ('virtues', 2), ('dearest', 1), ('subdu', 3), ('advers', 1), ('transgress', 2), ('dropt', 1), ('associates', 1), ('practices', 1), ('sunday', 2), ('cleans', 1), ('discreet', 1), ('imperfect', 2), ('incur', 1), ('frank', 2), ('captiv', 1), ('hasti', 2), ('tongu', 2), ('slipp', 2), ('sweeter', 1), ('18', 1), ('februari', 2), ('thicker', 2), ('deliver', 1), ('quicken', 1), ('passport', 1), ('1st', 1), ('grandchildren', 1), ('januari', 1), ('immens', 1), ('vacant', 2), ('gouti', 2), ('gross', 1), ('inattent', 1), ('butcher', 2), ('throat', 3), ('envelop', 1), ('admirer', 1), ('incomprehens', 1), ('million', 1), ('gout', 2), ('decrepitud', 1), ('renter', 1), ('signifi', 1), ('level', 1), ('tribut', 1), ('treacheri', 2), ('leviti', 1), ('akin', 1), ('usag', 2), ('unfair', 3), ('deject', 1), ('inconsol', 1), ('dawn', 1), ('deriv', 3), ('fervour', 1), ('enthusiast', 1), ('literari', 1), ('sentimental', 1), ('beat', 1), ('unshackl', 1), ('senseless', 1), ('shares', 2), ('knote', 1), ('milsom', 5), ('printshop', 1), ('print', 1), ('boat', 4), ('queer', 1), ('painter', 1), ('shapeless', 1), ('cockleshel', 1), ('stuck', 1), ('mightili', 1), ('mountain', 1), ('heartili', 2), ('horsepond', 1), ('lie', 1), ('brigden', 2), ('ye', 2), ('stares', 1), ('tie', 2), ('blister', 1), ('heel', 1), ('shill', 1), ('brand', 1), ('trick', 2), ('archibald', 2), ('kisses', 1), ('younker', 1), ('chair', 8), ('cupboard', 1), ('belmont', 3), ('christian', 3), ('sophys', 1), ('court', 1), ('brain', 2), ('minehead', 1), ('strangest', 1), ('soft', 1), ('augur', 1), ('judges', 1), ('incompat', 1), ('violenc', 1), ('oath', 1), ('murmur', 1), ('whine', 1), ('subsist', 1), ('fling', 1), ('unforg', 1), ('useless', 1), ('bespok', 1), ('parson', 1), ('19', 1), ('shelter', 1), ('molland', 1), ('successful', 1), ('barouch', 1), ('whoever', 1), ('boot', 2), ('thickest', 1), ('descri', 1), ('simpleton', 1), ('unaccount', 1), ('union', 6), ('outer', 1), ('obvious', 1), ('betray', 3), ('bewilder', 1), ('dint', 1), ('portion', 3), ('arch', 3), ('signific', 1), ('feign', 1), ('internal', 2), ('recognit', 1), ('unalter', 1), ('bustl', 2), ('unattend', 1), ('equipp', 1), ('umbrella', 1), ('privileg', 2), ('apologis', 1), ('atkinson', 1), ('wallises', 2), ('wont', 2), ('discrimin', 1), ('insinu', 1), ('likelihood', 1), ('cost', 1), ('shade', 1), ('incess', 1), ('pulteney', 1), ('group', 4), ('fascin', 1), ('climes', 1), ('robb', 1), ('curtain', 3), ('alicia', 2), ('frankland', 1), ('handsomest', 1), ('theatr', 2), ('sole', 2), ('weari', 1), ('stagnat', 1), ('concert', 20), ('patronis', 1), ('forebod', 1), ('fires', 1), ('octagon', 3), ('formid', 1), ('simpl', 2), ('ungraci', 1), ('flage', 1), ('consequences', 2), ('eventu', 1), ('sides', 1), ('capric', 1), ('parental', 1), ('dispar', 2), ('untaught', 1), ('surprises', 2), ('pierc', 2), ('slame', 1), ('buzz', 2), ('deviat', 1), ('mischief', 4), ('obstin', 1), ('rode', 1), ('inspir', 2), ('compat', 2), ('escort', 1), ('penanc', 3), ('demand', 3), ('needful', 1), ('disappear', 3), ('marshal', 1), ('broad', 1), ('sentences', 1), ('vision', 2), ('flurri', 1), ('glimps', 1), ('humbler', 1), ('contigu', 1), ('benches', 2), ('foremost', 1), ('manoeuvr', 1), ('scientific', 1), ('wearisom', 1), ('italian', 5), ('translat', 1), ('invert', 1), ('transpos', 1), ('curtail', 2), ('profici', 1), ('mysteri', 1), ('nameless', 1), ('trivial', 2), ('irish', 2), ('cluster', 1), ('withdrawn', 1), ('recommenc', 1), ('orchestra', 2), ('nearer', 4), ('benefici', 1), ('quest', 1), ('tea', 1), ('wore', 2), ('unproduct', 1), ('reclaim', 1), ('repossess', 1), ('gapes', 1), ('chiefli', 2), ('bench', 3), ('passer', 1), ('larolles', 2), ('inimit', 1), ('abdic', 1), ('irresolut', 2), ('indubit', 1), ('glances', 2), ('own', 1), ('shoulder', 1), ('sung', 1), ('consum', 1), ('accost', 1), ('farewel', 1), ('suce', 2), ('disadvantages', 1), ('incalcul', 1), ('21', 1), ('prepossess', 1), ('prettier', 1), ('wrought', 2), ('eternal', 1), ('purif', 1), ('perfum', 1), ('enquirer', 1), ('laundress', 1), ('notorieti', 1), ('durand', 1), ('unfledg', 1), ('sparrow', 1), ('fede', 1), ('ibbotson', 1), ('maclean', 1), ('misses', 1), ('chooses', 1), ('overspread', 1), ('instantan', 1), ('assum', 3), ('willing', 1), ('imbib', 1), ('offici', 2), ('cruel', 5), ('plead', 2), ('nineti', 1), ('shipwreck', 1), ('astray', 1), ('failur', 1), ('semblanc', 1), ('bye', 1), ('monday', 3), ('unfound', 2), ('messag', 3), ('thoughtful', 3), ('hates', 1), ('surfac', 1), ('unprejudic', 1), ('wari', 1), ('guilti', 1), ('cruelti', 2), ('perpetr', 1), ('compunct', 1), ('hollow', 1), ('injur', 1), ('templ', 1), ('farth', 1), ('purs', 1), ('fore', 1), ('against', 1), ('mare', 1), ('wealth', 1), ('vouch', 1), ('associat', 1), ('rules', 1), ('reprehens', 1), ('grazier', 1), ('amount', 1), ('committ', 1), ('cheap', 1), ('dirt', 1), ('saleabl', 1), ('assert', 5), ('contradictori', 1), ('inlaid', 1), ('box', 5), ('shelf', 1), ('closet', 1), ('unlock', 1), ('immethodical', 1), ('memorandum', 1), ('burn', 1), ('docum', 1), ('tunbridg', 1), ('1803', 1), ('cash', 1), ('surveyor', 1), ('hammer', 1), ('nevertheless', 1), ('equival', 1), ('w', 2), ('wm', 1), ('disrespectful', 1), ('violat', 2), ('testimoni', 2), ('medit', 2), ('authentic', 1), ('oral', 1), ('hypocrit', 2), ('stream', 1), ('rubbish', 1), ('unreserv', 1), ('overflow', 1), ('prior', 1), ('misconceiv', 1), ('supposes', 1), ('historian', 1), ('triumphant', 1), ('doubl', 3), ('fals', 1), ('improb', 1), ('states', 2), ('insinuat', 1), ('plausibl', 1), ('avaric', 1), ('circumv', 1), ('omitt', 3), ('artful', 2), ('detail', 3), ('cunn', 2), ('manoeuvres', 1), ('strenuous', 1), ('opposer', 1), ('favourer', 1), ('matrimoni', 1), ('intrud', 1), ('disingenu', 1), ('recital', 1), ('unqualifi', 2), ('unimpair', 1), ('despis', 1), ('executor', 1), ('heap', 1), ('anguish', 1), ('urgent', 1), ('stern', 1), ('fruitless', 1), ('ingratitud', 1), ('inhuman', 1), ('flagrant', 1), ('crime', 1), ('dwelt', 2), ('grievances', 1), ('sequestr', 1), ('payment', 1), ('incumbrances', 1), ('disabl', 1), ('bodili', 2), ('straiten', 1), ('weaken', 3), ('offices', 2), ('hastili', 3), ('blede', 1), ('giddi', 1), ('disclos', 1), ('22', 1), ('obtrus', 1), ('irremedi', 1), ('unperplex', 1), ('reward', 3), ('extend', 1), ('congratul', 1), ('spell', 1), ('harder', 1), ('omit', 2), ('embargo', 1), ('lift', 1), ('thornberri', 2), ('prime', 2), ('placid', 1), ('licens', 1), ('insincer', 1), ('odious', 1), ('remonstr', 1), ('eclat', 1), ('retrac', 1), ('surmis', 1), ('saturday', 1), ('destruct', 1), ('humiliat', 1), ('decept', 2), ('practis', 1), ('sources', 1), ('complic', 2), ('subtleti', 1), ('friday', 1), ('tiresom', 1), ('poem', 1), ('bores', 1), ('hideous', 1), ('roug', 1), ('preconcert', 1), ('hart', 3), ('regal', 1), ('ostentati', 1), ('besid', 1), ('selves', 1), ('narrat', 1), ('characteristic', 1), ('wedd', 2), ('clothes', 2), ('dorsetshir', 1), ('preserves', 1), ('kingdom', 1), ('proprietor', 1), ('special', 1), ('dimm', 1), ('streighten', 1), ('ambiti', 1), ('misconduct', 1), ('wriggles', 1), ('chick', 1), ('elbow', 1), ('verses', 1), ('illiberal', 1), ('fought', 1), ('brave', 1), ('famous', 1), ('mirror', 1), ('china', 1), ('risen', 1), ('gaieti', 2), ('keys', 1), ('assort', 1), ('trinket', 1), ('pump', 2), ('hotel', 1), ('ensur', 2), ('unsettl', 1), ('parcel', 2), ('spacious', 1), ('argum', 2), ('captious', 1), ('inadvert', 2), ('wanton', 1), ('misconstruct', 2), ('mischiev', 1), ('colonnad', 1), ('unconcern', 2), ('hast', 2), ('pacifi', 1), ('recompos', 1), ('acquitt', 1), ('civilli', 1), ('n', 1), ('forgetful', 1), ('abomin', 2), ('smirk', 1), ('unpardon', 2), ('representatives', 1), ('reign', 1), ('sune', 1), ('scandal', 1), ('jest', 1), ('interpos', 1), ('impedi', 1), ('trembl', 1), ('player', 1), ('ponder', 1), ('wherewith', 1), ('chill', 1), ('freedom', 1), ('hush', 1), ('insipid', 1), ('heartless', 1), ('aton', 1), ('insol', 1), ('sank', 1), ('audibl', 2), ('fatigues', 1), ('toilsom', 1), ('enumer', 1), ('gnaw', 1), ('appeas', 1), ('brood', 1), ('restless', 1), ('guilt', 1), ('overbear', 1), ('lectures', 1), ('imit', 1), ('23', 1), ('explanatori', 1), ('sulta', 1), ('scheherazad', 1), ('unfavour', 1), ('strictest', 1), ('injunct', 1), ('plung', 1), ('unsaf', 1), ('unwis', 1), ('thrill', 1), ('pene', 5), ('enforc', 2), ('denot', 1), ('unfold', 1), ('miniatur', 1), ('paint', 1), ('german', 1), ('artist', 1), ('complianc', 2), ('quiver', 1), ('lipe', 1), ('dote', 1), ('sex', 3), ('prey', 1), ('inconst', 3), ('frames', 1), ('heaviest', 1), ('robust', 1), ('hardship', 2), ('strive', 1), ('anchorag', 1), ('signal', 1), ('vers', 1), ('proverb', 1), ('fickl', 1), ('watches', 1), ('calculates', 1), ('wing', 1), ('treasures', 1), ('forbid', 1), ('undervalu', 1), ('faithful', 1), ('enviabl', 1), ('covet', 1), ('longest', 1), ('sentenc', 2), ('seal', 1), ('closer', 1), ('footstep', 1), ('gloves', 2), ('revolut', 1), ('legibl', 1), ('e', 1), ('devour', 1), ('broke', 1), ('resentful', 1), ('tones', 2), ('undeviat', 1), ('f', 1), ('hither', 1), ('tranquil', 1), ('distract', 1), ('doctor', 2), ('precaut', 1), ('prophesi', 1), ('mischanc', 1), ('damp', 1), ('ungrateful', 1), ('gunsmith', 1), ('familiar', 1), ('pale', 1), ('movem', 1), ('unpack', 1), ('barrel', 1), ('raptur', 1), ('gravel', 1), ('immort', 1), ('slowli', 1), ('saunter', 1), ('politician', 1), ('housekeeper', 1), ('flirt', 1), ('retrospect', 1), ('poignant', 1), ('variat', 1), ('today', 1), ('retard', 1), ('vanquish', 1), ('sheet', 1), ('pour', 1), ('supplant', 1), ('sufferer', 1), ('loveliest', 1), ('medium', 1), ('unrival', 1), ('obstinaci', 1), ('exalt', 1), ('mad', 1), ('regain', 1), ('remors', 1), ('grossli', 1), ('abid', 1), ('entangl', 1), ('blunder', 2), ('homag', 1), ('inexpress', 1), ('felicit', 1), ('inact', 1), ('wednesday', 1), ('retain', 1), ('subsequ', 1), ('energi', 1), ('wisher', 1), ('indel', 1), ('incurr', 1), ('overwhelm', 1), ('steadfast', 1), ('assembl', 1), ('mixtur', 1), ('commonplac', 1), ('shorter', 1), ('delici', 1), ('greenhous', 1), ('imparti', 1), ('decides', 1), ('deliber', 1), ('enemi', 1), ('accent', 1), ('crown', 1), ('earn', 1), ('reverses', 1), ('brook', 1), ('24', 1), ('ultim', 1), ('spendthrift', 1), ('daylight', 1), ('ey', 1), ('struggles', 1), ('indic', 1), ('impetuos', 1), ('suaviti', 1), ('niceti', 1), ('instrumental', 1), ('landaulett', 1), ('headship', 1), ('derang', 1), ('discomfit', 1), ('wheedl', 1), ('caress', 1), ('disproport', 1), ('harmoni', 1), ('sourc', 1), ('petti', 1), ('requit', 1), ('acquisit', 1), ('defianc', 1), ('sunshin', 1), ('national', 1), ('finis', 1)])\n",
            "Total de tipos:  38383\n"
          ],
          "name": "stdout"
        }
      ]
    },
    {
      "cell_type": "markdown",
      "metadata": {
        "id": "cH1qv9f3YHGO"
      },
      "source": [
        "**6. Obtener la lista de tipos por orden de frecuencia (de mayor frecuencia a\n",
        "menor frecuencia).**\n",
        "\n",
        "> Para poder hacer este ejercicio se hizo uso de las funciones que ofrecen los diccionarios de python. Se realizó lo siguiente:\n",
        "1.   Se utilizó la opción *items()*, la cual devolverá una lista de tuplas *clave-valor*\n",
        "2.   *x* representa al elemento de la tupla, por lo que *x[0]* representa la clave y *x[1]* el valor.\n",
        "3.   *key=lambda x:x[1]* indica que la clave de comparación es el valor de los elementos del diccionario. Es decir, en este caso, se tomarán las frecuencias para hacer la comparación.\n",
        "4.    Debido a que se solicita hacer el ordenamiento de mayor a menor frecuencia, se agregó el parámetro *reverse=True*, con lo que se indica que los elementos se ordenarán de forma descendente.\n",
        "\n"
      ]
    },
    {
      "cell_type": "code",
      "metadata": {
        "id": "IJQapsA6XtAP",
        "colab": {
          "base_uri": "https://localhost:8080/"
        },
        "outputId": "c220514b-fcf8-41d8-c496-1a3911128e78"
      },
      "source": [
        "#Realiza ordenamiento por frecuencias\n",
        "freqMm = sorted(freq.items(), key=lambda x: x[1], reverse=True)\n",
        "#Imprime lista con frecuencias parte inicial\n",
        "print(\"Parte inicial: \\n\", freqMm[:150])\n",
        "\n",
        "#Imprime lista con frecuencias última parte\n",
        "print(\"Parte final: \\n\", freqMm[-150:])"
      ],
      "execution_count": 28,
      "outputs": [
        {
          "output_type": "stream",
          "text": [
            "Parte inicial: \n",
            " [('ann', 497), ('could', 451), ('would', 355), ('captain', 305), ('elliot', 295), ('mrs', 291), ('mr', 256), ('ladi', 242), ('one', 238), ('must', 228), ('wentworth', 218), ('much', 205), ('good', 191), ('think', 183), ('littl', 177), ('said', 173), ('charles', 166), ('might', 166), ('well', 164), ('see', 160), ('feel', 158), ('look', 157), ('never', 155), ('go', 153), ('time', 152), ('sire', 149), ('know', 149), ('russel', 148), ('walter', 141), ('noth', 140), ('mari', 138), ('great', 136), ('mane', 134), ('musgrov', 130), ('miss', 128), ('even', 127), ('seem', 124), ('soon', 122), ('quit', 121), ('friend', 120), ('father', 118), ('say', 118), ('though', 117), ('two', 114), ('first', 113), ('make', 111), ('louisa', 111), ('always', 110), ('use', 109), ('come', 108), ('without', 108), ('bath', 104), ('everi', 102), ('like', 102), ('place', 100), ('thought', 100), ('room', 100), ('sister', 99), ('long', 99), ('give', 98), ('wish', 98), ('made', 97), ('happi', 96), ('hous', 94), ('last', 92), ('elizabeth', 90), ('however', 89), ('talk', 89), ('famili', 88), ('acquaint', 88), ('may', 87), ('better', 87), ('year', 86), ('walk', 86), ('mani', 85), ('young', 84), ('moment', 84), ('found', 83), ('home', 83), ('croft', 82), ('felt', 80), ('want', 79), ('away', 78), ('way', 78), ('ever', 78), ('uppercross', 77), ('day', 77), ('sure', 77), ('present', 76), ('manner', 76), ('take', 75), ('harvill', 75), ('still', 74), ('done', 74), ('henrietta', 74), ('kellynch', 73), ('hope', 73), ('believ', 73), ('upon', 72), ('enough', 71), ('back', 70), ('parti', 70), ('benwick', 70), ('smith', 70), ('admiral', 69), ('mind', 68), ('came', 68), ('woman', 67), ('lyme', 67), ('another', 66), ('return', 66), ('clay', 66), ('consider', 65), ('thing', 65), ('heard', 65), ('someth', 64), ('appear', 63), ('call', 63), ('ine', 63), ('perfect', 63), ('hour', 62), ('interest', 61), ('knew', 61), ('almost', 60), ('rather', 60), ('near', 60), ('half', 60), ('certain', 60), ('mean', 60), ('pass', 59), ('possibl', 59), ('love', 59), ('morn', 59), ('marri', 58), ('dear', 58), ('seen', 58), ('yet', 58), ('leav', 58), ('perhap', 57), ('hear', 57), ('shall', 57), ('live', 56), ('part', 56), ('ohe', 56), ('turn', 55), ('word', 55), ('visit', 55), ('poor', 55), ('together', 54), ('other', 54)]\n",
            "Parte final: \n",
            " [('imit', 1), ('23', 1), ('explanatori', 1), ('sulta', 1), ('scheherazad', 1), ('unfavour', 1), ('strictest', 1), ('injunct', 1), ('plung', 1), ('unsaf', 1), ('unwis', 1), ('thrill', 1), ('denot', 1), ('unfold', 1), ('miniatur', 1), ('paint', 1), ('german', 1), ('artist', 1), ('quiver', 1), ('lipe', 1), ('dote', 1), ('prey', 1), ('frames', 1), ('heaviest', 1), ('robust', 1), ('strive', 1), ('anchorag', 1), ('signal', 1), ('vers', 1), ('proverb', 1), ('fickl', 1), ('watches', 1), ('calculates', 1), ('wing', 1), ('treasures', 1), ('forbid', 1), ('undervalu', 1), ('faithful', 1), ('enviabl', 1), ('covet', 1), ('longest', 1), ('seal', 1), ('closer', 1), ('footstep', 1), ('revolut', 1), ('legibl', 1), ('e', 1), ('devour', 1), ('broke', 1), ('resentful', 1), ('undeviat', 1), ('f', 1), ('hither', 1), ('tranquil', 1), ('distract', 1), ('precaut', 1), ('prophesi', 1), ('mischanc', 1), ('damp', 1), ('ungrateful', 1), ('gunsmith', 1), ('familiar', 1), ('pale', 1), ('movem', 1), ('unpack', 1), ('barrel', 1), ('raptur', 1), ('gravel', 1), ('immort', 1), ('slowli', 1), ('saunter', 1), ('politician', 1), ('housekeeper', 1), ('flirt', 1), ('retrospect', 1), ('poignant', 1), ('variat', 1), ('today', 1), ('retard', 1), ('vanquish', 1), ('sheet', 1), ('pour', 1), ('supplant', 1), ('sufferer', 1), ('loveliest', 1), ('medium', 1), ('unrival', 1), ('obstinaci', 1), ('exalt', 1), ('mad', 1), ('regain', 1), ('remors', 1), ('grossli', 1), ('abid', 1), ('entangl', 1), ('homag', 1), ('inexpress', 1), ('felicit', 1), ('inact', 1), ('wednesday', 1), ('retain', 1), ('subsequ', 1), ('energi', 1), ('wisher', 1), ('indel', 1), ('incurr', 1), ('overwhelm', 1), ('steadfast', 1), ('assembl', 1), ('mixtur', 1), ('commonplac', 1), ('shorter', 1), ('delici', 1), ('greenhous', 1), ('imparti', 1), ('decides', 1), ('deliber', 1), ('enemi', 1), ('accent', 1), ('crown', 1), ('earn', 1), ('reverses', 1), ('brook', 1), ('24', 1), ('ultim', 1), ('spendthrift', 1), ('daylight', 1), ('ey', 1), ('struggles', 1), ('indic', 1), ('impetuos', 1), ('suaviti', 1), ('niceti', 1), ('instrumental', 1), ('landaulett', 1), ('headship', 1), ('derang', 1), ('discomfit', 1), ('wheedl', 1), ('caress', 1), ('disproport', 1), ('harmoni', 1), ('sourc', 1), ('petti', 1), ('requit', 1), ('acquisit', 1), ('defianc', 1), ('sunshin', 1), ('national', 1), ('finis', 1)]\n"
          ],
          "name": "stdout"
        }
      ]
    },
    {
      "cell_type": "markdown",
      "metadata": {
        "id": "8WH5Syffxw2Y"
      },
      "source": [
        "## Conclusión\n",
        "\n",
        "> En la salida anterior se puede observar que los resultados son satisfactorios porque se observa al principio el tipo con mayor frecuencia y van disminuyendo. Este ejercicio fue de gran utilidad porque se pudo ver y practicar el proceso de ánilis de corpus. Es interesante ver que se deben de realizar varias modificaciones para no tener demasiados tipos en el corpus, por lo que obtener el Stem de las palabras resulta de gran utilidad."
      ]
    }
  ]
}